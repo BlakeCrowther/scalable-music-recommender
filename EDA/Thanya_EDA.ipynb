{
 "cells": [
  {
   "cell_type": "code",
   "execution_count": 1,
   "id": "2709b012",
   "metadata": {},
   "outputs": [],
   "source": [
    "# Suppress native-hadoop warning\n",
    "!sed -i '$a\\# Add the line for suppressing the NativeCodeLoader warning \\nlog4j.logger.org.apache.hadoop.util.NativeCodeLoader=ERROR,console' /$HADOOP_HOME/etc/hadoop/log4j.properties"
   ]
  },
  {
   "cell_type": "code",
   "execution_count": 2,
   "id": "f10bf095",
   "metadata": {},
   "outputs": [],
   "source": [
    "import pyspark\n",
    "from pyspark.sql import SparkSession\n",
    "from pyspark.sql.functions import split\n",
    "\n",
    "conf = pyspark.SparkConf().setAll([\n",
    "    ('spark.master', 'local[*]'),\n",
    "    ('spark.app.name', 'App Name')])\n",
    "spark = SparkSession.builder.config(conf=conf).getOrCreate()\n"
   ]
  },
  {
   "cell_type": "code",
   "execution_count": 3,
   "id": "9b17c5a5",
   "metadata": {},
   "outputs": [
    {
     "name": "stderr",
     "output_type": "stream",
     "text": [
      "                                                                                \r"
     ]
    },
    {
     "data": {
      "text/plain": [
       "76344627"
      ]
     },
     "execution_count": 3,
     "metadata": {},
     "output_type": "execute_result"
    }
   ],
   "source": [
    "song_ratings = spark.read.text(\"file:///home/work/Project/yahoo_dataset/train_0.txt\").cache()\n",
    "song_ratings.count()"
   ]
  },
  {
   "cell_type": "code",
   "execution_count": 4,
   "id": "2d2add58",
   "metadata": {},
   "outputs": [
    {
     "name": "stdout",
     "output_type": "stream",
     "text": [
      "root\n",
      " |-- value: string (nullable = true)\n",
      "\n"
     ]
    }
   ],
   "source": [
    "song_ratings.printSchema()"
   ]
  },
  {
   "cell_type": "code",
   "execution_count": 5,
   "id": "169764a1",
   "metadata": {},
   "outputs": [
    {
     "name": "stdout",
     "output_type": "stream",
     "text": [
      "+----------+\n",
      "|     value|\n",
      "+----------+\n",
      "| 0\\t166\\t5|\n",
      "|0\\t2245\\t4|\n",
      "|0\\t3637\\t4|\n",
      "|0\\t5580\\t4|\n",
      "|0\\t5859\\t4|\n",
      "+----------+\n",
      "only showing top 5 rows\n",
      "\n"
     ]
    }
   ],
   "source": [
    "song_ratings.show(5)"
   ]
  },
  {
   "cell_type": "code",
   "execution_count": 6,
   "id": "5c797635",
   "metadata": {},
   "outputs": [],
   "source": [
    "song_ratings = song_ratings.withColumn(\"user_id\", split(song_ratings.value, \"\\t\")[0]) \\\n",
    "       .withColumn(\"song_id\", split(song_ratings.value, \"\\t\")[1]) \\\n",
    "       .withColumn(\"ratings\", split(song_ratings.value, \"\\t\")[2]) \\\n",
    "       .drop(\"value\")"
   ]
  },
  {
   "cell_type": "code",
   "execution_count": 7,
   "id": "5daa7913",
   "metadata": {},
   "outputs": [
    {
     "name": "stdout",
     "output_type": "stream",
     "text": [
      "root\n",
      " |-- user_id: string (nullable = true)\n",
      " |-- song_id: string (nullable = true)\n",
      " |-- ratings: string (nullable = true)\n",
      "\n"
     ]
    }
   ],
   "source": [
    "song_ratings.printSchema()"
   ]
  },
  {
   "cell_type": "code",
   "execution_count": 8,
   "id": "346b9813",
   "metadata": {},
   "outputs": [
    {
     "name": "stdout",
     "output_type": "stream",
     "text": [
      "+-------+-------+-------+\n",
      "|user_id|song_id|ratings|\n",
      "+-------+-------+-------+\n",
      "|      0|    166|      5|\n",
      "|      0|   2245|      4|\n",
      "|      0|   3637|      4|\n",
      "|      0|   5580|      4|\n",
      "|      0|   5859|      4|\n",
      "+-------+-------+-------+\n",
      "only showing top 5 rows\n",
      "\n"
     ]
    }
   ],
   "source": [
    "song_ratings.show(5)"
   ]
  },
  {
   "cell_type": "code",
   "execution_count": 9,
   "id": "517da27b",
   "metadata": {},
   "outputs": [
    {
     "data": {
      "text/plain": [
       "136736"
      ]
     },
     "execution_count": 9,
     "metadata": {},
     "output_type": "execute_result"
    }
   ],
   "source": [
    "song_attributes = spark.read.text(\"file:///home/work/Project/yahoo_dataset/song-attributes.txt\").cache()\n",
    "song_attributes.count()"
   ]
  },
  {
   "cell_type": "code",
   "execution_count": 10,
   "id": "4c224a69",
   "metadata": {},
   "outputs": [
    {
     "name": "stdout",
     "output_type": "stream",
     "text": [
      "root\n",
      " |-- value: string (nullable = true)\n",
      "\n"
     ]
    }
   ],
   "source": [
    "song_attributes.printSchema()"
   ]
  },
  {
   "cell_type": "code",
   "execution_count": 11,
   "id": "c1e5c1b7",
   "metadata": {},
   "outputs": [
    {
     "name": "stdout",
     "output_type": "stream",
     "text": [
      "+-------------------+\n",
      "|              value|\n",
      "+-------------------+\n",
      "|  0\\t12070\\t8490\\t0|\n",
      "|1\\t19512\\t7975\\t134|\n",
      "|  2\\t18953\\t3492\\t0|\n",
      "|    3\\t695\\t2653\\t0|\n",
      "|    4\\t243\\t2282\\t0|\n",
      "+-------------------+\n",
      "only showing top 5 rows\n",
      "\n"
     ]
    }
   ],
   "source": [
    "song_attributes.show(5)"
   ]
  },
  {
   "cell_type": "code",
   "execution_count": 12,
   "id": "a0a010b0",
   "metadata": {},
   "outputs": [],
   "source": [
    "song_attributes = song_attributes.withColumn(\"song_id\", split(song_attributes.value, \"\\t\")[0]) \\\n",
    "       .withColumn(\"album_id\", split(song_attributes.value, \"\\t\")[1]) \\\n",
    "       .withColumn(\"artist_id\", split(song_attributes.value, \"\\t\")[2]) \\\n",
    "       .withColumn(\"genre_id\", split(song_attributes.value, \"\\t\")[3]) \\\n",
    "       .drop(\"value\")"
   ]
  },
  {
   "cell_type": "code",
   "execution_count": 13,
   "id": "859e8da9",
   "metadata": {},
   "outputs": [
    {
     "name": "stdout",
     "output_type": "stream",
     "text": [
      "root\n",
      " |-- song_id: string (nullable = true)\n",
      " |-- album_id: string (nullable = true)\n",
      " |-- artist_id: string (nullable = true)\n",
      " |-- genre_id: string (nullable = true)\n",
      "\n"
     ]
    }
   ],
   "source": [
    "song_attributes.printSchema()"
   ]
  },
  {
   "cell_type": "code",
   "execution_count": 14,
   "id": "3ad5661f",
   "metadata": {},
   "outputs": [
    {
     "name": "stdout",
     "output_type": "stream",
     "text": [
      "+-------+--------+---------+--------+\n",
      "|song_id|album_id|artist_id|genre_id|\n",
      "+-------+--------+---------+--------+\n",
      "|      0|   12070|     8490|       0|\n",
      "|      1|   19512|     7975|     134|\n",
      "|      2|   18953|     3492|       0|\n",
      "|      3|     695|     2653|       0|\n",
      "|      4|     243|     2282|       0|\n",
      "+-------+--------+---------+--------+\n",
      "only showing top 5 rows\n",
      "\n"
     ]
    }
   ],
   "source": [
    "song_attributes.show(5)"
   ]
  },
  {
   "cell_type": "code",
   "execution_count": 15,
   "id": "4d1dddd1",
   "metadata": {},
   "outputs": [
    {
     "data": {
      "text/plain": [
       "216"
      ]
     },
     "execution_count": 15,
     "metadata": {},
     "output_type": "execute_result"
    }
   ],
   "source": [
    "genre_hierarchy = spark.read.text(\"file:///home/work/Project/yahoo_dataset/genre-hierarchy.txt\").cache()\n",
    "genre_hierarchy.count()"
   ]
  },
  {
   "cell_type": "code",
   "execution_count": 16,
   "id": "490747a9",
   "metadata": {},
   "outputs": [
    {
     "name": "stdout",
     "output_type": "stream",
     "text": [
      "root\n",
      " |-- value: string (nullable = true)\n",
      "\n"
     ]
    }
   ],
   "source": [
    "genre_hierarchy.printSchema()"
   ]
  },
  {
   "cell_type": "code",
   "execution_count": 17,
   "id": "8a20f920",
   "metadata": {},
   "outputs": [
    {
     "name": "stdout",
     "output_type": "stream",
     "text": [
      "+--------------------+\n",
      "|               value|\n",
      "+--------------------+\n",
      "|    0\\t0\\t1\\tUnknown|\n",
      "|1\\t1\\t1\\tElectron...|\n",
      "|    2\\t1\\t2\\tAmbient|\n",
      "|3\\t2\\t3\\tAmbient Dub|\n",
      "|4\\t2\\t3\\tAmbient ...|\n",
      "+--------------------+\n",
      "only showing top 5 rows\n",
      "\n"
     ]
    }
   ],
   "source": [
    "genre_hierarchy.show(5)"
   ]
  },
  {
   "cell_type": "code",
   "execution_count": 18,
   "id": "5b3035ee",
   "metadata": {},
   "outputs": [],
   "source": [
    "genre_hierarchy = genre_hierarchy.withColumn(\"genre_id\", split(genre_hierarchy.value, \"\\t\")[0]) \\\n",
    "       .withColumn(\"parent_genre_id\", split(genre_hierarchy.value, \"\\t\")[1]) \\\n",
    "       .withColumn(\"level\", split(genre_hierarchy.value, \"\\t\")[2]) \\\n",
    "       .withColumn(\"genre_name\", split(genre_hierarchy.value, \"\\t\")[3]) \\\n",
    "       .drop(\"value\")"
   ]
  },
  {
   "cell_type": "code",
   "execution_count": 19,
   "id": "ef4a3daf",
   "metadata": {},
   "outputs": [
    {
     "name": "stdout",
     "output_type": "stream",
     "text": [
      "root\n",
      " |-- genre_id: string (nullable = true)\n",
      " |-- parent_genre_id: string (nullable = true)\n",
      " |-- level: string (nullable = true)\n",
      " |-- genre_name: string (nullable = true)\n",
      "\n"
     ]
    }
   ],
   "source": [
    "genre_hierarchy.printSchema()"
   ]
  },
  {
   "cell_type": "code",
   "execution_count": 20,
   "id": "b16ac170",
   "metadata": {},
   "outputs": [
    {
     "name": "stdout",
     "output_type": "stream",
     "text": [
      "+--------+---------------+-----+----------------+\n",
      "|genre_id|parent_genre_id|level|      genre_name|\n",
      "+--------+---------------+-----+----------------+\n",
      "|       0|              0|    1|         Unknown|\n",
      "|       1|              1|    1|Electronic/Dance|\n",
      "|       2|              1|    2|         Ambient|\n",
      "|       3|              2|    3|     Ambient Dub|\n",
      "|       4|              2|    3|    Ambient Tech|\n",
      "+--------+---------------+-----+----------------+\n",
      "only showing top 5 rows\n",
      "\n"
     ]
    }
   ],
   "source": [
    "genre_hierarchy.show(5)"
   ]
  },
  {
   "cell_type": "code",
   "execution_count": 21,
   "id": "0d751b6f",
   "metadata": {},
   "outputs": [],
   "source": [
    "df = song_ratings.join(song_attributes, \"song_id\", how=\"inner\")"
   ]
  },
  {
   "cell_type": "code",
   "execution_count": 22,
   "id": "8bb9fc40",
   "metadata": {},
   "outputs": [
    {
     "name": "stdout",
     "output_type": "stream",
     "text": [
      "+-------+-------+-------+--------+---------+--------+\n",
      "|song_id|user_id|ratings|album_id|artist_id|genre_id|\n",
      "+-------+-------+-------+--------+---------+--------+\n",
      "|    166|      0|      5|    5303|     7231|       0|\n",
      "|   2245|      0|      4|   14290|     3265|       0|\n",
      "|   3637|      0|      4|   15761|      629|       0|\n",
      "|   5580|      0|      4|    8324|     4761|       0|\n",
      "|   5859|      0|      4|   19671|     4716|       0|\n",
      "|   7121|      0|      3|    5303|     7372|       0|\n",
      "|  10405|      0|      4|    5303|     7149|       0|\n",
      "|  16794|      0|      5|    2517|     7620|       0|\n",
      "|  17821|      0|      5|    8620|     2020|     135|\n",
      "|  21252|      0|      4|   15761|     2535|       0|\n",
      "+-------+-------+-------+--------+---------+--------+\n",
      "only showing top 10 rows\n",
      "\n"
     ]
    }
   ],
   "source": [
    "df.show(10)"
   ]
  },
  {
   "cell_type": "code",
   "execution_count": 23,
   "id": "e952e96c",
   "metadata": {},
   "outputs": [],
   "source": [
    "df = df.join(genre_hierarchy,\"genre_id\", how=\"inner\")"
   ]
  },
  {
   "cell_type": "code",
   "execution_count": 31,
   "id": "c474aa66",
   "metadata": {},
   "outputs": [
    {
     "name": "stdout",
     "output_type": "stream",
     "text": [
      "+--------+-------+-------+-------+--------+---------+---------------+-----+------------+\n",
      "|genre_id|song_id|user_id|ratings|album_id|artist_id|parent_genre_id|level|  genre_name|\n",
      "+--------+-------+-------+-------+--------+---------+---------------+-----+------------+\n",
      "|       0|    166|      0|      5|    5303|     7231|              0|    1|     Unknown|\n",
      "|       0|   2245|      0|      4|   14290|     3265|              0|    1|     Unknown|\n",
      "|       0|   3637|      0|      4|   15761|      629|              0|    1|     Unknown|\n",
      "|       0|   5580|      0|      4|    8324|     4761|              0|    1|     Unknown|\n",
      "|       0|   5859|      0|      4|   19671|     4716|              0|    1|     Unknown|\n",
      "|       0|   7121|      0|      3|    5303|     7372|              0|    1|     Unknown|\n",
      "|       0|  10405|      0|      4|    5303|     7149|              0|    1|     Unknown|\n",
      "|       0|  16794|      0|      5|    2517|     7620|              0|    1|     Unknown|\n",
      "|     135|  17821|      0|      5|    8620|     2020|            134|    2|Classic Rock|\n",
      "|       0|  21252|      0|      4|   15761|     2535|              0|    1|     Unknown|\n",
      "+--------+-------+-------+-------+--------+---------+---------------+-----+------------+\n",
      "only showing top 10 rows\n",
      "\n"
     ]
    }
   ],
   "source": [
    "df.show(10)"
   ]
  },
  {
   "cell_type": "code",
   "execution_count": null,
   "id": "4c4510b5",
   "metadata": {},
   "outputs": [],
   "source": []
  }
 ],
 "metadata": {
  "kernelspec": {
   "display_name": "Python 3 (ipykernel)",
   "language": "python",
   "name": "python3"
  },
  "language_info": {
   "codemirror_mode": {
    "name": "ipython",
    "version": 3
   },
   "file_extension": ".py",
   "mimetype": "text/x-python",
   "name": "python",
   "nbconvert_exporter": "python",
   "pygments_lexer": "ipython3",
   "version": "3.11.0rc1"
  }
 },
 "nbformat": 4,
 "nbformat_minor": 5
}
