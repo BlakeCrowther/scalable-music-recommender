{
 "cells": [
  {
   "cell_type": "markdown",
   "id": "d1cbc557",
   "metadata": {},
   "source": [
    "# Preliminary EDA"
   ]
  },
  {
   "cell_type": "code",
   "execution_count": 2,
   "id": "2709b012",
   "metadata": {},
   "outputs": [],
   "source": [
    "# Suppress native-hadoop warning\n",
    "!sed -i '$a\\# Add the line for suppressing the NativeCodeLoader warning \\nlog4j.logger.org.apache.hadoop.util.NativeCodeLoader=ERROR,console' /$HADOOP_HOME/etc/hadoop/log4j.properties"
   ]
  },
  {
   "cell_type": "code",
   "execution_count": 52,
   "id": "f10bf095",
   "metadata": {},
   "outputs": [],
   "source": [
    "import pyspark\n",
    "from pyspark.sql import SparkSession\n",
    "from pyspark.sql.functions import split\n",
    "import matplotlib.pyplot as plt\n",
    "import seaborn as sns\n",
    "\n",
    "conf = pyspark.SparkConf().setAll([\n",
    "    ('spark.master', 'local[*]'),\n",
    "    ('spark.app.name', 'App Name')])\n",
    "spark = SparkSession.builder.config(conf=conf).getOrCreate()\n"
   ]
  },
  {
   "cell_type": "markdown",
   "id": "988e135f",
   "metadata": {},
   "source": [
    "#### EDA on songs with ratings train data file"
   ]
  },
  {
   "cell_type": "code",
   "execution_count": 4,
   "id": "9b17c5a5",
   "metadata": {},
   "outputs": [
    {
     "name": "stdout",
     "output_type": "stream",
     "text": [
      "root\n",
      " |-- value: string (nullable = true)\n",
      "\n"
     ]
    }
   ],
   "source": [
    "song_ratings = spark.read.text(\"file:///home/work/Project/yahoo_dataset/train_0.txt\").cache()\n",
    "song_ratings.printSchema()"
   ]
  },
  {
   "cell_type": "code",
   "execution_count": 5,
   "id": "169764a1",
   "metadata": {},
   "outputs": [
    {
     "name": "stderr",
     "output_type": "stream",
     "text": [
      "                                                                                \r"
     ]
    },
    {
     "name": "stdout",
     "output_type": "stream",
     "text": [
      "+----------+\n",
      "|     value|\n",
      "+----------+\n",
      "| 0\\t166\\t5|\n",
      "|0\\t2245\\t4|\n",
      "|0\\t3637\\t4|\n",
      "|0\\t5580\\t4|\n",
      "|0\\t5859\\t4|\n",
      "+----------+\n",
      "only showing top 5 rows\n",
      "\n"
     ]
    }
   ],
   "source": [
    "song_ratings.show(5)"
   ]
  },
  {
   "cell_type": "code",
   "execution_count": 6,
   "id": "5c797635",
   "metadata": {},
   "outputs": [],
   "source": [
    "song_ratings = song_ratings.withColumn(\"user_id\", split(song_ratings.value, \"\\t\")[0]) \\\n",
    "       .withColumn(\"song_id\", split(song_ratings.value, \"\\t\")[1]) \\\n",
    "       .withColumn(\"ratings\", split(song_ratings.value, \"\\t\")[2]) \\\n",
    "       .drop(\"value\")"
   ]
  },
  {
   "cell_type": "code",
   "execution_count": 7,
   "id": "5daa7913",
   "metadata": {},
   "outputs": [
    {
     "name": "stdout",
     "output_type": "stream",
     "text": [
      "root\n",
      " |-- user_id: string (nullable = true)\n",
      " |-- song_id: string (nullable = true)\n",
      " |-- ratings: string (nullable = true)\n",
      "\n"
     ]
    }
   ],
   "source": [
    "song_ratings.printSchema()"
   ]
  },
  {
   "cell_type": "code",
   "execution_count": 8,
   "id": "346b9813",
   "metadata": {},
   "outputs": [
    {
     "name": "stdout",
     "output_type": "stream",
     "text": [
      "+-------+-------+-------+\n",
      "|user_id|song_id|ratings|\n",
      "+-------+-------+-------+\n",
      "|      0|    166|      5|\n",
      "|      0|   2245|      4|\n",
      "|      0|   3637|      4|\n",
      "|      0|   5580|      4|\n",
      "|      0|   5859|      4|\n",
      "+-------+-------+-------+\n",
      "only showing top 5 rows\n",
      "\n"
     ]
    }
   ],
   "source": [
    "song_ratings.show(5)"
   ]
  },
  {
   "cell_type": "markdown",
   "id": "7dfe323b",
   "metadata": {},
   "source": [
    "#### EDA on song attribute file"
   ]
  },
  {
   "cell_type": "code",
   "execution_count": 9,
   "id": "517da27b",
   "metadata": {},
   "outputs": [
    {
     "name": "stdout",
     "output_type": "stream",
     "text": [
      "root\n",
      " |-- value: string (nullable = true)\n",
      "\n"
     ]
    }
   ],
   "source": [
    "song_attributes = spark.read.text(\"file:///home/work/Project/yahoo_dataset/song-attributes.txt\").cache()\n",
    "song_attributes.printSchema()"
   ]
  },
  {
   "cell_type": "code",
   "execution_count": 10,
   "id": "c1e5c1b7",
   "metadata": {},
   "outputs": [
    {
     "name": "stdout",
     "output_type": "stream",
     "text": [
      "+-------------------+\n",
      "|              value|\n",
      "+-------------------+\n",
      "|  0\\t12070\\t8490\\t0|\n",
      "|1\\t19512\\t7975\\t134|\n",
      "|  2\\t18953\\t3492\\t0|\n",
      "|    3\\t695\\t2653\\t0|\n",
      "|    4\\t243\\t2282\\t0|\n",
      "+-------------------+\n",
      "only showing top 5 rows\n",
      "\n"
     ]
    }
   ],
   "source": [
    "song_attributes.show(5)"
   ]
  },
  {
   "cell_type": "code",
   "execution_count": 11,
   "id": "a0a010b0",
   "metadata": {},
   "outputs": [],
   "source": [
    "song_attributes = song_attributes.withColumn(\"song_id\", split(song_attributes.value, \"\\t\")[0]) \\\n",
    "       .withColumn(\"album_id\", split(song_attributes.value, \"\\t\")[1]) \\\n",
    "       .withColumn(\"artist_id\", split(song_attributes.value, \"\\t\")[2]) \\\n",
    "       .withColumn(\"genre_id\", split(song_attributes.value, \"\\t\")[3]) \\\n",
    "       .drop(\"value\")"
   ]
  },
  {
   "cell_type": "code",
   "execution_count": 12,
   "id": "859e8da9",
   "metadata": {},
   "outputs": [
    {
     "name": "stdout",
     "output_type": "stream",
     "text": [
      "root\n",
      " |-- song_id: string (nullable = true)\n",
      " |-- album_id: string (nullable = true)\n",
      " |-- artist_id: string (nullable = true)\n",
      " |-- genre_id: string (nullable = true)\n",
      "\n"
     ]
    }
   ],
   "source": [
    "song_attributes.printSchema()"
   ]
  },
  {
   "cell_type": "code",
   "execution_count": 13,
   "id": "3ad5661f",
   "metadata": {},
   "outputs": [
    {
     "name": "stdout",
     "output_type": "stream",
     "text": [
      "+-------+--------+---------+--------+\n",
      "|song_id|album_id|artist_id|genre_id|\n",
      "+-------+--------+---------+--------+\n",
      "|      0|   12070|     8490|       0|\n",
      "|      1|   19512|     7975|     134|\n",
      "|      2|   18953|     3492|       0|\n",
      "|      3|     695|     2653|       0|\n",
      "|      4|     243|     2282|       0|\n",
      "+-------+--------+---------+--------+\n",
      "only showing top 5 rows\n",
      "\n"
     ]
    }
   ],
   "source": [
    "song_attributes.show(5)"
   ]
  },
  {
   "cell_type": "markdown",
   "id": "1b73c161",
   "metadata": {},
   "source": [
    "#### EDA on genre hierarchy file"
   ]
  },
  {
   "cell_type": "code",
   "execution_count": 14,
   "id": "4d1dddd1",
   "metadata": {},
   "outputs": [
    {
     "name": "stdout",
     "output_type": "stream",
     "text": [
      "root\n",
      " |-- value: string (nullable = true)\n",
      "\n"
     ]
    }
   ],
   "source": [
    "genre_hierarchy = spark.read.text(\"file:///home/work/Project/yahoo_dataset/genre-hierarchy.txt\").cache()\n",
    "genre_hierarchy.printSchema()"
   ]
  },
  {
   "cell_type": "code",
   "execution_count": 15,
   "id": "8a20f920",
   "metadata": {},
   "outputs": [
    {
     "name": "stdout",
     "output_type": "stream",
     "text": [
      "+--------------------+\n",
      "|               value|\n",
      "+--------------------+\n",
      "|    0\\t0\\t1\\tUnknown|\n",
      "|1\\t1\\t1\\tElectron...|\n",
      "|    2\\t1\\t2\\tAmbient|\n",
      "|3\\t2\\t3\\tAmbient Dub|\n",
      "|4\\t2\\t3\\tAmbient ...|\n",
      "+--------------------+\n",
      "only showing top 5 rows\n",
      "\n"
     ]
    }
   ],
   "source": [
    "genre_hierarchy.show(5)"
   ]
  },
  {
   "cell_type": "code",
   "execution_count": 16,
   "id": "5b3035ee",
   "metadata": {},
   "outputs": [],
   "source": [
    "genre_hierarchy = genre_hierarchy.withColumn(\"genre_id\", split(genre_hierarchy.value, \"\\t\")[0]) \\\n",
    "       .withColumn(\"parent_genre_id\", split(genre_hierarchy.value, \"\\t\")[1]) \\\n",
    "       .withColumn(\"level\", split(genre_hierarchy.value, \"\\t\")[2]) \\\n",
    "       .withColumn(\"genre_name\", split(genre_hierarchy.value, \"\\t\")[3]) \\\n",
    "       .drop(\"value\")"
   ]
  },
  {
   "cell_type": "code",
   "execution_count": 17,
   "id": "ef4a3daf",
   "metadata": {},
   "outputs": [
    {
     "name": "stdout",
     "output_type": "stream",
     "text": [
      "root\n",
      " |-- genre_id: string (nullable = true)\n",
      " |-- parent_genre_id: string (nullable = true)\n",
      " |-- level: string (nullable = true)\n",
      " |-- genre_name: string (nullable = true)\n",
      "\n"
     ]
    }
   ],
   "source": [
    "genre_hierarchy.printSchema()"
   ]
  },
  {
   "cell_type": "code",
   "execution_count": 18,
   "id": "b16ac170",
   "metadata": {},
   "outputs": [
    {
     "name": "stdout",
     "output_type": "stream",
     "text": [
      "+--------+---------------+-----+----------------+\n",
      "|genre_id|parent_genre_id|level|      genre_name|\n",
      "+--------+---------------+-----+----------------+\n",
      "|       0|              0|    1|         Unknown|\n",
      "|       1|              1|    1|Electronic/Dance|\n",
      "|       2|              1|    2|         Ambient|\n",
      "|       3|              2|    3|     Ambient Dub|\n",
      "|       4|              2|    3|    Ambient Tech|\n",
      "+--------+---------------+-----+----------------+\n",
      "only showing top 5 rows\n",
      "\n"
     ]
    }
   ],
   "source": [
    "genre_hierarchy.show(5)"
   ]
  },
  {
   "cell_type": "markdown",
   "id": "875d06fe",
   "metadata": {},
   "source": [
    "#### Joining all files together based on song_id and genre_id"
   ]
  },
  {
   "cell_type": "code",
   "execution_count": 19,
   "id": "0d751b6f",
   "metadata": {},
   "outputs": [],
   "source": [
    "df = song_ratings.join(song_attributes, \"song_id\", how=\"inner\")\n",
    "df = df.join(genre_hierarchy,\"genre_id\", how=\"inner\")"
   ]
  },
  {
   "cell_type": "code",
   "execution_count": 50,
   "id": "65a9d83e",
   "metadata": {},
   "outputs": [
    {
     "name": "stderr",
     "output_type": "stream",
     "text": [
      "[Stage 395:============================================>           (8 + 2) / 10]\r"
     ]
    },
    {
     "name": "stdout",
     "output_type": "stream",
     "text": [
      "+-------+-----------------+------------------+------------------+------------------+------------------+------------------+-----------------+\n",
      "|summary|         genre_id|           song_id|           user_id|           ratings|          album_id|         artist_id|       genre_name|\n",
      "+-------+-----------------+------------------+------------------+------------------+------------------+------------------+-----------------+\n",
      "|  count|         76344627|          76344627|          76344627|          76344627|          76344627|          76344627|         76344627|\n",
      "|   mean|16.77831798169634| 68279.70831871378|100040.94482474844|3.1534895834909245|10362.502501191078| 4776.541211367763|             NULL|\n",
      "| stddev|43.07284877305486|39461.312338210184| 57753.04973969481| 1.599535981362968| 5905.052390982918|2681.1466705977155|             NULL|\n",
      "|    min|                0|                 0|                 0|                 1|                 0|                 0|Adult Alternative|\n",
      "|    max|               88|             99999|             99999|                 5|              9999|               999|            World|\n",
      "+-------+-----------------+------------------+------------------+------------------+------------------+------------------+-----------------+\n",
      "\n"
     ]
    },
    {
     "name": "stderr",
     "output_type": "stream",
     "text": [
      "                                                                                \r"
     ]
    }
   ],
   "source": [
    "df = df.drop('parent_genre_id').drop('level')\n",
    "df.describe().show()"
   ]
  },
  {
   "cell_type": "code",
   "execution_count": 36,
   "id": "ed36a0c5",
   "metadata": {},
   "outputs": [
    {
     "name": "stderr",
     "output_type": "stream",
     "text": [
      "                                                                                \r"
     ]
    },
    {
     "data": {
      "text/plain": [
       "{'genre_id': 0,\n",
       " 'song_id': 0,\n",
       " 'user_id': 0,\n",
       " 'ratings': 0,\n",
       " 'album_id': 0,\n",
       " 'artist_id': 0,\n",
       " 'parent_genre_id': 0,\n",
       " 'level': 0,\n",
       " 'genre_name': 0}"
      ]
     },
     "execution_count": 36,
     "metadata": {},
     "output_type": "execute_result"
    }
   ],
   "source": [
    "from pyspark.sql.functions import col\n",
    "\n",
    "null_columns = {column: df.filter(col(column).isNull()).count() for column in df.columns}\n",
    "null_columns"
   ]
  },
  {
   "cell_type": "code",
   "execution_count": 51,
   "id": "dea6a5f1",
   "metadata": {},
   "outputs": [
    {
     "name": "stdout",
     "output_type": "stream",
     "text": [
      "+--------+-------+-------+-------+--------+---------+------------+\n",
      "|genre_id|song_id|user_id|ratings|album_id|artist_id|  genre_name|\n",
      "+--------+-------+-------+-------+--------+---------+------------+\n",
      "|       0|    166|      0|      5|    5303|     7231|     Unknown|\n",
      "|       0|   2245|      0|      4|   14290|     3265|     Unknown|\n",
      "|       0|   3637|      0|      4|   15761|      629|     Unknown|\n",
      "|       0|   5580|      0|      4|    8324|     4761|     Unknown|\n",
      "|       0|   5859|      0|      4|   19671|     4716|     Unknown|\n",
      "|       0|   7121|      0|      3|    5303|     7372|     Unknown|\n",
      "|       0|  10405|      0|      4|    5303|     7149|     Unknown|\n",
      "|       0|  16794|      0|      5|    2517|     7620|     Unknown|\n",
      "|     135|  17821|      0|      5|    8620|     2020|Classic Rock|\n",
      "|       0|  21252|      0|      4|   15761|     2535|     Unknown|\n",
      "+--------+-------+-------+-------+--------+---------+------------+\n",
      "only showing top 10 rows\n",
      "\n"
     ]
    }
   ],
   "source": [
    "df.show(10)"
   ]
  },
  {
   "cell_type": "markdown",
   "id": "96a1f91b",
   "metadata": {},
   "source": []
  },
  {
   "cell_type": "code",
   "execution_count": 45,
   "id": "7572ec56",
   "metadata": {},
   "outputs": [
    {
     "name": "stderr",
     "output_type": "stream",
     "text": [
      "[Stage 382:=======================================>                (7 + 3) / 10]\r"
     ]
    },
    {
     "name": "stdout",
     "output_type": "stream",
     "text": [
      "+----------------+--------+\n",
      "|      genre_name|   count|\n",
      "+----------------+--------+\n",
      "|           World|   10899|\n",
      "|      Indie Rock|    2949|\n",
      "|     Classic R&B|   64083|\n",
      "|           Latin|   44735|\n",
      "|      Modern R&B|    2518|\n",
      "|           Metal|   27826|\n",
      "|Electronic/Dance|   19236|\n",
      "|            Rock| 5293264|\n",
      "|     Death Metal|    4710|\n",
      "|            Jazz|   67980|\n",
      "|     Early Blues|    2379|\n",
      "|       Pop Metal|   28399|\n",
      "|  Country Comedy|     281|\n",
      "|         New Age|    7730|\n",
      "|            Folk|   80525|\n",
      "|         Unknown|65499138|\n",
      "|          Lounge|      99|\n",
      "|         Holiday|    2337|\n",
      "|     Modern Rock|   29596|\n",
      "|  Minimal Techno|     158|\n",
      "+----------------+--------+\n",
      "only showing top 20 rows\n",
      "\n"
     ]
    },
    {
     "name": "stderr",
     "output_type": "stream",
     "text": [
      "                                                                                \r"
     ]
    }
   ],
   "source": [
    "df.groupBy('genre_name').count().show()"
   ]
  }
 ],
 "metadata": {
  "kernelspec": {
   "display_name": "Python 3 (ipykernel)",
   "language": "python",
   "name": "python3"
  },
  "language_info": {
   "codemirror_mode": {
    "name": "ipython",
    "version": 3
   },
   "file_extension": ".py",
   "mimetype": "text/x-python",
   "name": "python",
   "nbconvert_exporter": "python",
   "pygments_lexer": "ipython3",
   "version": "3.11.0rc1"
  }
 },
 "nbformat": 4,
 "nbformat_minor": 5
}
