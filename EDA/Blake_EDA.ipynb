{
 "cells": [
  {
   "cell_type": "markdown",
   "metadata": {},
   "source": [
    "# Introduction"
   ]
  },
  {
   "cell_type": "code",
   "execution_count": 54,
   "metadata": {},
   "outputs": [],
   "source": [
    "# Suppress native-hadoop warning\n",
    "!sed -i '$a\\# Add the line for suppressing the NativeCodeLoader warning \\nlog4j.logger.org.apache.hadoop.util.NativeCodeLoader=ERROR,console' /$HADOOP_HOME/etc/hadoop/log4j.properties"
   ]
  },
  {
   "cell_type": "code",
   "execution_count": 55,
   "metadata": {},
   "outputs": [],
   "source": [
    "import pyspark\n",
    "from pyspark.sql import SparkSession, functions as F\n",
    "import pandas as pd\n",
    "import matplotlib.pyplot as plt\n",
    "import seaborn as sns"
   ]
  },
  {
   "cell_type": "code",
   "execution_count": 56,
   "metadata": {},
   "outputs": [
    {
     "name": "stdout",
     "output_type": "stream",
     "text": [
      "('spark.app.submitTime', '1714713131213')\n",
      "('spark.master', 'local[8]')\n",
      "('spark.submit.pyFiles', '')\n",
      "('spark.submit.deployMode', 'client')\n",
      "('spark.app.name', 'MusicRecommender')\n",
      "('spark.ui.showConsoleProgress', 'true')\n",
      "Executor Memory: None\n",
      "Executor Cores: None\n",
      "Default Parallelism: None\n"
     ]
    }
   ],
   "source": [
    "conf = pyspark.SparkConf()\n",
    "settings = conf.getAll()\n",
    "\n",
    "# Current Spark settings\n",
    "for s in settings:\n",
    "    print(s)\n",
    "executor_memory = conf.get(\"spark.executor.memory\")\n",
    "executor_cores = conf.get(\"spark.executor.cores\")\n",
    "default_parallelism = conf.get(\"spark.default.parallelism\")\n",
    "print(f\"Executor Memory: {executor_memory}\")\n",
    "print(f\"Executor Cores: {executor_cores}\")\n",
    "print(f\"Default Parallelism: {default_parallelism}\")\n",
    "\n",
    "# Set Spark Settings\n",
    "conf = pyspark.SparkConf().setAll([\n",
    "('spark.master', 'local[8]'),\n",
    "('spark.app.name', 'MusicRecommender')])\n",
    "spark = SparkSession.builder.config(conf=conf).getOrCreate()"
   ]
  },
  {
   "cell_type": "code",
   "execution_count": 57,
   "metadata": {},
   "outputs": [],
   "source": [
    "# Config Variables\n",
    "user = \"hadoop\"\n",
    "HDFS_DATA = f\"hdfs:///user/{user}/data\"\n",
    "partitions = 10"
   ]
  },
  {
   "cell_type": "code",
   "execution_count": 58,
   "metadata": {},
   "outputs": [
    {
     "name": "stderr",
     "output_type": "stream",
     "text": [
      "                                                                                \r"
     ]
    }
   ],
   "source": [
    "def load_file_from_hdfs(file_name):\n",
    "    hdfs_path = f\"{HDFS_DATA}/{file_name}\"\n",
    "    return spark.read.csv(hdfs_path, sep=\"\\t\", header=False, inferSchema=True)\n",
    "\n",
    "\n",
    "train_files = [f\"train/train_{i}.txt\" for i in range(partitions)]\n",
    "test_files = [f\"test/test_{i}.txt\" for i in range(partitions)]\n",
    "\n",
    "train_data = None\n",
    "test_data = None\n",
    "\n",
    "for i, file in enumerate(train_files):\n",
    "    train_partition_df = load_file_from_hdfs(file)\n",
    "    train_partition_df = train_partition_df.withColumnsRenamed({\"_c0\": \"user_id\", \"_c1\": \"song_id\", \"_c2\": \"rating\"})\n",
    "    # Add a partition column\n",
    "    train_partition_df = train_partition_df.withColumn(\"partition_id\", F.lit(i))\n",
    "    # Comhbine all the partitions\n",
    "    if train_data is None:\n",
    "        train_data = train_partition_df\n",
    "    else:\n",
    "        train_data = train_data.union(train_partition_df)\n",
    "    \n",
    "for i, file in enumerate(test_files):\n",
    "    test_partition_df = load_file_from_hdfs(file)\n",
    "    test_partition_df = test_partition_df.withColumnsRenamed({\"_c0\": \"user_id\", \"_c1\": \"song_id\", \"_c2\": \"rating\"})\n",
    "    # Add a partition column\n",
    "    test_partition_df = test_partition_df.withColumn(\"partition_id\", F.lit(i))\n",
    "    # Comhbine all the partitions\n",
    "    if test_data is None:\n",
    "        test_data = test_partition_df\n",
    "    else:\n",
    "        test_data = test_data.union(test_partition_df)\n",
    "        \n",
    "total_dataset = train_data.union(test_data).cache()\n",
    "\n",
    "    "
   ]
  },
  {
   "cell_type": "code",
   "execution_count": 59,
   "metadata": {},
   "outputs": [],
   "source": [
    "def perform_eda(df):\n",
    "    df.summary().show()\n",
    "    \n",
    "    ratings = df.count()\n",
    "    print(\"Number of ratings: \", ratings)\n",
    "    \n",
    "    # # Duplicates and missing values\n",
    "    # df = df.dropDuplicates()\n",
    "    # df = df.dropna()\n",
    "    # print(\"Number of ratings after removing duplicates and missing values: \", df.count())\n",
    "    \n",
    "    users = df.groupBy(\"user_id\").count()\n",
    "    print(\"Number of unique users: \", users.count())\n",
    "\n",
    "    songs = df.groupBy(\"song_id\").count()\n",
    "    print(\"Number of unique songs: \", songs.count())\n",
    "\n",
    "    return df\n",
    "\n",
    "def plot_user_ratings_distribution(df, ax=None, partition_id=None):\n",
    "    colors = ['b', 'g', 'r', 'c', 'm', 'y', 'k']  # define a list of colors\n",
    "    \n",
    "    # Select rating column\n",
    "    total_ratings = df.select(\"rating\")\n",
    "    print(total_ratings.summary().show())\n",
    "\n",
    "    # user_rating_counts = df.groupBy(\"user_id\").count()\n",
    "    # user_rating_counts = user_rating_counts.withColumnRenamed(\"count\", \"rating_count\")\n",
    "    # user_rating_counts = user_rating_counts.groupBy(\"rating_count\").count()\n",
    "    # user_rating_counts = user_rating_counts.withColumnRenamed(\"count\", \"user_count\")\n",
    "    # user_rating_counts = user_rating_counts.sort(\"rating_count\")\n",
    "    \n",
    "    user_rating_counts = user_rating_counts.toPandas()\n",
    "    \n",
    "    # Single plot\n",
    "    # plt.figure(figsize=(10, 6))\n",
    "    # sns.violinplot(data=user_rating_counts['rating_count'])\n",
    "    # plt.title(\"Ratings Per User Distribution\")\n",
    "    # plt.xlabel(\"Users\")\n",
    "    # plt.ylabel(\"Ratings\")\n",
    "    # plt.show()\n",
    "    \n",
    "    # bar plot \n",
    "    # plt.figure(figsize=(10, 6))\n",
    "    # sns.barplot(x=\"user_count\", y=\"rating_count\", data=user_rating_counts)\n",
    "    # plt.title(\"Ratings Per User Distribution\")\n",
    "    # plt.xlabel(\"Users\")\n",
    "    # plt.ylabel(\"Ratings\")\n",
    "    \n",
    "    # box plot\n",
    "    plt.figure(figsize=(10, 6))\n",
    "    sns.boxplot(x=\"rating_count\", data=user_rating_counts)\n",
    "    plt.title(\"Ratings Per User Distribution\")\n",
    "    plt.xlabel(\"Ratings\")\n",
    "    plt.ylabel(\"Users\")\n",
    "    \n",
    "def plot_rating_distribution(df):\n",
    "    plt.figure(figsize=(10, 6))\n",
    "    ratings = df.groupBy(\"rating\").count().sort(\"rating\")\n",
    "    colors = sns.color_palette(\"RdYlGn\", 5)\n",
    "    ratings = ratings.toPandas()\n",
    "    sns.barplot(x=\"rating\", y=\"count\", data=ratings, palette=colors)\n",
    "    plt.title(\"Rating Distribution\")\n",
    "    # show y axis with integer values with commas\n",
    "    plt.gca().get_yaxis().set_major_formatter(plt.FuncFormatter(lambda x, _: format(int(x), ',')))\n",
    "    # Color from red to green\n",
    "    plt.show()\n",
    "    "
   ]
  },
  {
   "cell_type": "markdown",
   "metadata": {},
   "source": [
    "# Training"
   ]
  },
  {
   "cell_type": "code",
   "execution_count": 14,
   "metadata": {},
   "outputs": [],
   "source": [
    "# Show the first 5 rows of the train data\n",
    "# train_data.show(5)"
   ]
  },
  {
   "cell_type": "code",
   "execution_count": 60,
   "metadata": {},
   "outputs": [
    {
     "name": "stderr",
     "output_type": "stream",
     "text": [
      "                                                                                \r"
     ]
    },
    {
     "name": "stdout",
     "output_type": "stream",
     "text": [
      "+-------+-----------------+------------------+------------------+-----------------+\n",
      "|summary|          user_id|           song_id|            rating|     partition_id|\n",
      "+-------+-----------------+------------------+------------------+-----------------+\n",
      "|  count|        717872016|         717872016|         717872016|        717872016|\n",
      "|   mean| 911836.872425172| 68273.60973778367| 3.164953702555248|4.064530349376371|\n",
      "| stddev|525987.5660109359|39464.122210434245|1.6012943500215018|2.623926802093038|\n",
      "|    min|                0|                 0|                 1|                0|\n",
      "|    25%|           456056|             34381|                 1|                2|\n",
      "|    50%|           911298|             68278|                 3|                4|\n",
      "|    75%|          1366937|            102348|                 5|                6|\n",
      "|    max|          1823178|            136735|                 5|                9|\n",
      "+-------+-----------------+------------------+------------------+-----------------+\n",
      "\n"
     ]
    },
    {
     "name": "stderr",
     "output_type": "stream",
     "text": [
      "                                                                                \r"
     ]
    },
    {
     "name": "stdout",
     "output_type": "stream",
     "text": [
      "Number of ratings:  717872016\n"
     ]
    },
    {
     "name": "stderr",
     "output_type": "stream",
     "text": [
      "                                                                                \r"
     ]
    },
    {
     "name": "stdout",
     "output_type": "stream",
     "text": [
      "Number of unique users:  1823179\n"
     ]
    },
    {
     "name": "stderr",
     "output_type": "stream",
     "text": [
      "[Stage 352:==================================================>  (157 + 8) / 165]\r"
     ]
    },
    {
     "name": "stdout",
     "output_type": "stream",
     "text": [
      "Number of unique songs:  136736\n"
     ]
    },
    {
     "name": "stderr",
     "output_type": "stream",
     "text": [
      "                                                                                \r"
     ]
    },
    {
     "data": {
      "text/plain": [
       "DataFrame[user_id: int, song_id: int, rating: int, partition_id: int]"
      ]
     },
     "execution_count": 60,
     "metadata": {},
     "output_type": "execute_result"
    }
   ],
   "source": [
    "# Total dataset EDA \n",
    "# perform_eda(total_dataset)\n",
    "# plot_rating_distribution(total_dataset)\n",
    "perform_eda(total_dataset)\n"
   ]
  },
  {
   "cell_type": "code",
   "execution_count": 53,
   "metadata": {},
   "outputs": [
    {
     "name": "stderr",
     "output_type": "stream",
     "text": [
      "                                                                                \r"
     ]
    },
    {
     "data": {
      "image/png": "[encoded data removed]",
      "text/plain": [
       "<Figure size 1000x600 with 1 Axes>"
      ]
     },
     "metadata": {},
     "output_type": "display_data"
    }
   ],
   "source": [
    "plot_user_ratings_distribution(total_dataset)"
   ]
  },
  {
   "cell_type": "code",
   "execution_count": null,
   "metadata": {},
   "outputs": [],
   "source": [
    "fig, ax = plt.subplots(nrows=2,ncols=5, figsize=(20, 10))\n",
    "fig.suptitle('Ratings per User Distribution', fontsize=16)\n",
    "# plt.figure(figsize=(20, 15))\n",
    "\n",
    "for i in range(10):\n",
    "    row = i // 2\n",
    "    col = i % 2\n",
    "    print(f\"Processing train data partition {i}\")\n",
    "    plot_user_ratings_distribution(train_data[i], ax=ax[col, row], partition_id=i)\n",
    "    # plot_user_ratings_distribution(train_data[i], partition_id=i)\n",
    "plt.tight_layout()\n",
    "plt.subplots_adjust(top=0.9)\n",
    "plt.show()"
   ]
  },
  {
   "cell_type": "code",
   "execution_count": null,
   "metadata": {},
   "outputs": [],
   "source": []
  },
  {
   "cell_type": "markdown",
   "metadata": {
    "vscode": {
     "languageId": "plaintext"
    }
   },
   "source": [
    "# Test"
   ]
  },
  {
   "cell_type": "code",
   "execution_count": null,
   "metadata": {},
   "outputs": [],
   "source": [
    "# for i in range(len(test_data)):\n",
    "#     print(f\"Processing test data partition {i}\")\n",
    "#     test_data[i] = perform_data_preprocessing(test_data[i])\n",
    "#     # perform_eda(test_data[i])"
   ]
  },
  {
   "cell_type": "code",
   "execution_count": null,
   "metadata": {},
   "outputs": [],
   "source": [
    "# spark.stop()"
   ]
  }
 ],
 "metadata": {
  "kernelspec": {
   "display_name": "Python 3 (ipykernel)",
   "language": "python",
   "name": "python3"
  }
 },
 "nbformat": 4,
 "nbformat_minor": 2
}
