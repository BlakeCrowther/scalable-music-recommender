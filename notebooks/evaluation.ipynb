{
 "cells": [
  {
   "cell_type": "code",
   "execution_count": 1,
   "metadata": {},
   "outputs": [],
   "source": [
    "%load_ext autoreload\n",
    "%autoreload 2"
   ]
  },
  {
   "cell_type": "code",
   "execution_count": 2,
   "metadata": {},
   "outputs": [],
   "source": [
    "# Suppress native-hadoop warning\n",
    "!sed -i '$a\\# Add the line for suppressing the NativeCodeLoader warning \\nlog4j.logger.org.apache.hadoop.util.NativeCodeLoader=ERROR,console' /$HADOOP_HOME/etc/hadoop/log4j.properties"
   ]
  },
  {
   "cell_type": "code",
   "execution_count": 3,
   "metadata": {},
   "outputs": [],
   "source": [
    "import sys\n",
    "sys.path.append('/home/work')\n",
    "\n",
    "BASE_DIR = '/home/work'"
   ]
  },
  {
   "cell_type": "code",
   "execution_count": 4,
   "metadata": {},
   "outputs": [],
   "source": [
    "import pyspark\n",
    "from pyspark.sql import SparkSession, functions as F\n",
    "from pyspark.ml import Pipeline\n",
    "from pyspark.ml.recommendation import ALSModel\n",
    "from pyspark.ml.evaluation import RegressionEvaluator\n",
    "from pyspark.sql.types import StructType, StructField, StringType, IntegerType, FloatType\n",
    "\n",
    "from data.utils.data_loader import load_from_hdfs\n",
    "from models.utils import load_model\n",
    "from models.evaluation_metrics import calculate_rmse, calculate_mae, calculate_song_coverage, calculate_user_coverage"
   ]
  },
  {
   "cell_type": "code",
   "execution_count": 5,
   "metadata": {},
   "outputs": [
    {
     "name": "stdout",
     "output_type": "stream",
     "text": [
      "('spark.master', 'local[4]')\n",
      "('spark.driver.port', '36169')\n",
      "('spark.executor.id', 'driver')\n",
      "('spark.driver.extraJavaOptions', '-Djava.net.preferIPv6Addresses=false -XX:+IgnoreUnrecognizedVMOptions --add-opens=java.base/java.lang=ALL-UNNAMED --add-opens=java.base/java.lang.invoke=ALL-UNNAMED --add-opens=java.base/java.lang.reflect=ALL-UNNAMED --add-opens=java.base/java.io=ALL-UNNAMED --add-opens=java.base/java.net=ALL-UNNAMED --add-opens=java.base/java.nio=ALL-UNNAMED --add-opens=java.base/java.util=ALL-UNNAMED --add-opens=java.base/java.util.concurrent=ALL-UNNAMED --add-opens=java.base/java.util.concurrent.atomic=ALL-UNNAMED --add-opens=java.base/sun.nio.ch=ALL-UNNAMED --add-opens=java.base/sun.nio.cs=ALL-UNNAMED --add-opens=java.base/sun.security.action=ALL-UNNAMED --add-opens=java.base/sun.util.calendar=ALL-UNNAMED --add-opens=java.security.jgss/sun.security.krb5=ALL-UNNAMED -Djdk.reflect.useDirectMethodHandle=false')\n",
      "('spark.app.submitTime', '1716700201254')\n",
      "('spark.app.startTime', '1716700201396')\n",
      "('spark.rdd.compress', 'True')\n",
      "('spark.serializer.objectStreamReset', '100')\n",
      "('spark.app.id', 'local-1716700202119')\n",
      "('spark.submit.pyFiles', '')\n",
      "('spark.submit.deployMode', 'client')\n",
      "('spark.driver.host', '185262dad223')\n",
      "('spark.app.name', 'MusicRecommender')\n",
      "('spark.driver.memory', '14g')\n",
      "('spark.ui.showConsoleProgress', 'true')\n",
      "('spark.executor.extraJavaOptions', '-Djava.net.preferIPv6Addresses=false -XX:+IgnoreUnrecognizedVMOptions --add-opens=java.base/java.lang=ALL-UNNAMED --add-opens=java.base/java.lang.invoke=ALL-UNNAMED --add-opens=java.base/java.lang.reflect=ALL-UNNAMED --add-opens=java.base/java.io=ALL-UNNAMED --add-opens=java.base/java.net=ALL-UNNAMED --add-opens=java.base/java.nio=ALL-UNNAMED --add-opens=java.base/java.util=ALL-UNNAMED --add-opens=java.base/java.util.concurrent=ALL-UNNAMED --add-opens=java.base/java.util.concurrent.atomic=ALL-UNNAMED --add-opens=java.base/sun.nio.ch=ALL-UNNAMED --add-opens=java.base/sun.nio.cs=ALL-UNNAMED --add-opens=java.base/sun.security.action=ALL-UNNAMED --add-opens=java.base/sun.util.calendar=ALL-UNNAMED --add-opens=java.security.jgss/sun.security.krb5=ALL-UNNAMED -Djdk.reflect.useDirectMethodHandle=false')\n"
     ]
    }
   ],
   "source": [
    "# Set Spark Settings\n",
    "conf = pyspark.SparkConf().setAll([\n",
    "    ('spark.master', 'local[4]'),\n",
    "    ('spark.app.name', 'MusicRecommender'),\n",
    "    ('spark.driver.memory','14g'),\n",
    "])\n",
    "spark = SparkSession.builder.config(conf=conf).getOrCreate()\n",
    "\n",
    "# Print Spark Settings\n",
    "settings = spark.sparkContext.getConf().getAll()\n",
    "for s in settings:\n",
    "    print(s)"
   ]
  },
  {
   "cell_type": "markdown",
   "metadata": {},
   "source": [
    "## Evaluate Models"
   ]
  },
  {
   "cell_type": "code",
   "execution_count": 6,
   "metadata": {},
   "outputs": [
    {
     "name": "stderr",
     "output_type": "stream",
     "text": [
      "                                                                                \r"
     ]
    }
   ],
   "source": [
    "# Results DataFrame\n",
    "results = []\n",
    "model_dirs = ['als_model']\n",
    "model_types = ['ALS']\n",
    "datasets = ['raw']\n",
    "partitions = [1]\n",
    "\n",
    "# Static Variables\n",
    "total_size = 717872016\n",
    "total_users = 1823179\n",
    "total_songs = 136736\n",
    "\n",
    "for model_dir, model_type in zip(model_dirs, model_types):\n",
    "    for dataset in datasets: \n",
    "        for par in partitions:            \n",
    "            # Load Data\n",
    "            train_data, test_data = load_from_hdfs(dataset, par)\n",
    "            \n",
    "            # Load Model\n",
    "            model_path = f'file://{BASE_DIR}/models/{model_dir}'\n",
    "            model = load_model(model_type, model_path)\n",
    "            \n",
    "            # Get Predictions\n",
    "            predictions = model.transform(test_data)\n",
    "            \n",
    "            # Size Metrics\n",
    "            train_size = train_data.count()\n",
    "            test_size = test_data.count()\n",
    "            \n",
    "            # User Metrics\n",
    "            train_user_ids = train_data.select('user_id').distinct()\n",
    "            test_user_ids = test_data.select('user_id').distinct()\n",
    "            prediction_user_ids = predictions.select('user_id').distinct()\n",
    "            unique_user_ids = train_user_ids.union(test_user_ids).distinct()\n",
    "            train_users = train_user_ids.count()\n",
    "            test_users = test_user_ids.count()\n",
    "            unique_users = unique_user_ids.count()\n",
    "            prediction_users = prediction_user_ids.count()\n",
    "            \n",
    "            # Song Metrics\n",
    "            train_song_ids = train_data.select('song_id').distinct()\n",
    "            test_song_ids = test_data.select('song_id').distinct()\n",
    "            prediction_song_ids = predictions.select('song_id').distinct()\n",
    "            unique_song_ids = train_song_ids.union(test_song_ids).distinct()\n",
    "            train_songs = train_song_ids.count()\n",
    "            test_songs = test_song_ids.count()\n",
    "            prediction_songs = prediction_song_ids.count()\n",
    "            unique_songs = unique_song_ids.count()\n",
    "                                    \n",
    "            # Coverage Metrics\n",
    "            song_coverage = calculate_song_coverage(train_songs, prediction_songs)\n",
    "            overall_song_coverage = calculate_song_coverage(total_songs, prediction_songs)\n",
    "            user_coverage = calculate_user_coverage(train_users, prediction_users)\n",
    "            overall_user_coverage = calculate_user_coverage(total_users, prediction_users)\n",
    "            \n",
    "            # Evaluation Metrics\n",
    "            rmse = calculate_rmse(predictions)\n",
    "            mae = calculate_mae(predictions)\n",
    "            \n",
    "            results.append({\n",
    "                'Model': model_type,\n",
    "                'Dataset': dataset,\n",
    "                'Users(Train:Test)': f'{train_users} : {test_users}',\n",
    "                'Songs(Train:Test)': f'{train_songs} : {test_songs}',\n",
    "                'User Coverage(Train/Test:Overall)': f'{round(user_coverage, 2)} : {round(overall_user_coverage, 2)}',\n",
    "                'Song Coverage(Train/Test:Overall)': f'{round(song_coverage, 2)} : {round(overall_song_coverage, 2)}',\n",
    "                'RMSE': rmse,\n",
    "                'MAE': mae,\n",
    "            })"
   ]
  },
  {
   "cell_type": "markdown",
   "metadata": {},
   "source": [
    "## Evaluation Results"
   ]
  },
  {
   "cell_type": "code",
   "execution_count": 7,
   "metadata": {},
   "outputs": [
    {
     "name": "stdout",
     "output_type": "stream",
     "text": [
      "+-----+-------+-----------------+-----------------+---------------------------------+---------------------------------+---------+----------+\n",
      "|Model|Dataset|Users(Train:Test)|Songs(Train:Test)|User Coverage(Train/Test:Overall)|Song Coverage(Train/Test:Overall)|RMSE     |MAE       |\n",
      "+-----+-------+-----------------+-----------------+---------------------------------+---------------------------------+---------+----------+\n",
      "|ALS  |raw    |200000 : 200000  |136736 : 127771  |1.0 : 0.11                       |0.93 : 0.93                      |1.1547565|0.91526073|\n",
      "+-----+-------+-----------------+-----------------+---------------------------------+---------------------------------+---------+----------+\n",
      "\n"
     ]
    }
   ],
   "source": [
    "# Evaluation Results Schema\n",
    "schema = StructType([\n",
    "    StructField(\"Model\", StringType(), True),\n",
    "    StructField(\"Dataset\", StringType(), True),\n",
    "    StructField(\"Users(Train:Test)\", StringType(), True),\n",
    "    StructField(\"Songs(Train:Test)\", StringType(), True),\n",
    "    StructField(\"User Coverage(Train/Test:Overall)\", StringType(), True),\n",
    "    StructField(\"Song Coverage(Train/Test:Overall)\", StringType(), True),\n",
    "    # StructField(\"Precision\", FloatType(), True),\n",
    "    StructField(\"RMSE\", FloatType(), True),\n",
    "    StructField(\"MAE\", FloatType(), True),\n",
    "])\n",
    "\n",
    "# Output Results as DF\n",
    "results_df = spark.createDataFrame(results, schema)\n",
    "results_df.show(truncate=False)"
   ]
  },
  {
   "cell_type": "code",
   "execution_count": null,
   "metadata": {},
   "outputs": [],
   "source": []
  }
 ],
 "metadata": {
  "kernelspec": {
   "display_name": "Python 3 (ipykernel)",
   "language": "python",
   "name": "python3"
  },
  "language_info": {
   "codemirror_mode": {
    "name": "ipython",
    "version": 3
   },
   "file_extension": ".py",
   "mimetype": "text/x-python",
   "name": "python",
   "nbconvert_exporter": "python",
   "pygments_lexer": "ipython3",
   "version": "3.10.12"
  }
 },
 "nbformat": 4,
 "nbformat_minor": 2
}
