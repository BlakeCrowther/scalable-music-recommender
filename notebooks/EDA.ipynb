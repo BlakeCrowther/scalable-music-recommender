{
 "cells": [
  {
   "cell_type": "markdown",
   "id": "0433958c",
   "metadata": {},
   "source": [
    "# EDA"
   ]
  },
  {
   "cell_type": "code",
   "execution_count": null,
   "id": "63f34b71",
   "metadata": {},
   "outputs": [],
   "source": [
    "# Suppress native-hadoop warning\n",
    "!sed -i '$a\\# Add the line for suppressing the NativeCodeLoader warning \\nlog4j.logger.org.apache.hadoop.util.NativeCodeLoader=ERROR,console' /$HADOOP_HOME/etc/hadoop/log4j.properties"
   ]
  },
  {
   "cell_type": "code",
   "execution_count": null,
   "id": "eb8f3384",
   "metadata": {},
   "outputs": [],
   "source": [
    "import sys\n",
    "sys.path.append('/home/work')"
   ]
  },
  {
   "cell_type": "code",
   "execution_count": null,
   "id": "5ee1c507",
   "metadata": {},
   "outputs": [],
   "source": [
    "import pyspark\n",
    "from pyspark.sql import SparkSession\n",
    "from pyspark.sql import functions as f\n",
    "from pyspark.sql.functions import split, col, avg, count, desc\n",
    "import pandas as pd\n",
    "import matplotlib.pyplot as plt\n",
    "import seaborn as sns\n",
    "from data.utils.data_loader import load_file_from_hdfs"
   ]
  },
  {
   "cell_type": "code",
   "execution_count": null,
   "id": "f9037e67",
   "metadata": {},
   "outputs": [],
   "source": [
    "conf = pyspark.SparkConf()\n",
    "settings = conf.getAll()\n",
    "\n",
    "# Set Spark Settings\n",
    "conf = pyspark.SparkConf().setAll([\n",
    "('spark.master', 'local[*]'),\n",
    "('spark.app.name', 'MusicRecommender'),\n",
    "('spark.driver.memory','14g')])\n",
    "spark = SparkSession.builder.config(conf=conf).getOrCreate()\n",
    "\n",
    "# Print the Spark Session settings\n",
    "settings = spark.sparkContext.getConf().getAll()\n",
    "for s in settings:\n",
    "    print(s)"
   ]
  },
  {
   "cell_type": "code",
   "execution_count": null,
   "id": "997c9595",
   "metadata": {},
   "outputs": [],
   "source": [
    "# Load the dataset\n",
    "song_ratings_file_path = \"raw/train/train_0.txt\"\n",
    "song_ratings = load_file_from_hdfs(song_ratings_file_path)\n",
    "\n",
    "song_attributes_file_path = \"song-attributes.txt\"\n",
    "song_attributes = load_file_from_hdfs(song_attributes_file_path)\n",
    "\n",
    "genre_hierarchy_file_path = \"genre-hierarchy.txt\"\n",
    "genre_hierarchy = load_file_from_hdfs(genre_hierarchy_file_path)"
   ]
  },
  {
   "cell_type": "code",
   "execution_count": null,
   "id": "e643c530",
   "metadata": {},
   "outputs": [],
   "source": [
    "def check_missing_values(df):\n",
    "    null_columns = {column: df.filter(col(column).isNull()).count() for column in df.columns}\n",
    "    print(null_columns)\n",
    "    return None"
   ]
  },
  {
   "cell_type": "code",
   "execution_count": null,
   "id": "70d20bf8",
   "metadata": {},
   "outputs": [],
   "source": [
    "def song_ratings_eda(df):\n",
    "    df.show(5)\n",
    "    \n",
    "    print(\"The schema of the song ratings dataframe:\")\n",
    "    df.printSchema()\n",
    "\n",
    "    print(\"Summary Statistics:\")\n",
    "    df.summary().show()\n",
    "    \n",
    "    ratings = df.count()\n",
    "    print(\"Number of ratings: \", ratings)\n",
    "    \n",
    "    rating_range = df.agg(min(\"rating\").alias(\"min_rating\"), max(\"rating\").alias(\"max_rating\")).collect()[0]\n",
    "    print(\"Range of ratings:\", rating_range)\n",
    "    \n",
    "    avg_rating = df.agg({\"rating\": \"avg\"}).collect()[0][0]\n",
    "    print(\"Average rating:\", avg_rating)\n",
    "    \n",
    "    users = df.groupBy(\"user_id\").count()\n",
    "    print(\"Number of unique users: \", users.count())\n",
    "\n",
    "    songs = df.groupBy(\"song_id\").count()\n",
    "    print(\"Number of unique songs: \", songs.count())\n",
    "\n",
    "    return None"
   ]
  },
  {
   "cell_type": "code",
   "execution_count": null,
   "id": "f7ea25e1",
   "metadata": {},
   "outputs": [],
   "source": [
    "def song_attributes_eda(df):\n",
    "    df.show(5)\n",
    "    \n",
    "    print(\"The schema of the song attributes dataframe:\")\n",
    "    df.printSchema()\n",
    "\n",
    "    artists = df.groupBy(\"artist_id\").count()\n",
    "    print(\"Number of unique artist: \", artists.count())\n",
    "    \n",
    "    albums = df.groupBy(\"album_id\").count()\n",
    "    print(\"Number of unique artist: \", albums.count())\n",
    "    \n",
    "    return None"
   ]
  },
  {
   "cell_type": "code",
   "execution_count": null,
   "id": "cf5daac4",
   "metadata": {},
   "outputs": [],
   "source": [
    "def genre_hierarchy_eda(df):\n",
    "    df.show(5)\n",
    "    \n",
    "    print(\"The schema of the genre dataframe:\")\n",
    "    df.printSchema()\n",
    "\n",
    "    genres = df.groupBy(\"genre_id\").count()\n",
    "    print(\"Number of unique genre: \", genres.count())\n",
    "    \n",
    "    return None"
   ]
  },
  {
   "cell_type": "markdown",
   "id": "798a15e5",
   "metadata": {},
   "source": [
    "##### Display first 5 row of song ratings dataframe"
   ]
  },
  {
   "cell_type": "code",
   "execution_count": null,
   "id": "001abbd7",
   "metadata": {},
   "outputs": [],
   "source": [
    "song_ratings.show(5)"
   ]
  },
  {
   "cell_type": "code",
   "execution_count": null,
   "id": "9ece60c0",
   "metadata": {},
   "outputs": [],
   "source": [
    "song_attributes.show(5)"
   ]
  },
  {
   "cell_type": "code",
   "execution_count": null,
   "id": "ec20f848",
   "metadata": {},
   "outputs": [],
   "source": [
    "genre_hierarchy.show(5)"
   ]
  },
  {
   "cell_type": "markdown",
   "id": "bf9d108e",
   "metadata": {},
   "source": [
    "##### Update column names"
   ]
  },
  {
   "cell_type": "code",
   "execution_count": null,
   "id": "8e5b79aa",
   "metadata": {},
   "outputs": [],
   "source": [
    "song_ratings = song_ratings.withColumnRenamed(\"_c0\", \"user_id\") \\\n",
    "    .withColumnRenamed(\"_c1\", \"song_id\") \\\n",
    "    .withColumnRenamed(\"_c2\", \"rating\") \n",
    "\n",
    "song_attributes = song_attributes.withColumnRenamed(\"_c0\", \"song_id\") \\\n",
    "    .withColumnRenamed(\"_c1\", \"album_id\") \\\n",
    "    .withColumnRenamed(\"_c2\", \"artist_id\") \\\n",
    "    .withColumnRenamed(\"_c3\", \"genre_id\")\n",
    "\n",
    "genre_hierarchy = genre_hierarchy.withColumnRenamed(\"_c0\", \"genre_id\") \\\n",
    "    .withColumnRenamed(\"_c1\", \"parent_genre_id\") \\\n",
    "    .withColumnRenamed(\"_c2\", \"level\") \\\n",
    "    .withColumnRenamed(\"_c3\", \"genre_name\")"
   ]
  },
  {
   "cell_type": "markdown",
   "id": "89f9dacf",
   "metadata": {},
   "source": [
    "##### Check for missing values"
   ]
  },
  {
   "cell_type": "code",
   "execution_count": null,
   "id": "5a69966e",
   "metadata": {},
   "outputs": [],
   "source": [
    "check_missing_values(song_ratings)\n",
    "check_missing_values(song_attributes)\n",
    "check_missing_values(genre_hierarchy)"
   ]
  },
  {
   "cell_type": "markdown",
   "id": "c1ec3403",
   "metadata": {},
   "source": [
    "##### Drop duplicates"
   ]
  },
  {
   "cell_type": "code",
   "execution_count": null,
   "id": "f518fcd2",
   "metadata": {},
   "outputs": [],
   "source": [
    "song_ratings = song_ratings.dropDuplicates()\n",
    "song_attributes = song_attributes.dropDuplicates()\n",
    "genre_hierarchy = genre_hierarchy.dropDuplicates()"
   ]
  },
  {
   "cell_type": "markdown",
   "id": "31590899",
   "metadata": {},
   "source": [
    "##### EDA"
   ]
  },
  {
   "cell_type": "code",
   "execution_count": null,
   "id": "63b31c68",
   "metadata": {},
   "outputs": [],
   "source": [
    "song_ratings_eda(song_ratings)\n",
    "song_attributes_eda(song_attributes)\n",
    "genre_hierarchy_eda(genre_hierarchy)"
   ]
  },
  {
   "cell_type": "markdown",
   "id": "35caab45",
   "metadata": {},
   "source": [
    "##### Join song_ratings with song_attributes and genre_hierarchy"
   ]
  },
  {
   "cell_type": "code",
   "execution_count": null,
   "id": "e58f728a",
   "metadata": {},
   "outputs": [],
   "source": [
    "df = song_ratings.join(song_attributes, \"song_id\", how=\"inner\")\n",
    "df = df.join(genre_hierarchy,\"genre_id\", how=\"inner\")"
   ]
  },
  {
   "cell_type": "code",
   "execution_count": null,
   "id": "4cf0c591",
   "metadata": {},
   "outputs": [],
   "source": [
    "df.printSchema()"
   ]
  },
  {
   "cell_type": "code",
   "execution_count": null,
   "id": "739f0f44",
   "metadata": {},
   "outputs": [],
   "source": [
    "check_missing_values(df)"
   ]
  },
  {
   "cell_type": "code",
   "execution_count": null,
   "id": "4462120f",
   "metadata": {},
   "outputs": [],
   "source": [
    "df.show(5)"
   ]
  },
  {
   "cell_type": "markdown",
   "id": "4086e621",
   "metadata": {},
   "source": [
    "##### Visualizations"
   ]
  },
  {
   "cell_type": "markdown",
   "id": "d6dcc22d",
   "metadata": {},
   "source": [
    "Genre Rating Distribution"
   ]
  },
  {
   "cell_type": "code",
   "execution_count": null,
   "id": "086fc0a4",
   "metadata": {},
   "outputs": [],
   "source": [
    "genre_pdf = df.select('genre_name').toPandas()\n",
    "fig, axes = plt.subplots(2, 1, figsize=(10, 12))\n",
    "\n",
    "# no log\n",
    "sns.countplot(data=genre_pdf, x='genre_name', ax=axes[0])\n",
    "axes[0].set_title('Genre Rating Distribution (Not Log Scale)')\n",
    "axes[0].set_xlabel('Genre')\n",
    "axes[0].set_ylabel('Count')\n",
    "axes[0].tick_params(axis='x', rotation=90)\n",
    "\n",
    "# log\n",
    "sns.countplot(data=genre_pdf, x='genre_name', ax=axes[1])\n",
    "axes[1].set_title('Genre Rating Distribution (Log Scale)')\n",
    "axes[1].set_xlabel('Genre')\n",
    "axes[1].set_ylabel('Count (log scale)')\n",
    "axes[1].set_yscale('log')\n",
    "axes[1].tick_params(axis='x', rotation=90)\n",
    "\n",
    "plt.tight_layout()\n",
    "plt.show()"
   ]
  },
  {
   "cell_type": "markdown",
   "id": "80412449",
   "metadata": {},
   "source": [
    "Rating Spread by Genre"
   ]
  },
  {
   "cell_type": "code",
   "execution_count": null,
   "id": "05d06e2e",
   "metadata": {},
   "outputs": [],
   "source": [
    "pdf = df.toPandas()\n",
    "sns.boxplot(data=pdf, x='genre_name', y='ratings')\n",
    "plt.title('Rating Spread by Genre')\n",
    "plt.xlabel('Genre')\n",
    "plt.ylabel('Ratings')\n",
    "plt.xticks(rotation=90)\n",
    "plt.show()"
   ]
  },
  {
   "cell_type": "markdown",
   "id": "c7f7e173",
   "metadata": {},
   "source": [
    "Average Ratings by Genre"
   ]
  },
  {
   "cell_type": "code",
   "execution_count": null,
   "id": "b22ae44b",
   "metadata": {},
   "outputs": [],
   "source": [
    "genre_rating_avg_pdf = df.groupBy('genre_name').avg('ratings').toPandas()\n",
    "\n",
    "plt.scatter(data=genre_rating_avg_pdf, x='genre_name', y='avg(ratings)')\n",
    "plt.title('Average Ratings by Genre')\n",
    "plt.xlabel('Genre')\n",
    "plt.ylabel('Average Ratings')\n",
    "plt.xticks(rotation=90)\n",
    "plt.tight_layout()\n",
    "plt.show()"
   ]
  },
  {
   "cell_type": "markdown",
   "id": "fa3fe7f0",
   "metadata": {},
   "source": [
    "top 10 artist"
   ]
  },
  {
   "cell_type": "code",
   "execution_count": null,
   "id": "d328ebc3",
   "metadata": {},
   "outputs": [],
   "source": [
    "# top 10 artist (detemined by number of ratings)\n",
    "artist_ratings_count = df.groupBy('artist_id').count()\n",
    "top_10_artists = artist_ratings_count.orderBy('count', ascending=False).limit(10)\n",
    "top_10_artists_pdf= top_20_artists.toPandas()\n",
    "\n",
    "sns.barplot(data=top_20_artists_pdf, x='artist_id', y='count')\n",
    "plt.title('Top 10 Artists')\n",
    "plt.xlabel('Artist ID')\n",
    "plt.ylabel('Number of Ratings')\n",
    "plt.xticks(rotation=60)\n",
    "plt.show()\n"
   ]
  },
  {
   "cell_type": "markdown",
   "id": "16e9becd",
   "metadata": {},
   "source": [
    "Average Ratings by Top Artists"
   ]
  },
  {
   "cell_type": "code",
   "execution_count": null,
   "id": "d717c837",
   "metadata": {},
   "outputs": [],
   "source": [
    "top_10_artists_df = top_10_artists.join(df, 'artist_id', 'inner')\n",
    "top_artists_rating_avg_pdf= top_10_artists_df.groupBy('artist_id').avg('ratings').toPandas()\n",
    "\n",
    "plt.scatter(data=top_artists_rating_avg_pdf, x='artist_id', y='avg(ratings)')\n",
    "plt.title('Average Ratings by Top Artists')\n",
    "plt.xlabel('Artist ID')\n",
    "plt.ylabel('Average Ratings')\n",
    "plt.xticks(rotation=60)\n",
    "plt.tight_layout()\n",
    "plt.show()"
   ]
  },
  {
   "cell_type": "markdown",
   "id": "7a4c3dfa",
   "metadata": {},
   "source": [
    "Rating Spread by Top 10 Artists"
   ]
  },
  {
   "cell_type": "code",
   "execution_count": null,
   "id": "0ee7e420",
   "metadata": {},
   "outputs": [],
   "source": [
    "sns.boxplot(data=top_10_artists_df.toPandas(), x='artist_id', y='ratings')\n",
    "plt.title('Rating Spread by Top 10 Artists')\n",
    "plt.xlabel('Artist ID')\n",
    "plt.ylabel('Ratings')\n",
    "plt.xticks(rotation=60)\n",
    "plt.show()"
   ]
  },
  {
   "cell_type": "markdown",
   "id": "3999a520",
   "metadata": {},
   "source": [
    "Top 10 Songs"
   ]
  },
  {
   "cell_type": "code",
   "execution_count": null,
   "id": "1218815f",
   "metadata": {},
   "outputs": [],
   "source": [
    "song_ratings_count = df.groupBy('song_id').count()\n",
    "top_10_songs = song_ratings_count.orderBy('count', ascending=False).limit(10)\n",
    "top_10_songs_pdf= top_10_songs.toPandas()\n",
    "\n",
    "sns.barplot(data=top_10_songs_pdf, x='song_id', y='count')\n",
    "plt.title('Top 10 Songs')\n",
    "plt.xlabel('Song ID')\n",
    "plt.ylabel('Number of Ratings')\n",
    "plt.xticks(rotation=60)\n",
    "plt.show()\n"
   ]
  },
  {
   "cell_type": "markdown",
   "id": "6c4baa23",
   "metadata": {},
   "source": [
    "Average Ratings by Top Songs"
   ]
  },
  {
   "cell_type": "code",
   "execution_count": null,
   "id": "9176e47e",
   "metadata": {},
   "outputs": [],
   "source": [
    "top_10_songs_df = top_10_songs.join(df, 'song_id', 'inner')\n",
    "top_songs_rating_avg_pdf= top_10_songs_df.groupBy('song_id').avg('ratings').toPandas()\n",
    "\n",
    "plt.scatter(data=top_songs_rating_avg_pdf, x='song_id', y='avg(ratings)')\n",
    "plt.title('Average Ratings by Top Songs')\n",
    "plt.xlabel('Song ID')\n",
    "plt.ylabel('Average Ratings')\n",
    "plt.xticks(rotation=60)\n",
    "plt.tight_layout()\n",
    "plt.show()"
   ]
  },
  {
   "cell_type": "markdown",
   "id": "396049c9",
   "metadata": {},
   "source": [
    "Rating Spread by Top 10 Songs"
   ]
  },
  {
   "cell_type": "code",
   "execution_count": null,
   "id": "57f60690",
   "metadata": {},
   "outputs": [],
   "source": [
    "sns.boxplot(data=top_10_songs_df.toPandas(), x='song_id', y='ratings')\n",
    "plt.title('Rating Spread by Top 10 Songs')\n",
    "plt.xlabel('Song ID')\n",
    "plt.ylabel('Ratings')\n",
    "plt.xticks(rotation=60)\n",
    "plt.show()"
   ]
  },
  {
   "cell_type": "markdown",
   "id": "d1e69fdd",
   "metadata": {},
   "source": [
    "Songs Breakdown by Genre"
   ]
  },
  {
   "cell_type": "code",
   "execution_count": null,
   "id": "aea3540f",
   "metadata": {},
   "outputs": [],
   "source": [
    "genre_song_count = df.groupBy('genre_name').agg(f.count('song_id').alias('genre_song_count'))\n",
    "genre_song_count = genre_song_count.orderBy('genre_song_count', ascending=False)\n",
    "genre_song_count_pdf = genre_song_count.toPandas()\n",
    "fig, axes = plt.subplots(2, 1, figsize=(10, 12))\n",
    "\n",
    "sns.barplot(data=genre_song_count_pdf, x='genre_name', y='genre_song_count', ax=axes[0])\n",
    "axes[0].set_title('Songs Breakdown by Genre')\n",
    "axes[0].set_xlabel('Genre Name')\n",
    "axes[0].set_ylabel('Number of Songs')\n",
    "axes[0].tick_params(axis='x', rotation=90)\n",
    "\n",
    "sns.barplot(data=genre_song_count_pdf, x='genre_name', y='genre_song_count', ax=axes[1])\n",
    "axes[1].set_title('Songs Breakdown by Genre')\n",
    "axes[1].set_xlabel('Genre Name')\n",
    "axes[1].set_ylabel('Number of Songs (log scale)')\n",
    "axes[1].set_yscale('log')\n",
    "axes[1].tick_params(axis='x', rotation=90)\n",
    "plt.tight_layout()\n",
    "plt.show()"
   ]
  },
  {
   "cell_type": "markdown",
   "id": "e9225601",
   "metadata": {},
   "source": [
    "Songs Breakdown by Top 10 Albums"
   ]
  },
  {
   "cell_type": "code",
   "execution_count": null,
   "id": "6ec21f60",
   "metadata": {},
   "outputs": [],
   "source": [
    "# song in album breakdown top 10 (determined by most rated songs in album)\n",
    "album_song_count = df.groupBy('album_id').agg(f.count('song_id').alias('album_song_count'))\n",
    "\n",
    "album_song_count = album_song_count.orderBy('album_song_count', ascending=False).limit(10)\n",
    "\n",
    "album_song_count_pdf = album_song_count.toPandas()\n",
    "\n",
    "sns.barplot(data=album_song_count_pdf, x='album_id', y='album_song_count')\n",
    "plt.title('Songs Breakdown by Top 10 Albums')\n",
    "plt.xlabel('Album ID')\n",
    "plt.ylabel('Number of Songs')\n",
    "plt.xticks(rotation=60)\n",
    "plt.tight_layout()\n",
    "plt.show()"
   ]
  },
  {
   "cell_type": "markdown",
   "id": "a38e329b",
   "metadata": {},
   "source": [
    "Songs Breakdown by Top 10 Artists"
   ]
  },
  {
   "cell_type": "code",
   "execution_count": null,
   "id": "80715094",
   "metadata": {},
   "outputs": [],
   "source": [
    "# song in artist breakdown top 10 (determined by most rated songs by artist)\n",
    "artist_song_count = df.groupBy('artist_id').agg(f.count('song_id').alias('artist_song_count'))\n",
    "\n",
    "artist_song_count = album_song_count.orderBy('artist_song_count', ascending=False).limit(10)\n",
    "\n",
    "artist_song_count_pdf = artist_song_count.toPandas()\n",
    "\n",
    "sns.barplot(data=artist_song_count_pdf, x='artist_id', y='artist_song_count')\n",
    "plt.title('Songs Breakdown by Top 10 Artists')\n",
    "plt.xlabel('Artist ID')\n",
    "plt.ylabel('Number of Songs')\n",
    "plt.xticks(rotation=60)\n",
    "plt.tight_layout()\n",
    "plt.show()"
   ]
  }
 ],
 "metadata": {
  "kernelspec": {
   "display_name": "Python 3 (ipykernel)",
   "language": "python",
   "name": "python3"
  },
  "language_info": {
   "codemirror_mode": {
    "name": "ipython",
    "version": 3
   },
   "file_extension": ".py",
   "mimetype": "text/x-python",
   "name": "python",
   "nbconvert_exporter": "python",
   "pygments_lexer": "ipython3",
   "version": "3.10.12"
  }
 },
 "nbformat": 4,
 "nbformat_minor": 5
}
