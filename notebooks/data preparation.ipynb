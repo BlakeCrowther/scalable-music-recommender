{
 "cells": [
  {
   "cell_type": "markdown",
   "id": "0c0d4571",
   "metadata": {},
   "source": [
    "# Preliminary EDA"
   ]
  },
  {
   "cell_type": "code",
   "execution_count": 1,
   "id": "811664c7",
   "metadata": {},
   "outputs": [],
   "source": [
    "# Suppress native-hadoop warning\n",
    "!sed -i '$a\\# Add the line for suppressing the NativeCodeLoader warning \\nlog4j.logger.org.apache.hadoop.util.NativeCodeLoader=ERROR,console' /$HADOOP_HOME/etc/hadoop/log4j.properties\n",
    "# Auto reload modules\n",
    "%load_ext autoreload\n",
    "%autoreload 2"
   ]
  },
  {
   "cell_type": "code",
   "execution_count": 2,
   "id": "46b8c651",
   "metadata": {},
   "outputs": [],
   "source": [
    "import sys\n",
    "sys.path.append('/home/work')\n",
    "BASE_DIR = '/home/work'\n",
    "DATA_DIR = BASE_DIR + '/data'\n",
    "\n",
    "DATASET = '/processed/user_song_balanced'\n",
    "TRAIN_DIR = DATA_DIR + DATASET + '/train'\n",
    "TEST_DIR = DATA_DIR + DATASET + '/test'"
   ]
  },
  {
   "cell_type": "code",
   "execution_count": 3,
   "id": "de2fc50a",
   "metadata": {},
   "outputs": [],
   "source": [
    "import pyspark\n",
    "from pyspark.sql import SparkSession\n",
    "from pyspark.sql.functions import split, col, count, desc, min, max, log, abs, mean, stddev, row_number, rand\n",
    "from pyspark.sql.window import Window\n",
    "import pandas as pd\n",
    "import seaborn as sns\n",
    "import matplotlib.pyplot as plt\n",
    "\n",
    "from data.utils.data_loader import load_file_from_hdfs\n",
    "\n",
    "from EDA.clean_data import cleaned_df"
   ]
  },
  {
   "cell_type": "code",
   "execution_count": 4,
   "id": "4ee855be",
   "metadata": {},
   "outputs": [
    {
     "name": "stdout",
     "output_type": "stream",
     "text": [
      "('spark.driver.host', '6f6ec6ea2650')\n",
      "('spark.driver.port', '44727')\n",
      "('spark.master', 'local[4]')\n",
      "('spark.executor.id', 'driver')\n",
      "('spark.app.id', 'local-1717100914111')\n",
      "('spark.driver.extraJavaOptions', '-Djava.net.preferIPv6Addresses=false -XX:+IgnoreUnrecognizedVMOptions --add-opens=java.base/java.lang=ALL-UNNAMED --add-opens=java.base/java.lang.invoke=ALL-UNNAMED --add-opens=java.base/java.lang.reflect=ALL-UNNAMED --add-opens=java.base/java.io=ALL-UNNAMED --add-opens=java.base/java.net=ALL-UNNAMED --add-opens=java.base/java.nio=ALL-UNNAMED --add-opens=java.base/java.util=ALL-UNNAMED --add-opens=java.base/java.util.concurrent=ALL-UNNAMED --add-opens=java.base/java.util.concurrent.atomic=ALL-UNNAMED --add-opens=java.base/sun.nio.ch=ALL-UNNAMED --add-opens=java.base/sun.nio.cs=ALL-UNNAMED --add-opens=java.base/sun.security.action=ALL-UNNAMED --add-opens=java.base/sun.util.calendar=ALL-UNNAMED --add-opens=java.security.jgss/sun.security.krb5=ALL-UNNAMED -Djdk.reflect.useDirectMethodHandle=false')\n",
      "('spark.app.submitTime', '1717100913380')\n",
      "('spark.rdd.compress', 'True')\n",
      "('spark.app.startTime', '1717100913469')\n",
      "('spark.serializer.objectStreamReset', '100')\n",
      "('spark.submit.pyFiles', '')\n",
      "('spark.submit.deployMode', 'client')\n",
      "('spark.app.name', 'MusicRecommender')\n",
      "('spark.driver.memory', '14g')\n",
      "('spark.ui.showConsoleProgress', 'true')\n",
      "('spark.executor.extraJavaOptions', '-Djava.net.preferIPv6Addresses=false -XX:+IgnoreUnrecognizedVMOptions --add-opens=java.base/java.lang=ALL-UNNAMED --add-opens=java.base/java.lang.invoke=ALL-UNNAMED --add-opens=java.base/java.lang.reflect=ALL-UNNAMED --add-opens=java.base/java.io=ALL-UNNAMED --add-opens=java.base/java.net=ALL-UNNAMED --add-opens=java.base/java.nio=ALL-UNNAMED --add-opens=java.base/java.util=ALL-UNNAMED --add-opens=java.base/java.util.concurrent=ALL-UNNAMED --add-opens=java.base/java.util.concurrent.atomic=ALL-UNNAMED --add-opens=java.base/sun.nio.ch=ALL-UNNAMED --add-opens=java.base/sun.nio.cs=ALL-UNNAMED --add-opens=java.base/sun.security.action=ALL-UNNAMED --add-opens=java.base/sun.util.calendar=ALL-UNNAMED --add-opens=java.security.jgss/sun.security.krb5=ALL-UNNAMED -Djdk.reflect.useDirectMethodHandle=false')\n"
     ]
    }
   ],
   "source": [
    "conf = pyspark.SparkConf()\n",
    "settings = conf.getAll()\n",
    "\n",
    "# Set Spark Settings\n",
    "conf = pyspark.SparkConf().setAll([\n",
    "('spark.master', 'local[4]'),\n",
    "('spark.app.name', 'MusicRecommender'),\n",
    "('spark.driver.memory','14g')])\n",
    "spark = SparkSession.builder.config(conf=conf).getOrCreate()\n",
    "\n",
    "# Print the Spark Session settings\n",
    "settings = spark.sparkContext.getConf().getAll()\n",
    "for s in settings:\n",
    "    print(s)"
   ]
  },
  {
   "cell_type": "markdown",
   "id": "585eb8eb",
   "metadata": {},
   "source": [
    "Load choosen partition of song ratings, song attributes, and genre hierarchy."
   ]
  },
  {
   "cell_type": "code",
   "execution_count": 5,
   "id": "9600df53",
   "metadata": {},
   "outputs": [
    {
     "name": "stderr",
     "output_type": "stream",
     "text": [
      "                                                                                \r"
     ]
    }
   ],
   "source": [
    "song_ratings_train_file_path = \"/raw/train/train_2.txt\"\n",
    "song_ratings_train = load_file_from_hdfs(song_ratings_train_file_path)\n",
    "\n",
    "song_ratings_test_file_path = \"/raw/test/test_2.txt\"\n",
    "song_ratings_test = load_file_from_hdfs(song_ratings_test_file_path)\n",
    "\n",
    "song_ratings = song_ratings_train.union(song_ratings_test) # combine the train and test partition\n",
    "\n",
    "song_attributes_file_path = \"song-attributes.txt\"\n",
    "song_attributes = load_file_from_hdfs(song_attributes_file_path)\n",
    "\n",
    "genre_hierarchy_file_path = \"genre-hierarchy.txt\"\n",
    "genre_hierarchy = load_file_from_hdfs(genre_hierarchy_file_path)"
   ]
  },
  {
   "cell_type": "markdown",
   "id": "b42d6810",
   "metadata": {},
   "source": [
    "Call cleaned_df function to get cleaned df from EDA"
   ]
  },
  {
   "cell_type": "code",
   "execution_count": 6,
   "id": "799cd9ef",
   "metadata": {},
   "outputs": [
    {
     "name": "stdout",
     "output_type": "stream",
     "text": [
      "root\n",
      " |-- user_id: integer (nullable = true)\n",
      " |-- song_id: integer (nullable = true)\n",
      " |-- rating: integer (nullable = true)\n",
      " |-- album_id: integer (nullable = true)\n",
      " |-- artist_id: integer (nullable = true)\n",
      " |-- genre_id: integer (nullable = true)\n",
      " |-- genre_name: string (nullable = true)\n",
      "\n"
     ]
    },
    {
     "name": "stderr",
     "output_type": "stream",
     "text": [
      "                                                                                \r"
     ]
    },
    {
     "name": "stdout",
     "output_type": "stream",
     "text": [
      "+-------+------------------+-----------------+------------------+------------------+------------------+------------------+-----------------+\n",
      "|summary|           user_id|          song_id|            rating|          album_id|         artist_id|          genre_id|       genre_name|\n",
      "+-------+------------------+-----------------+------------------+------------------+------------------+------------------+-----------------+\n",
      "|  count|          78909821|         78909821|          78909821|          78909821|          78909821|          78909821|         78909821|\n",
      "|   mean|499746.46840439545|68274.02707812504|3.1528440674070213|10361.592222392697|4776.0641216636395|16.666298850177345|             NULL|\n",
      "| stddev| 57936.75037674207|39459.18779033151|1.6030326088607252| 5906.090895444379| 2680.786813237493| 42.91624825455018|             NULL|\n",
      "|    min|            400000|                0|                 1|                 0|                 0|                 0|Adult Alternative|\n",
      "|    max|            599999|           136735|                 5|             20542|              9441|               215|            World|\n",
      "+-------+------------------+-----------------+------------------+------------------+------------------+------------------+-----------------+\n",
      "\n"
     ]
    },
    {
     "name": "stderr",
     "output_type": "stream",
     "text": [
      "                                                                                \r"
     ]
    },
    {
     "name": "stdout",
     "output_type": "stream",
     "text": [
      "Null Columns in cleaned df: {'user_id': 0, 'song_id': 0, 'rating': 0, 'album_id': 0, 'artist_id': 0, 'genre_id': 0, 'genre_name': 0}\n"
     ]
    }
   ],
   "source": [
    "df = cleaned_df(song_ratings, song_attributes, genre_hierarchy)"
   ]
  },
  {
   "cell_type": "code",
   "execution_count": 7,
   "id": "f2bcb025",
   "metadata": {},
   "outputs": [
    {
     "name": "stderr",
     "output_type": "stream",
     "text": [
      "                                                                                \r"
     ]
    },
    {
     "data": {
      "text/plain": [
       "78909821"
      ]
     },
     "execution_count": 7,
     "metadata": {},
     "output_type": "execute_result"
    }
   ],
   "source": [
    "df.count()"
   ]
  },
  {
   "cell_type": "markdown",
   "id": "c16bef34",
   "metadata": {},
   "source": [
    "Get users' rating count to ensure balanced distribution of ratings per user."
   ]
  },
  {
   "cell_type": "code",
   "execution_count": 8,
   "id": "4c8420a9",
   "metadata": {},
   "outputs": [
    {
     "name": "stderr",
     "output_type": "stream",
     "text": [
      "[Stage 50:===================================================>    (12 + 1) / 13]\r"
     ]
    },
    {
     "name": "stdout",
     "output_type": "stream",
     "text": [
      "+-------+-------------+\n",
      "|user_id|ratings_count|\n",
      "+-------+-------------+\n",
      "| 400003|          266|\n",
      "| 400129|           60|\n",
      "| 400152|          108|\n",
      "| 400301|          375|\n",
      "| 400440|           36|\n",
      "| 400612|           67|\n",
      "| 400735|          312|\n",
      "| 400797|          161|\n",
      "| 400833|           69|\n",
      "| 400982|          687|\n",
      "| 401161|           38|\n",
      "| 401778|           43|\n",
      "| 401880|          403|\n",
      "| 401901|          678|\n",
      "| 402253|          161|\n",
      "| 402643|         2183|\n",
      "| 402896|          140|\n",
      "| 403340|         7576|\n",
      "| 403389|         1021|\n",
      "| 403422|           33|\n",
      "+-------+-------------+\n",
      "only showing top 20 rows\n",
      "\n"
     ]
    },
    {
     "name": "stderr",
     "output_type": "stream",
     "text": [
      "                                                                                \r"
     ]
    }
   ],
   "source": [
    "user_ratings_count = df.groupBy(\"user_id\").count()\n",
    "user_ratings_count = user_ratings_count.withColumnRenamed(\"count\", \"ratings_count\")\n",
    "user_ratings_count.show()"
   ]
  },
  {
   "cell_type": "markdown",
   "id": "266cca73",
   "metadata": {},
   "source": [
    "Min and max values of users are quite different. There must be some outliers."
   ]
  },
  {
   "cell_type": "code",
   "execution_count": 9,
   "id": "bf41f762",
   "metadata": {},
   "outputs": [
    {
     "name": "stderr",
     "output_type": "stream",
     "text": [
      "[Stage 55:===================================================>    (12 + 1) / 13]\r"
     ]
    },
    {
     "name": "stdout",
     "output_type": "stream",
     "text": [
      "Minimum value: 30\n",
      "Maximum value: 131533\n"
     ]
    },
    {
     "name": "stderr",
     "output_type": "stream",
     "text": [
      "                                                                                \r"
     ]
    }
   ],
   "source": [
    "min_max_values = user_ratings_count.select(min(\"ratings_count\").alias(\"min_value\"), max(\"ratings_count\").alias(\"max_value\")).first()\n",
    "\n",
    "min_value = min_max_values[\"min_value\"]\n",
    "max_value = min_max_values[\"max_value\"]\n",
    "\n",
    "print(\"Minimum value:\", min_value)\n",
    "print(\"Maximum value:\", max_value)"
   ]
  },
  {
   "cell_type": "markdown",
   "id": "4ed9e6e5",
   "metadata": {},
   "source": [
    "Distribution is extremely skewed."
   ]
  },
  {
   "cell_type": "code",
   "execution_count": 10,
   "id": "ea49dd62",
   "metadata": {},
   "outputs": [
    {
     "name": "stderr",
     "output_type": "stream",
     "text": [
      "                                                                                \r"
     ]
    },
    {
     "data": {
      "image/png": "[encoded data removed]",
      "text/plain": [
       "<Figure size 1000x600 with 1 Axes>"
      ]
     },
     "metadata": {},
     "output_type": "display_data"
    },
    {
     "name": "stderr",
     "output_type": "stream",
     "text": [
      "[Stage 68:===================================================>    (12 + 1) / 13]\r"
     ]
    },
    {
     "name": "stdout",
     "output_type": "stream",
     "text": [
      "Total number of users: 200000\n"
     ]
    },
    {
     "name": "stderr",
     "output_type": "stream",
     "text": [
      "                                                                                \r"
     ]
    }
   ],
   "source": [
    "data= user_ratings_count.toPandas()\n",
    "\n",
    "plt.figure(figsize=(10, 6))\n",
    "plt.hist(data['ratings_count'], bins=30, edgecolor='black')\n",
    "plt.title('Distribution of Rating Counts per User')\n",
    "plt.xlabel('Number of Ratings')\n",
    "plt.ylabel('Frequency')\n",
    "plt.show()\n",
    "\n",
    "total_users = user_ratings_count.count()\n",
    "print(\"Total number of users:\", total_users)"
   ]
  },
  {
   "cell_type": "markdown",
   "id": "c2b1e338",
   "metadata": {},
   "source": [
    "Use log and z-score in attempts to find outliers."
   ]
  },
  {
   "cell_type": "code",
   "execution_count": 11,
   "id": "061dc3ab",
   "metadata": {},
   "outputs": [
    {
     "name": "stderr",
     "output_type": "stream",
     "text": [
      "                                                                                \r"
     ]
    }
   ],
   "source": [
    "user_ratings_count[user_ratings_count['ratings_count'] == 0].count() # no zero\n",
    "user_ratings_count = user_ratings_count.withColumn('log_ratings_count', log(user_ratings_count['ratings_count']))  "
   ]
  },
  {
   "cell_type": "code",
   "execution_count": 12,
   "id": "c2f482c5",
   "metadata": {},
   "outputs": [
    {
     "name": "stderr",
     "output_type": "stream",
     "text": [
      "                                                                                \r"
     ]
    }
   ],
   "source": [
    "mean_log = user_ratings_count.select(mean(col(\"log_ratings_count\"))).collect()[0][0]\n",
    "stddev_log = user_ratings_count.select(stddev(col(\"log_ratings_count\"))).collect()[0][0]\n",
    "\n",
    "user_ratings_count = user_ratings_count.withColumn(\"z_score\", (col(\"log_ratings_count\") - mean_log) / stddev_log)\n",
    "user_ratings_count = user_ratings_count.withColumn(\"is_outlier\", abs(col(\"z_score\")) > 3) # threshold 3"
   ]
  },
  {
   "cell_type": "code",
   "execution_count": 13,
   "id": "d9a9b604",
   "metadata": {},
   "outputs": [
    {
     "name": "stderr",
     "output_type": "stream",
     "text": [
      "[Stage 100:==================================================>    (12 + 1) / 13]\r"
     ]
    },
    {
     "name": "stdout",
     "output_type": "stream",
     "text": [
      "User ratings dataFrame without outliers (log/z-score): 199351\n"
     ]
    },
    {
     "name": "stderr",
     "output_type": "stream",
     "text": [
      "                                                                                \r"
     ]
    }
   ],
   "source": [
    "user_ratings_count_cleaned = user_ratings_count.filter(col(\"is_outlier\") == False)\n",
    "print(\"User ratings dataFrame without outliers (log/z-score):\", user_ratings_count_cleaned.count())"
   ]
  },
  {
   "cell_type": "markdown",
   "id": "4af9e76b",
   "metadata": {},
   "source": [
    "Still extremely skewed with large range of ratings count."
   ]
  },
  {
   "cell_type": "code",
   "execution_count": 14,
   "id": "d7e93465",
   "metadata": {},
   "outputs": [
    {
     "name": "stderr",
     "output_type": "stream",
     "text": [
      "                                                                                \r"
     ]
    },
    {
     "data": {
      "image/png": "[encoded data removed]",
      "text/plain": [
       "<Figure size 1000x600 with 1 Axes>"
      ]
     },
     "metadata": {},
     "output_type": "display_data"
    }
   ],
   "source": [
    "user_ratings_count_cleaned_data = user_ratings_count_cleaned.toPandas()\n",
    "\n",
    "plt.figure(figsize=(10, 6))\n",
    "plt.hist(user_ratings_count_cleaned_data['ratings_count'], bins=30, edgecolor='black')\n",
    "plt.title('New Distribution of Rating Counts per User')\n",
    "plt.xlabel('Number of Ratings')\n",
    "plt.ylabel('Frequency')\n",
    "plt.show()"
   ]
  },
  {
   "cell_type": "code",
   "execution_count": 15,
   "id": "b1786dc7",
   "metadata": {},
   "outputs": [
    {
     "name": "stderr",
     "output_type": "stream",
     "text": [
      "                                                                                \r"
     ]
    },
    {
     "data": {
      "text/plain": [
       "72806352"
      ]
     },
     "execution_count": 15,
     "metadata": {},
     "output_type": "execute_result"
    }
   ],
   "source": [
    "user_ratings_count_cleaned_df = df.join(user_ratings_count_cleaned.select(\"user_id\"), on=\"user_id\", how=\"inner\")\n",
    "user_ratings_count_cleaned_df.count() # number of ratings left"
   ]
  },
  {
   "cell_type": "markdown",
   "id": "d7a86c1f",
   "metadata": {},
   "source": [
    "Use IQR, lower bound, upper bound to remove outliers instead"
   ]
  },
  {
   "cell_type": "code",
   "execution_count": 16,
   "id": "e4320f95",
   "metadata": {},
   "outputs": [
    {
     "name": "stderr",
     "output_type": "stream",
     "text": [
      "[Stage 129:==================================================>    (12 + 1) / 13]\r"
     ]
    },
    {
     "name": "stdout",
     "output_type": "stream",
     "text": [
      "User ratings dataframe without outliers (IQR/lower bound/upper bound): 173463\n"
     ]
    },
    {
     "name": "stderr",
     "output_type": "stream",
     "text": [
      "                                                                                \r"
     ]
    }
   ],
   "source": [
    "quantiles = user_ratings_count.approxQuantile(\"ratings_count\", [0.25, 0.75], 0.05)\n",
    "Q1 = quantiles[0]\n",
    "Q3 = quantiles[1]\n",
    "IQR = Q3 - Q1\n",
    "\n",
    "lower_bound = Q1 - (1.5 * IQR)\n",
    "upper_bound = Q3 + (1.5 * IQR)\n",
    "\n",
    "filtered_df = user_ratings_count.filter((col(\"ratings_count\") >= lower_bound) & (col(\"ratings_count\") <= upper_bound))\n",
    "\n",
    "print(\"User ratings dataframe without outliers (IQR/lower bound/upper bound):\", filtered_df.count())"
   ]
  },
  {
   "cell_type": "markdown",
   "id": "fa666142",
   "metadata": {},
   "source": [
    "Distribution a lot less skewed."
   ]
  },
  {
   "cell_type": "code",
   "execution_count": 17,
   "id": "1e772b64",
   "metadata": {},
   "outputs": [
    {
     "name": "stderr",
     "output_type": "stream",
     "text": [
      "                                                                                \r"
     ]
    },
    {
     "data": {
      "image/png": "[encoded data removed]",
      "text/plain": [
       "<Figure size 1000x600 with 1 Axes>"
      ]
     },
     "metadata": {},
     "output_type": "display_data"
    }
   ],
   "source": [
    "filtered_df_data = filtered_df.toPandas()\n",
    "\n",
    "plt.figure(figsize=(10, 6))\n",
    "plt.hist(filtered_df_data['ratings_count'], bins=30, edgecolor='black')\n",
    "plt.title('New Distribution of Rating Counts per User')\n",
    "plt.xlabel('Number of Ratings')\n",
    "plt.ylabel('Frequency')\n",
    "plt.show()"
   ]
  },
  {
   "cell_type": "markdown",
   "id": "ae761506",
   "metadata": {},
   "source": [
    "Filter dataframe to remove outliers and randomly split into train and test set to create model."
   ]
  },
  {
   "cell_type": "code",
   "execution_count": 18,
   "id": "db84440b",
   "metadata": {},
   "outputs": [
    {
     "name": "stderr",
     "output_type": "stream",
     "text": [
      "[Stage 147:==========================================>              (3 + 1) / 4]\r"
     ]
    },
    {
     "name": "stdout",
     "output_type": "stream",
     "text": [
      "New dataset count (filtered user ratings outliers) 31116051\n"
     ]
    },
    {
     "name": "stderr",
     "output_type": "stream",
     "text": [
      "                                                                                \r"
     ]
    }
   ],
   "source": [
    "filtered_df_new = df.join(filtered_df.select(\"user_id\"), on=\"user_id\", how=\"inner\")\n",
    "print(\"New dataset count (filtered user ratings outliers)\", filtered_df_new.count())"
   ]
  },
  {
   "cell_type": "markdown",
   "id": "a148b831",
   "metadata": {},
   "source": [
    "Balance song distribution in same manner as user distribution."
   ]
  },
  {
   "cell_type": "code",
   "execution_count": 19,
   "id": "d26116dd",
   "metadata": {},
   "outputs": [
    {
     "name": "stderr",
     "output_type": "stream",
     "text": [
      "[Stage 153:==================================================>    (12 + 1) / 13]\r"
     ]
    },
    {
     "name": "stdout",
     "output_type": "stream",
     "text": [
      "+-------+-------------+\n",
      "|song_id|ratings_count|\n",
      "+-------+-------------+\n",
      "|  34759|        11156|\n",
      "|  43527|          126|\n",
      "|  67376|         4366|\n",
      "|  67753|          390|\n",
      "|  80332|         2808|\n",
      "| 113000|         4553|\n",
      "| 117437|         1349|\n",
      "| 133524|          157|\n",
      "| 126373|          925|\n",
      "|   1238|         4981|\n",
      "|  47084|          881|\n",
      "|   4935|         2878|\n",
      "|  25591|          135|\n",
      "|  29601|         2290|\n",
      "|  38422|          136|\n",
      "|  45341|          869|\n",
      "|  47711|         1125|\n",
      "|  82730|         1470|\n",
      "|  93341|         2060|\n",
      "| 128589|          211|\n",
      "+-------+-------------+\n",
      "only showing top 20 rows\n",
      "\n"
     ]
    },
    {
     "name": "stderr",
     "output_type": "stream",
     "text": [
      "                                                                                \r"
     ]
    }
   ],
   "source": [
    "song_ratings_count = df.groupBy(\"song_id\").count()\n",
    "song_ratings_count = song_ratings_count.withColumnRenamed(\"count\", \"ratings_count\")\n",
    "song_ratings_count.show()"
   ]
  },
  {
   "cell_type": "code",
   "execution_count": 20,
   "id": "b57d8341",
   "metadata": {},
   "outputs": [
    {
     "name": "stderr",
     "output_type": "stream",
     "text": [
      "[Stage 158:==================================================>    (12 + 1) / 13]\r"
     ]
    },
    {
     "name": "stdout",
     "output_type": "stream",
     "text": [
      "Minimum value: 74\n",
      "Maximum value: 36810\n"
     ]
    },
    {
     "name": "stderr",
     "output_type": "stream",
     "text": [
      "                                                                                \r"
     ]
    }
   ],
   "source": [
    "min_max_values = song_ratings_count.select(min(\"ratings_count\").alias(\"min_value\"), max(\"ratings_count\").alias(\"max_value\")).first()\n",
    "\n",
    "min_value = min_max_values[\"min_value\"]\n",
    "max_value = min_max_values[\"max_value\"]\n",
    "\n",
    "print(\"Minimum value:\", min_value)\n",
    "print(\"Maximum value:\", max_value)"
   ]
  },
  {
   "cell_type": "code",
   "execution_count": 21,
   "id": "b04614e7",
   "metadata": {},
   "outputs": [
    {
     "name": "stderr",
     "output_type": "stream",
     "text": [
      "                                                                                \r"
     ]
    },
    {
     "data": {
      "image/png": "[encoded data removed]",
      "text/plain": [
       "<Figure size 1000x600 with 1 Axes>"
      ]
     },
     "metadata": {},
     "output_type": "display_data"
    },
    {
     "name": "stderr",
     "output_type": "stream",
     "text": [
      "[Stage 171:==================================================>    (12 + 1) / 13]\r"
     ]
    },
    {
     "name": "stdout",
     "output_type": "stream",
     "text": [
      "Total number of songs rated: 136736\n"
     ]
    },
    {
     "name": "stderr",
     "output_type": "stream",
     "text": [
      "                                                                                \r"
     ]
    }
   ],
   "source": [
    "data = song_ratings_count.toPandas()\n",
    "\n",
    "plt.figure(figsize=(10, 6))\n",
    "plt.hist(data['ratings_count'], bins=30, edgecolor='black')\n",
    "plt.title('Distribution of Rating Counts per Song')\n",
    "plt.xlabel('Number of Ratings')\n",
    "plt.ylabel('Frequency')\n",
    "plt.show()\n",
    "\n",
    "total_songs = song_ratings_count.count()\n",
    "print(\"Total number of songs rated:\", total_songs)"
   ]
  },
  {
   "cell_type": "code",
   "execution_count": 22,
   "id": "0c3267e9",
   "metadata": {},
   "outputs": [
    {
     "name": "stderr",
     "output_type": "stream",
     "text": [
      "[Stage 184:==================================================>    (12 + 1) / 13]\r"
     ]
    },
    {
     "name": "stdout",
     "output_type": "stream",
     "text": [
      "Song ratings dataframe without outliers (IQR/lower bound/upper bound): 117916\n"
     ]
    },
    {
     "name": "stderr",
     "output_type": "stream",
     "text": [
      "                                                                                \r"
     ]
    }
   ],
   "source": [
    "quantiles = song_ratings_count.approxQuantile(\"ratings_count\", [0.25, 0.75], 0.05)\n",
    "Q1 = quantiles[0]\n",
    "Q3 = quantiles[1]\n",
    "IQR = Q3 - Q1\n",
    "\n",
    "lower_bound = Q1 - (1.5 * IQR)\n",
    "upper_bound = Q3 + (1.5 * IQR)\n",
    "\n",
    "filtered_song_df = song_ratings_count.filter((col(\"ratings_count\") >= lower_bound) & (col(\"ratings_count\") <= upper_bound))\n",
    "\n",
    "print(\"Song ratings dataframe without outliers (IQR/lower bound/upper bound):\", filtered_song_df.count())"
   ]
  },
  {
   "cell_type": "code",
   "execution_count": 23,
   "id": "b692a447",
   "metadata": {},
   "outputs": [
    {
     "name": "stderr",
     "output_type": "stream",
     "text": [
      "                                                                                \r"
     ]
    },
    {
     "data": {
      "image/png": "[encoded data removed]",
      "text/plain": [
       "<Figure size 1000x600 with 1 Axes>"
      ]
     },
     "metadata": {},
     "output_type": "display_data"
    }
   ],
   "source": [
    "filtered_song_df_data = filtered_song_df.toPandas()\n",
    "\n",
    "plt.figure(figsize=(10, 6))\n",
    "plt.hist(filtered_song_df_data['ratings_count'], bins=30, edgecolor='black')\n",
    "plt.title('New Distribution of Rating Counts per Song')\n",
    "plt.xlabel('Number of Ratings')\n",
    "plt.ylabel('Frequency')\n",
    "plt.show()"
   ]
  },
  {
   "cell_type": "code",
   "execution_count": 24,
   "id": "0891db81",
   "metadata": {},
   "outputs": [
    {
     "name": "stderr",
     "output_type": "stream",
     "text": [
      "[Stage 201:======================================>                  (4 + 2) / 6]\r"
     ]
    },
    {
     "name": "stdout",
     "output_type": "stream",
     "text": [
      "New dataset count (filtered song ratings outliers) 31500200\n"
     ]
    },
    {
     "name": "stderr",
     "output_type": "stream",
     "text": [
      "                                                                                \r"
     ]
    }
   ],
   "source": [
    "filtered_song_df_new = df.join(filtered_song_df.select(\"song_id\"), on=\"song_id\", how=\"inner\")\n",
    "print(\"New dataset count (filtered song ratings outliers)\", filtered_song_df_new.count())"
   ]
  },
  {
   "cell_type": "markdown",
   "id": "f514ad66",
   "metadata": {},
   "source": [
    "Filter dataset so it removes outliers of user and song ratings"
   ]
  },
  {
   "cell_type": "code",
   "execution_count": 25,
   "id": "b77376a0",
   "metadata": {},
   "outputs": [
    {
     "name": "stderr",
     "output_type": "stream",
     "text": [
      "[Stage 218:>                                                        (0 + 4) / 5]\r"
     ]
    },
    {
     "name": "stdout",
     "output_type": "stream",
     "text": [
      "New dataset count (filtered user & song ratings outliers) 9259058\n"
     ]
    },
    {
     "name": "stderr",
     "output_type": "stream",
     "text": [
      "                                                                                \r"
     ]
    }
   ],
   "source": [
    "filtered_user_final_df = df.join(filtered_df.select(\"user_id\"), on=\"user_id\", how=\"inner\")\n",
    "filtered_final_df = filtered_user_final_df.join(filtered_song_df.select(\"song_id\"), on=\"song_id\", how=\"inner\")\n",
    "print(\"New dataset count (filtered user & song ratings outliers)\", filtered_final_df.count())"
   ]
  },
  {
   "cell_type": "code",
   "execution_count": 26,
   "id": "9c856bbe",
   "metadata": {},
   "outputs": [
    {
     "name": "stderr",
     "output_type": "stream",
     "text": [
      "                                                                                \r"
     ]
    },
    {
     "name": "stdout",
     "output_type": "stream",
     "text": [
      "+-------+-------+------+--------+---------+--------+------------+\n",
      "|user_id|song_id|rating|album_id|artist_id|genre_id|  genre_name|\n",
      "+-------+-------+------+--------+---------+--------+------------+\n",
      "| 400001|  30670|     4|    6695|     9367|       0|     Unknown|\n",
      "| 400001|  94003|     4|    4661|     8187|       0|     Unknown|\n",
      "| 400001|  13843|     4|    7169|     2105|       0|     Unknown|\n",
      "| 400001|  39919|     5|   16811|     2105|       0|     Unknown|\n",
      "| 400001|  84589|     5|    8179|     8444|       0|     Unknown|\n",
      "| 400001|  18936|     5|   10268|     5068|       0|     Unknown|\n",
      "| 400001|  94466|     4|   10712|     7621|       0|     Unknown|\n",
      "| 400001|   3723|     5|   14162|     2020|     135|Classic Rock|\n",
      "| 400001|  18663|     4|    8240|     3065|       0|     Unknown|\n",
      "| 400001| 105499|     4|   10633|     8673|       0|     Unknown|\n",
      "| 400001|  41073|     4|    3334|      868|       0|     Unknown|\n",
      "| 400001| 121369|     5|   14800|      770|       0|     Unknown|\n",
      "| 400001|  82451|     5|   11652|     9118|       0|     Unknown|\n",
      "| 400001| 114859|     5|    7802|     5785|       0|     Unknown|\n",
      "| 400001| 125351|     4|    8053|     8187|       0|     Unknown|\n",
      "| 400001| 117092|     5|   10335|     5958|       0|     Unknown|\n",
      "| 400001|  59796|     5|    3298|     2956|       0|     Unknown|\n",
      "| 400001|  10479|     5|   12051|     8021|     134|        Rock|\n",
      "| 400001|  18878|     5|   12051|     8021|     134|        Rock|\n",
      "| 400001|  56660|     4|   11718|     3667|       0|     Unknown|\n",
      "+-------+-------+------+--------+---------+--------+------------+\n",
      "only showing top 20 rows\n",
      "\n"
     ]
    },
    {
     "name": "stderr",
     "output_type": "stream",
     "text": [
      "                                                                                \r"
     ]
    },
    {
     "name": "stdout",
     "output_type": "stream",
     "text": [
      "+-------+-------+------+--------+---------+--------+------------+\n",
      "|user_id|song_id|rating|album_id|artist_id|genre_id|  genre_name|\n",
      "+-------+-------+------+--------+---------+--------+------------+\n",
      "| 400001|  94466|     4|   10712|     7621|       0|     Unknown|\n",
      "| 400001| 114356|     4|   17519|       69|     134|        Rock|\n",
      "| 400001|  83028|     5|    7194|     7676|       0|     Unknown|\n",
      "| 400001| 121369|     5|   14800|      770|       0|     Unknown|\n",
      "| 400001| 117092|     5|   10335|     5958|       0|     Unknown|\n",
      "| 400001|  66132|     5|    5618|     8444|       0|     Unknown|\n",
      "| 400001|   3723|     5|   14162|     2020|     135|Classic Rock|\n",
      "| 400001|  90136|     4|    6176|     3371|       0|     Unknown|\n",
      "| 400001|  39919|     5|   16811|     2105|       0|     Unknown|\n",
      "| 400001| 136062|     4|    9357|     8638|       0|     Unknown|\n",
      "| 400003|  90171|     2|   11871|     8359|       0|     Unknown|\n",
      "| 400003|  44145|     5|    9280|      312|       0|     Unknown|\n",
      "| 400003|  99595|     5|   12268|     8543|       0|     Unknown|\n",
      "| 400003|  20848|     5|   18418|     1375|      47|       Blues|\n",
      "| 400003|  61463|     4|   19702|     7088|       0|     Unknown|\n",
      "| 400003|  14590|     5|   17823|     4343|      51| Early Blues|\n",
      "| 400003|  34267|     5|   17823|     4343|      51| Early Blues|\n",
      "| 400003|  39081|     3|   12930|     8745|     134|        Rock|\n",
      "| 400003|  92805|     4|    7621|     8560|       0|     Unknown|\n",
      "| 400003|  51465|     4|   13762|     5445|       0|     Unknown|\n",
      "+-------+-------+------+--------+---------+--------+------------+\n",
      "only showing top 20 rows\n",
      "\n"
     ]
    },
    {
     "name": "stderr",
     "output_type": "stream",
     "text": [
      "                                                                                \r"
     ]
    },
    {
     "name": "stdout",
     "output_type": "stream",
     "text": [
      "Train data count: 29381421\n"
     ]
    },
    {
     "name": "stderr",
     "output_type": "stream",
     "text": [
      "[Stage 300:>                                                        (0 + 4) / 5]\r"
     ]
    },
    {
     "name": "stdout",
     "output_type": "stream",
     "text": [
      "Test data count: 1734630\n"
     ]
    },
    {
     "name": "stderr",
     "output_type": "stream",
     "text": [
      "                                                                                \r"
     ]
    }
   ],
   "source": [
    "# Create train test split such that there is still at least 10 random ratings per user in the test set\n",
    "\n",
    "# Shuffle the data\n",
    "shuffled_df = filtered_df_new.orderBy(rand())\n",
    "\n",
    "# Assign row numbers within each user_id partition\n",
    "window = Window.partitionBy(\"user_id\").orderBy(rand())\n",
    "df = shuffled_df.withColumn(\"row_number\", row_number().over(window))\n",
    "\n",
    "train_df = df.filter(col(\"row_number\") > 10)\n",
    "test_df = df.filter(col(\"row_number\") <= 10)\n",
    "\n",
    "train_df = train_df.drop(\"row_number\")\n",
    "test_df = test_df.drop(\"row_number\")\n",
    "train_df.show(20)\n",
    "test_df.show(20)\n",
    "print(\"Train data count:\", train_df.count())\n",
    "print(\"Test data count:\", test_df.count())"
   ]
  },
  {
   "cell_type": "code",
   "execution_count": 27,
   "id": "896788a6",
   "metadata": {},
   "outputs": [
    {
     "name": "stderr",
     "output_type": "stream",
     "text": [
      "                                                                                \r"
     ]
    }
   ],
   "source": [
    "# Make dirs if not exist\n",
    "!mkdir -p $TRAIN_DIR\n",
    "!mkdir -p $TEST_DIR\n",
    "\n",
    "# Save Train to local\n",
    "train_df = train_df.coalesce(1)\n",
    "test_df = test_df.coalesce(1)\n",
    "train_df.write.csv(f\"file://{TRAIN_DIR}/temp\", header=False, mode=\"overwrite\", sep=\"\\t\")\n",
    "test_df.write.csv(f\"file://{TEST_DIR}/temp\", header=False, mode=\"overwrite\", sep=\"\\t\")"
   ]
  },
  {
   "cell_type": "code",
   "execution_count": 28,
   "id": "2d24e1ad",
   "metadata": {},
   "outputs": [],
   "source": [
    "# Move to single file\n",
    "! rm -rf $TRAIN_DIR/train_0.txt\n",
    "! mv $TRAIN_DIR/temp/part-00000* $TRAIN_DIR/train_0.txt\n",
    "! rm -rf $TEST_DIR/test_0.txt\n",
    "! mv $TEST_DIR/temp/part-00000* $TEST_DIR/test_0.txt\n",
    "\n",
    "# Clean up\n",
    "! rm -rf $TRAIN_DIR/temp\n",
    "! rm -rf $TEST_DIR/temp"
   ]
  }
 ],
 "metadata": {
  "kernelspec": {
   "display_name": "Python 3 (ipykernel)",
   "language": "python",
   "name": "python3"
  },
  "language_info": {
   "codemirror_mode": {
    "name": "ipython",
    "version": 3
   },
   "file_extension": ".py",
   "mimetype": "text/x-python",
   "name": "python",
   "nbconvert_exporter": "python",
   "pygments_lexer": "ipython3",
   "version": "3.10.12"
  }
 },
 "nbformat": 4,
 "nbformat_minor": 5
}
