{
 "cells": [
  {
   "cell_type": "markdown",
   "id": "f4972f21",
   "metadata": {},
   "source": [
    "# Preliminary EDA"
   ]
  },
  {
   "cell_type": "code",
   "execution_count": 1,
   "id": "71aa217b",
   "metadata": {},
   "outputs": [],
   "source": [
    "# Suppress native-hadoop warning\n",
    "!sed -i '$a\\# Add the line for suppressing the NativeCodeLoader warning \\nlog4j.logger.org.apache.hadoop.util.NativeCodeLoader=ERROR,console' /$HADOOP_HOME/etc/hadoop/log4j.properties"
   ]
  },
  {
   "cell_type": "code",
   "execution_count": 2,
   "id": "5902063a",
   "metadata": {},
   "outputs": [],
   "source": [
    "import sys\n",
    "sys.path.append('/home/work')\n",
    "BASE_DIR = '/home/work'"
   ]
  },
  {
   "cell_type": "code",
   "execution_count": 31,
   "id": "b4d62767",
   "metadata": {},
   "outputs": [],
   "source": [
    "import pyspark\n",
    "from pyspark.sql import SparkSession, functions as F\n",
    "from pyspark.sql.functions import split, col, count, desc\n",
    "import pandas as pd\n",
    "import seaborn as sns\n",
    "import matplotlib.pyplot as plt\n",
    "\n",
    "from data.utils.data_loader import load_file_from_hdfs"
   ]
  },
  {
   "cell_type": "code",
   "execution_count": 5,
   "id": "2ab1be3b",
   "metadata": {},
   "outputs": [
    {
     "name": "stdout",
     "output_type": "stream",
     "text": [
      "('spark.sql.warehouse.dir', 'file:/home/work/Project/repo/scalable-music-recommender/spark-warehouse')\n",
      "('spark.master', 'local[4]')\n",
      "('spark.app.id', 'local-1716881047831')\n",
      "('spark.driver.port', '34753')\n",
      "('spark.app.name', 'App Name')\n",
      "('spark.executor.id', 'driver')\n",
      "('spark.driver.extraJavaOptions', '-Djava.net.preferIPv6Addresses=false -XX:+IgnoreUnrecognizedVMOptions --add-opens=java.base/java.lang=ALL-UNNAMED --add-opens=java.base/java.lang.invoke=ALL-UNNAMED --add-opens=java.base/java.lang.reflect=ALL-UNNAMED --add-opens=java.base/java.io=ALL-UNNAMED --add-opens=java.base/java.net=ALL-UNNAMED --add-opens=java.base/java.nio=ALL-UNNAMED --add-opens=java.base/java.util=ALL-UNNAMED --add-opens=java.base/java.util.concurrent=ALL-UNNAMED --add-opens=java.base/java.util.concurrent.atomic=ALL-UNNAMED --add-opens=java.base/sun.nio.ch=ALL-UNNAMED --add-opens=java.base/sun.nio.cs=ALL-UNNAMED --add-opens=java.base/sun.security.action=ALL-UNNAMED --add-opens=java.base/sun.util.calendar=ALL-UNNAMED --add-opens=java.security.jgss/sun.security.krb5=ALL-UNNAMED -Djdk.reflect.useDirectMethodHandle=false')\n",
      "('spark.app.submitTime', '1716881047086')\n",
      "('spark.app.startTime', '1716881047204')\n",
      "('spark.driver.host', '601554a2d0f4')\n",
      "('spark.rdd.compress', 'True')\n",
      "('spark.serializer.objectStreamReset', '100')\n",
      "('spark.submit.pyFiles', '')\n",
      "('spark.submit.deployMode', 'client')\n",
      "('spark.ui.showConsoleProgress', 'true')\n",
      "('spark.executor.extraJavaOptions', '-Djava.net.preferIPv6Addresses=false -XX:+IgnoreUnrecognizedVMOptions --add-opens=java.base/java.lang=ALL-UNNAMED --add-opens=java.base/java.lang.invoke=ALL-UNNAMED --add-opens=java.base/java.lang.reflect=ALL-UNNAMED --add-opens=java.base/java.io=ALL-UNNAMED --add-opens=java.base/java.net=ALL-UNNAMED --add-opens=java.base/java.nio=ALL-UNNAMED --add-opens=java.base/java.util=ALL-UNNAMED --add-opens=java.base/java.util.concurrent=ALL-UNNAMED --add-opens=java.base/java.util.concurrent.atomic=ALL-UNNAMED --add-opens=java.base/sun.nio.ch=ALL-UNNAMED --add-opens=java.base/sun.nio.cs=ALL-UNNAMED --add-opens=java.base/sun.security.action=ALL-UNNAMED --add-opens=java.base/sun.util.calendar=ALL-UNNAMED --add-opens=java.security.jgss/sun.security.krb5=ALL-UNNAMED -Djdk.reflect.useDirectMethodHandle=false')\n"
     ]
    }
   ],
   "source": [
    "conf = pyspark.SparkConf()\n",
    "settings = conf.getAll()\n",
    "\n",
    "# Set Spark Settings\n",
    "conf = pyspark.SparkConf().setAll([\n",
    "('spark.master', 'local[4]'),\n",
    "('spark.app.name', 'MusicRecommender'),\n",
    "('spark.driver.memory','14g')])\n",
    "spark = SparkSession.builder.config(conf=conf).getOrCreate()\n",
    "\n",
    "# Print the Spark Session settings\n",
    "settings = spark.sparkContext.getConf().getAll()\n",
    "for s in settings:\n",
    "    print(s)"
   ]
  },
  {
   "cell_type": "markdown",
   "id": "27e9dd37",
   "metadata": {},
   "source": [
    "song_ratings_file_path = \"/raw/train/train_0.txt\"\n",
    "song_ratings = load_file_from_hdfs(song_ratings_file_path)"
   ]
  },
  {
   "cell_type": "code",
   "execution_count": 41,
   "id": "82711f30",
   "metadata": {},
   "outputs": [],
   "source": [
    "song_attributes_file_path = \"song-attributes.txt\"\n",
    "#song_attributes = load_file_from_hdfs(song_attributes_file_path)\n",
    "song_attributes = spark.read.text(\"file:///home/work/Project/yahoo_dataset/song-attributes.txt\").cache()\n",
    "\n",
    "genre_hierarchy_file_path = \"genre-hierarchy.txt\"\n",
    "#genre_hierarchy = load_file_from_hdfs(genre_hierarchy_file_path)\n",
    "genre_hierarchy = spark.read.text(\"file:///home/work/Project/yahoo_dataset/genre-hierarchy.txt\").cache()"
   ]
  },
  {
   "cell_type": "code",
   "execution_count": 42,
   "id": "c575fdef",
   "metadata": {},
   "outputs": [
    {
     "name": "stderr",
     "output_type": "stream",
     "text": [
      "                                                                                \r"
     ]
    },
    {
     "name": "stdout",
     "output_type": "stream",
     "text": [
      "+-------+-----------------+-----------------+------------------+------------------+------------------+-----------------+-----------------+\n",
      "|summary|         genre_id|          song_id|           user_id|            rating|          album_id|        artist_id|       genre_name|\n",
      "+-------+-----------------+-----------------+------------------+------------------+------------------+-----------------+-----------------+\n",
      "|  count|         76344627|         76344627|          76344627|          76344627|          76344627|         76344627|         76344627|\n",
      "|   mean|16.77831798169634|68279.70831871378|100040.94482474844|3.1534895834909245|10362.502501191078|4776.541211367763|             NULL|\n",
      "| stddev|43.07284877305525|39461.31233820892|57753.049739694885|1.5995359813629222| 5905.052390982921|2681.146670597712|             NULL|\n",
      "|    min|                0|                0|                 0|                 1|                 0|                0|Adult Alternative|\n",
      "|    max|               88|           136735|            199999|                 5|             20542|             9441|            World|\n",
      "+-------+-----------------+-----------------+------------------+------------------+------------------+-----------------+-----------------+\n",
      "\n"
     ]
    },
    {
     "name": "stderr",
     "output_type": "stream",
     "text": [
      "                                                                                \r"
     ]
    }
   ],
   "source": [
    "def cleaned_df(song_ratings, song_attributes, genre_hierarchy):\n",
    "    song_ratings = song_ratings.withColumnRenamed(\"_c0\", \"user_id\") \\\n",
    "        .withColumnRenamed(\"_c1\", \"song_id\") \\\n",
    "        .withColumnRenamed(\"_c2\", \"rating\") \n",
    "    song_attributes = song_attributes.withColumn(\"song_id\", split(song_attributes.value, \"\\t\")[0]) \\\n",
    "       .withColumn(\"album_id\", split(song_attributes.value, \"\\t\")[1]) \\\n",
    "       .withColumn(\"artist_id\", split(song_attributes.value, \"\\t\")[2]) \\\n",
    "       .withColumn(\"genre_id\", split(song_attributes.value, \"\\t\")[3]) \\\n",
    "       .drop(\"value\")\n",
    "    song_attributes = song_attributes.withColumn(\"song_id\", col(\"song_id\").cast(\"integer\")) \\\n",
    "       .withColumn(\"album_id\", col(\"album_id\").cast(\"integer\")) \\\n",
    "       .withColumn(\"artist_id\", col(\"artist_id\").cast(\"integer\"))\n",
    "    genre_hierarchy = genre_hierarchy.withColumn(\"genre_id\", split(genre_hierarchy.value, \"\\t\")[0]) \\\n",
    "       .withColumn(\"parent_genre_id\", split(genre_hierarchy.value, \"\\t\")[1]) \\\n",
    "       .withColumn(\"level\", split(genre_hierarchy.value, \"\\t\")[2]) \\\n",
    "       .withColumn(\"genre_name\", split(genre_hierarchy.value, \"\\t\")[3]) \\\n",
    "       .drop(\"value\")\n",
    "    genre_hierarchy = genre_hierarchy.withColumn(\"genre_id\", col(\"genre_id\").cast(\"integer\")) \\\n",
    "       .withColumn(\"parent_genre_id\", col(\"parent_genre_id\").cast(\"integer\")) \\\n",
    "       .withColumn(\"level\", col(\"level\").cast(\"integer\"))\n",
    "\n",
    "    df = song_ratings.join(song_attributes, \"song_id\", how=\"inner\")\n",
    "    df = df.join(genre_hierarchy,\"genre_id\", how=\"inner\")\n",
    "\n",
    "    df = df.drop('parent_genre_id').drop('level')\n",
    "    df.describe().show()\n",
    "\n",
    "    null_columns = {column: df.filter(col(column).isNull()).count() for column in df.columns}\n",
    "    null_columns\n",
    "    \n",
    "    return df\n",
    "df = cleaned_df(song_ratings, song_attributes,genre_hierarchy)"
   ]
  },
  {
   "cell_type": "code",
   "execution_count": 43,
   "id": "0fa8fa0b",
   "metadata": {},
   "outputs": [
    {
     "name": "stderr",
     "output_type": "stream",
     "text": [
      "[Stage 59:===================================================>      (8 + 1) / 9]\r"
     ]
    },
    {
     "name": "stdout",
     "output_type": "stream",
     "text": [
      "+-------+-------------+\n",
      "|user_id|ratings_count|\n",
      "+-------+-------------+\n",
      "|    148|          205|\n",
      "|    463|          335|\n",
      "|    471|          329|\n",
      "|    496|          314|\n",
      "|    833|          136|\n",
      "|   1088|         1254|\n",
      "|   1238|          129|\n",
      "|   1342|           77|\n",
      "|   1580|         1213|\n",
      "|   1591|           88|\n",
      "|   1645|           28|\n",
      "|   1829|          193|\n",
      "|   1959|          647|\n",
      "|   2122|           22|\n",
      "|   2142|          204|\n",
      "|   2366|          123|\n",
      "|   2659|           70|\n",
      "|   2866|         1332|\n",
      "|   3175|           40|\n",
      "|   3749|          111|\n",
      "+-------+-------------+\n",
      "only showing top 20 rows\n",
      "\n"
     ]
    },
    {
     "name": "stderr",
     "output_type": "stream",
     "text": [
      "                                                                                \r"
     ]
    }
   ],
   "source": [
    "# get users rating count \n",
    "user_ratings_count = df.groupBy(\"user_id\").count()\n",
    "user_ratings_count = user_ratings_count.withColumnRenamed(\"count\", \"ratings_count\")\n",
    "user_ratings_count.show()"
   ]
  },
  {
   "cell_type": "code",
   "execution_count": 44,
   "id": "88676999",
   "metadata": {},
   "outputs": [
    {
     "name": "stderr",
     "output_type": "stream",
     "text": [
      "[Stage 64:===================================================>      (8 + 1) / 9]\r"
     ]
    },
    {
     "name": "stdout",
     "output_type": "stream",
     "text": [
      "min_value 20 max_value 71009\n"
     ]
    },
    {
     "name": "stderr",
     "output_type": "stream",
     "text": [
      "                                                                                \r"
     ]
    }
   ],
   "source": [
    "from pyspark.sql.functions import min,max\n",
    "min_max_values = user_ratings_count.select(min(\"ratings_count\").alias(\"min_value\"), max(\"ratings_count\").alias(\"max_value\")).first()\n",
    "\n",
    "min_value = min_max_values[\"min_value\"]\n",
    "max_value = min_max_values[\"max_value\"]\n",
    "\n",
    "print(\"min_value\", min_value, \"max_value\", max_value)"
   ]
  },
  {
   "cell_type": "code",
   "execution_count": 45,
   "id": "19ec3a30",
   "metadata": {},
   "outputs": [
    {
     "name": "stderr",
     "output_type": "stream",
     "text": [
      "                                                                                \r"
     ]
    },
    {
     "data": {
      "image/png": "[encoded data removed]",
      "text/plain": [
       "<Figure size 1000x600 with 1 Axes>"
      ]
     },
     "metadata": {},
     "output_type": "display_data"
    },
    {
     "name": "stderr",
     "output_type": "stream",
     "text": [
      "[Stage 77:=============================================>            (7 + 2) / 9]\r"
     ]
    },
    {
     "name": "stdout",
     "output_type": "stream",
     "text": [
      "Total number of users: 200000\n"
     ]
    },
    {
     "name": "stderr",
     "output_type": "stream",
     "text": [
      "                                                                                \r"
     ]
    }
   ],
   "source": [
    "import matplotlib.pyplot as plt\n",
    "import seaborn as sns\n",
    "\n",
    "data= user_ratings_count.toPandas()\n",
    "\n",
    "#data = user_ratings_count.select(\"ratings_count\").rdd.flatMap(lambda x: x).collect()\n",
    "\n",
    "\n",
    "plt.figure(figsize=(10, 6))\n",
    "#sns.histplot(data, bins=50, kde=True)\n",
    "plt.hist(data['ratings_count'], bins=30, edgecolor='black')\n",
    "plt.title('Distribution of Rating Counts per User')\n",
    "plt.xlabel('Number of Ratings')\n",
    "plt.ylabel('Frequency')\n",
    "plt.show()\n",
    "\n",
    "total_users = user_ratings_count.count()\n",
    "print(\"Total number of users:\", total_users)"
   ]
  },
  {
   "cell_type": "code",
   "execution_count": 46,
   "id": "7b9b19d5",
   "metadata": {},
   "outputs": [
    {
     "name": "stderr",
     "output_type": "stream",
     "text": [
      "[Stage 93:===================================================>      (8 + 1) / 9]\r"
     ]
    },
    {
     "name": "stdout",
     "output_type": "stream",
     "text": [
      "+-------+-------------+------------------+\n",
      "|user_id|ratings_count| log_ratings_count|\n",
      "+-------+-------------+------------------+\n",
      "|    148|          205|5.3230099791384085|\n",
      "|    463|          335| 5.814130531825066|\n",
      "|    471|          329| 5.796057750765372|\n",
      "|    496|          314| 5.749392985908253|\n",
      "|    833|          136| 4.912654885736052|\n",
      "|   1088|         1254| 7.134093721192866|\n",
      "|   1238|          129| 4.859812404361672|\n",
      "|   1342|           77| 4.343805421853684|\n",
      "|   1580|         1213|  7.10085190894405|\n",
      "|   1591|           88| 4.477336814478207|\n",
      "|   1645|           28| 3.332204510175204|\n",
      "|   1829|          193| 5.262690188904886|\n",
      "|   1959|          647| 6.472346294500901|\n",
      "|   2122|           22| 3.091042453358316|\n",
      "|   2142|          204| 5.318119993844216|\n",
      "|   2366|          123| 4.812184355372417|\n",
      "|   2659|           70| 4.248495242049359|\n",
      "|   2866|         1332| 7.194436851100335|\n",
      "|   3175|           40|3.6888794541139363|\n",
      "|   3749|          111| 4.709530201312334|\n",
      "+-------+-------------+------------------+\n",
      "only showing top 20 rows\n",
      "\n"
     ]
    },
    {
     "name": "stderr",
     "output_type": "stream",
     "text": [
      "                                                                                \r"
     ]
    }
   ],
   "source": [
    "# normalization or log\n",
    "# log better addresses skewness so choose log\n",
    "from pyspark.sql.functions import log\n",
    "user_ratings_count[user_ratings_count['ratings_count'] == 0].count() # no zero\n",
    "user_ratings_count = user_ratings_count.withColumn('log_ratings_count', log(user_ratings_count['ratings_count']))  \n",
    "user_ratings_count.show()"
   ]
  },
  {
   "cell_type": "code",
   "execution_count": 47,
   "id": "ed3bf204",
   "metadata": {},
   "outputs": [
    {
     "name": "stderr",
     "output_type": "stream",
     "text": [
      "                                                                                \r"
     ]
    },
    {
     "data": {
      "image/png": "[encoded data removed]",
      "text/plain": [
       "<Figure size 640x480 with 1 Axes>"
      ]
     },
     "metadata": {},
     "output_type": "display_data"
    }
   ],
   "source": [
    "import matplotlib.pyplot as plt\n",
    "\n",
    "user_ratings_count_p = user_ratings_count.toPandas()\n",
    "\n",
    "plt.hist(user_ratings_count_p['log_ratings_count'], bins=30, edgecolor='black')\n",
    "plt.title('Logarithmic Transformation of User Ratings Count')\n",
    "plt.xlabel('User Ratings Count')\n",
    "plt.ylabel('Log Transformed Value')\n",
    "plt.show()"
   ]
  },
  {
   "cell_type": "code",
   "execution_count": 48,
   "id": "0eeb1f1f",
   "metadata": {},
   "outputs": [],
   "source": [
    "# remove users instead?"
   ]
  },
  {
   "cell_type": "code",
   "execution_count": 49,
   "id": "537927cd",
   "metadata": {},
   "outputs": [
    {
     "name": "stderr",
     "output_type": "stream",
     "text": [
      "                                                                                \r"
     ]
    },
    {
     "data": {
      "text/plain": [
       "176809"
      ]
     },
     "execution_count": 49,
     "metadata": {},
     "output_type": "execute_result"
    }
   ],
   "source": [
    "# 0 - 800 reviews in first two bin\n",
    "new_filtered = user_ratings_count.filter(user_ratings_count['ratings_count'] <= 800)\n",
    "new_filtered.count()"
   ]
  },
  {
   "cell_type": "code",
   "execution_count": 50,
   "id": "a88f76d0",
   "metadata": {},
   "outputs": [],
   "source": [
    "final_filtered_df = df.join(new_filtered.select(\"user_id\"), on=\"user_id\", how=\"inner\")"
   ]
  },
  {
   "cell_type": "code",
   "execution_count": 51,
   "id": "8871f7a8",
   "metadata": {},
   "outputs": [
    {
     "name": "stderr",
     "output_type": "stream",
     "text": [
      "[Stage 114:============================================>            (7 + 2) / 9]\r"
     ]
    },
    {
     "name": "stdout",
     "output_type": "stream",
     "text": [
      "+-------+--------+-------+------+--------+---------+----------+\n",
      "|user_id|genre_id|song_id|rating|album_id|artist_id|genre_name|\n",
      "+-------+--------+-------+------+--------+---------+----------+\n",
      "|    148|       0|     41|     5|   11089|       43|   Unknown|\n",
      "|    148|     134|    155|     4|   12051|     8021|      Rock|\n",
      "|    148|       0|    266|     2|    2406|     2450|   Unknown|\n",
      "|    148|       0|   1955|     5|   13388|     4777|   Unknown|\n",
      "|    148|       0|   2263|     5|    3079|      950|   Unknown|\n",
      "|    148|       0|   4462|     5|    6434|     9302|   Unknown|\n",
      "|    148|       0|   4607|     5|   10099|     5495|   Unknown|\n",
      "|    148|     114|   5236|     5|    2454|     9165|       R&B|\n",
      "|    148|       0|   7386|     5|    6815|     5495|   Unknown|\n",
      "|    148|       0|   7421|     5|   14130|      862|   Unknown|\n",
      "|    148|       0|   7464|     4|    7169|     2105|   Unknown|\n",
      "|    148|       0|   8024|     4|    1057|     6573|   Unknown|\n",
      "|    148|       0|   9269|     3|   17701|     4642|   Unknown|\n",
      "|    148|       0|  12062|     2|   16015|     9160|   Unknown|\n",
      "|    148|     134|  12717|     5|   11736|     8301|      Rock|\n",
      "|    148|       0|  13249|     5|   11089|       43|   Unknown|\n",
      "|    148|       0|  13280|     4|    7867|     7168|   Unknown|\n",
      "|    148|     114|  13317|     5|    2454|     9165|       R&B|\n",
      "|    148|     134|  13325|     5|   11736|     8301|      Rock|\n",
      "|    148|       0|  13943|     3|    6434|     9302|   Unknown|\n",
      "+-------+--------+-------+------+--------+---------+----------+\n",
      "only showing top 20 rows\n",
      "\n"
     ]
    },
    {
     "name": "stderr",
     "output_type": "stream",
     "text": [
      "                                                                                \r"
     ]
    }
   ],
   "source": [
    "final_filtered_df.show()"
   ]
  },
  {
   "cell_type": "code",
   "execution_count": null,
   "id": "0c286c0f",
   "metadata": {},
   "outputs": [],
   "source": []
  }
 ],
 "metadata": {
  "kernelspec": {
   "display_name": "Python 3 (ipykernel)",
   "language": "python",
   "name": "python3"
  },
  "language_info": {
   "codemirror_mode": {
    "name": "ipython",
    "version": 3
   },
   "file_extension": ".py",
   "mimetype": "text/x-python",
   "name": "python",
   "nbconvert_exporter": "python",
   "pygments_lexer": "ipython3",
   "version": "3.10.12"
  }
 },
 "nbformat": 4,
 "nbformat_minor": 5
}
