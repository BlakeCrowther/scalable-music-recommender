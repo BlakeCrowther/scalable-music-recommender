{
 "cells": [
  {
   "cell_type": "markdown",
   "id": "791ca84d",
   "metadata": {},
   "source": [
    "# Preliminary EDA"
   ]
  },
  {
   "cell_type": "code",
   "execution_count": 1,
   "id": "f755693f",
   "metadata": {},
   "outputs": [],
   "source": [
    "# Suppress native-hadoop warning\n",
    "!sed -i '$a\\# Add the line for suppressing the NativeCodeLoader warning \\nlog4j.logger.org.apache.hadoop.util.NativeCodeLoader=ERROR,console' /$HADOOP_HOME/etc/hadoop/log4j.properties"
   ]
  },
  {
   "cell_type": "code",
   "execution_count": 2,
   "id": "c854f81a",
   "metadata": {},
   "outputs": [],
   "source": [
    "import sys\n",
    "sys.path.append('/home/work')\n",
    "BASE_DIR = '/home/work'"
   ]
  },
  {
   "cell_type": "code",
   "execution_count": 3,
   "id": "ce0a3113",
   "metadata": {},
   "outputs": [],
   "source": [
    "import pyspark\n",
    "from pyspark.sql import SparkSession\n",
    "from pyspark.sql.functions import split, col, count, desc, min, max, log, abs, mean, stddev\n",
    "import pandas as pd\n",
    "import seaborn as sns\n",
    "import matplotlib.pyplot as plt\n",
    "\n",
    "from data.utils.data_loader import load_file_from_hdfs\n",
    "\n",
    "from EDA.clean_data import cleaned_df"
   ]
  },
  {
   "cell_type": "code",
   "execution_count": 4,
   "id": "696e00ab",
   "metadata": {},
   "outputs": [
    {
     "name": "stdout",
     "output_type": "stream",
     "text": [
      "('spark.master', 'local[4]')\n",
      "('spark.driver.port', '43923')\n",
      "('spark.app.startTime', '1716969999726')\n",
      "('spark.executor.id', 'driver')\n",
      "('spark.driver.host', '6050231e74e3')\n",
      "('spark.app.submitTime', '1716969999588')\n",
      "('spark.driver.extraJavaOptions', '-Djava.net.preferIPv6Addresses=false -XX:+IgnoreUnrecognizedVMOptions --add-opens=java.base/java.lang=ALL-UNNAMED --add-opens=java.base/java.lang.invoke=ALL-UNNAMED --add-opens=java.base/java.lang.reflect=ALL-UNNAMED --add-opens=java.base/java.io=ALL-UNNAMED --add-opens=java.base/java.net=ALL-UNNAMED --add-opens=java.base/java.nio=ALL-UNNAMED --add-opens=java.base/java.util=ALL-UNNAMED --add-opens=java.base/java.util.concurrent=ALL-UNNAMED --add-opens=java.base/java.util.concurrent.atomic=ALL-UNNAMED --add-opens=java.base/sun.nio.ch=ALL-UNNAMED --add-opens=java.base/sun.nio.cs=ALL-UNNAMED --add-opens=java.base/sun.security.action=ALL-UNNAMED --add-opens=java.base/sun.util.calendar=ALL-UNNAMED --add-opens=java.security.jgss/sun.security.krb5=ALL-UNNAMED -Djdk.reflect.useDirectMethodHandle=false')\n",
      "('spark.rdd.compress', 'True')\n",
      "('spark.serializer.objectStreamReset', '100')\n",
      "('spark.submit.pyFiles', '')\n",
      "('spark.submit.deployMode', 'client')\n",
      "('spark.app.name', 'MusicRecommender')\n",
      "('spark.app.id', 'local-1716970000385')\n",
      "('spark.driver.memory', '14g')\n",
      "('spark.ui.showConsoleProgress', 'true')\n",
      "('spark.executor.extraJavaOptions', '-Djava.net.preferIPv6Addresses=false -XX:+IgnoreUnrecognizedVMOptions --add-opens=java.base/java.lang=ALL-UNNAMED --add-opens=java.base/java.lang.invoke=ALL-UNNAMED --add-opens=java.base/java.lang.reflect=ALL-UNNAMED --add-opens=java.base/java.io=ALL-UNNAMED --add-opens=java.base/java.net=ALL-UNNAMED --add-opens=java.base/java.nio=ALL-UNNAMED --add-opens=java.base/java.util=ALL-UNNAMED --add-opens=java.base/java.util.concurrent=ALL-UNNAMED --add-opens=java.base/java.util.concurrent.atomic=ALL-UNNAMED --add-opens=java.base/sun.nio.ch=ALL-UNNAMED --add-opens=java.base/sun.nio.cs=ALL-UNNAMED --add-opens=java.base/sun.security.action=ALL-UNNAMED --add-opens=java.base/sun.util.calendar=ALL-UNNAMED --add-opens=java.security.jgss/sun.security.krb5=ALL-UNNAMED -Djdk.reflect.useDirectMethodHandle=false')\n"
     ]
    }
   ],
   "source": [
    "conf = pyspark.SparkConf()\n",
    "settings = conf.getAll()\n",
    "\n",
    "# Set Spark Settings\n",
    "conf = pyspark.SparkConf().setAll([\n",
    "('spark.master', 'local[4]'),\n",
    "('spark.app.name', 'MusicRecommender'),\n",
    "('spark.driver.memory','14g')])\n",
    "spark = SparkSession.builder.config(conf=conf).getOrCreate()\n",
    "\n",
    "# Print the Spark Session settings\n",
    "settings = spark.sparkContext.getConf().getAll()\n",
    "for s in settings:\n",
    "    print(s)"
   ]
  },
  {
   "cell_type": "markdown",
   "id": "b7698c91",
   "metadata": {},
   "source": [
    "Load choosen partition of song ratings, song attributes, and genre hierarchy."
   ]
  },
  {
   "cell_type": "code",
   "execution_count": 5,
   "id": "537867d6",
   "metadata": {},
   "outputs": [
    {
     "name": "stderr",
     "output_type": "stream",
     "text": [
      "                                                                                \r"
     ]
    }
   ],
   "source": [
    "song_ratings_train_file_path = \"/raw/train/train_2.txt\"\n",
    "song_ratings_train = load_file_from_hdfs(song_ratings_train_file_path)\n",
    "\n",
    "song_ratings_test_file_path = \"/raw/test/test_2.txt\"\n",
    "song_ratings_test = load_file_from_hdfs(song_ratings_test_file_path)\n",
    "\n",
    "song_ratings = song_ratings_train.union(song_ratings_test)\n",
    "\n",
    "song_attributes_file_path = \"song-attributes.txt\"\n",
    "song_attributes = load_file_from_hdfs(song_attributes_file_path)\n",
    "\n",
    "genre_hierarchy_file_path = \"genre-hierarchy.txt\"\n",
    "genre_hierarchy = load_file_from_hdfs(genre_hierarchy_file_path)"
   ]
  },
  {
   "cell_type": "markdown",
   "id": "1cdac222",
   "metadata": {},
   "source": [
    "Call cleaned_df function to get cleaned df from EDA"
   ]
  },
  {
   "cell_type": "code",
   "execution_count": 8,
   "id": "154bd8a1",
   "metadata": {},
   "outputs": [
    {
     "name": "stderr",
     "output_type": "stream",
     "text": [
      "                                                                                \r"
     ]
    },
    {
     "name": "stdout",
     "output_type": "stream",
     "text": [
      "+-------+------------------+-----------------+------------------+------------------+------------------+------------------+-----------------+\n",
      "|summary|          genre_id|          song_id|           user_id|            rating|          album_id|         artist_id|       genre_name|\n",
      "+-------+------------------+-----------------+------------------+------------------+------------------+------------------+-----------------+\n",
      "|  count|          78909821|         78909821|          78909821|          78909821|          78909821|          78909821|         78909821|\n",
      "|   mean|16.666298850177345|68274.02707812504|499746.46840439545|3.1528440674070213|10361.592222392697|4776.0641216636395|             NULL|\n",
      "| stddev| 42.91624825455018|39459.18779033151| 57936.75037674207|1.6030326088607252| 5906.090895444379| 2680.786813237493|             NULL|\n",
      "|    min|                 0|                0|            400000|                 1|                 0|                 0|Adult Alternative|\n",
      "|    max|               215|           136735|            599999|                 5|             20542|              9441|            World|\n",
      "+-------+------------------+-----------------+------------------+------------------+------------------+------------------+-----------------+\n",
      "\n"
     ]
    },
    {
     "name": "stderr",
     "output_type": "stream",
     "text": [
      "                                                                                \r"
     ]
    }
   ],
   "source": [
    "df = cleaned_df(song_ratings,song_attributes,genre_hierarchy)"
   ]
  },
  {
   "cell_type": "code",
   "execution_count": 9,
   "id": "f13d3489",
   "metadata": {},
   "outputs": [
    {
     "name": "stderr",
     "output_type": "stream",
     "text": [
      "                                                                                \r"
     ]
    },
    {
     "data": {
      "text/plain": [
       "78909821"
      ]
     },
     "execution_count": 9,
     "metadata": {},
     "output_type": "execute_result"
    }
   ],
   "source": [
    "df.count()"
   ]
  },
  {
   "cell_type": "markdown",
   "id": "7581991b",
   "metadata": {},
   "source": [
    "Get users' rating count to ensure balanced distribution of ratings per user."
   ]
  },
  {
   "cell_type": "code",
   "execution_count": 10,
   "id": "9641fa2b",
   "metadata": {},
   "outputs": [
    {
     "name": "stderr",
     "output_type": "stream",
     "text": [
      "[Stage 50:===================================================>    (12 + 1) / 13]\r"
     ]
    },
    {
     "name": "stdout",
     "output_type": "stream",
     "text": [
      "+-------+-------------+\n",
      "|user_id|ratings_count|\n",
      "+-------+-------------+\n",
      "| 400003|          266|\n",
      "| 400129|           60|\n",
      "| 400152|          108|\n",
      "| 400301|          375|\n",
      "| 400440|           36|\n",
      "| 400612|           67|\n",
      "| 400735|          312|\n",
      "| 400797|          161|\n",
      "| 400833|           69|\n",
      "| 400982|          687|\n",
      "| 401161|           38|\n",
      "| 401778|           43|\n",
      "| 401880|          403|\n",
      "| 401901|          678|\n",
      "| 402253|          161|\n",
      "| 402643|         2183|\n",
      "| 402896|          140|\n",
      "| 403340|         7576|\n",
      "| 403389|         1021|\n",
      "| 403422|           33|\n",
      "+-------+-------------+\n",
      "only showing top 20 rows\n",
      "\n"
     ]
    },
    {
     "name": "stderr",
     "output_type": "stream",
     "text": [
      "                                                                                \r"
     ]
    }
   ],
   "source": [
    "user_ratings_count = df.groupBy(\"user_id\").count()\n",
    "user_ratings_count = user_ratings_count.withColumnRenamed(\"count\", \"ratings_count\")\n",
    "user_ratings_count.show()"
   ]
  },
  {
   "cell_type": "markdown",
   "id": "b93da281",
   "metadata": {},
   "source": [
    "Min and max values of users are quite different. There must be some outliers."
   ]
  },
  {
   "cell_type": "code",
   "execution_count": 11,
   "id": "3f2241e8",
   "metadata": {},
   "outputs": [
    {
     "name": "stderr",
     "output_type": "stream",
     "text": [
      "[Stage 55:===================================================>    (12 + 1) / 13]\r"
     ]
    },
    {
     "name": "stdout",
     "output_type": "stream",
     "text": [
      "Minimum value: 30\n",
      "Maximum value: 131533\n"
     ]
    },
    {
     "name": "stderr",
     "output_type": "stream",
     "text": [
      "                                                                                \r"
     ]
    }
   ],
   "source": [
    "min_max_values = user_ratings_count.select(min(\"ratings_count\").alias(\"min_value\"), max(\"ratings_count\").alias(\"max_value\")).first()\n",
    "\n",
    "min_value = min_max_values[\"min_value\"]\n",
    "max_value = min_max_values[\"max_value\"]\n",
    "\n",
    "print(\"Minimum value:\", min_value)\n",
    "print(\"Maximum value:\", max_value)"
   ]
  },
  {
   "cell_type": "markdown",
   "id": "ecba0dd7",
   "metadata": {},
   "source": [
    "Distribution is extremely skewed."
   ]
  },
  {
   "cell_type": "code",
   "execution_count": 12,
   "id": "7ec802fe",
   "metadata": {},
   "outputs": [
    {
     "name": "stderr",
     "output_type": "stream",
     "text": [
      "                                                                                \r"
     ]
    },
    {
     "data": {
      "image/png": "[encoded data removed]",
      "text/plain": [
       "<Figure size 1000x600 with 1 Axes>"
      ]
     },
     "metadata": {},
     "output_type": "display_data"
    },
    {
     "name": "stderr",
     "output_type": "stream",
     "text": [
      "[Stage 68:===================================================>    (12 + 1) / 13]\r"
     ]
    },
    {
     "name": "stdout",
     "output_type": "stream",
     "text": [
      "Total number of users: 200000\n"
     ]
    },
    {
     "name": "stderr",
     "output_type": "stream",
     "text": [
      "                                                                                \r"
     ]
    }
   ],
   "source": [
    "data= user_ratings_count.toPandas()\n",
    "\n",
    "plt.figure(figsize=(10, 6))\n",
    "plt.hist(data['ratings_count'], bins=30, edgecolor='black')\n",
    "plt.title('Distribution of Rating Counts per User')\n",
    "plt.xlabel('Number of Ratings')\n",
    "plt.ylabel('Frequency')\n",
    "plt.show()\n",
    "\n",
    "total_users = user_ratings_count.count()\n",
    "print(\"Total number of users:\", total_users)"
   ]
  },
  {
   "cell_type": "code",
   "execution_count": 13,
   "id": "68db61d8",
   "metadata": {},
   "outputs": [
    {
     "name": "stderr",
     "output_type": "stream",
     "text": [
      "                                                                                \r"
     ]
    }
   ],
   "source": [
    "user_ratings_count[user_ratings_count['ratings_count'] == 0].count() # no zero\n",
    "user_ratings_count = user_ratings_count.withColumn('log_ratings_count', log(user_ratings_count['ratings_count']))  "
   ]
  },
  {
   "cell_type": "code",
   "execution_count": 15,
   "id": "a5345c7b",
   "metadata": {},
   "outputs": [
    {
     "name": "stderr",
     "output_type": "stream",
     "text": [
      "                                                                                \r"
     ]
    }
   ],
   "source": [
    "mean_log = user_ratings_count.select(mean(col(\"log_ratings_count\"))).collect()[0][0]\n",
    "stddev_log = user_ratings_count.select(stddev(col(\"log_ratings_count\"))).collect()[0][0]\n",
    "\n",
    "user_ratings_count = user_ratings_count.withColumn(\"z_score\", (col(\"log_ratings_count\") - mean_log) / stddev_log)\n",
    "user_ratings_count = user_ratings_count.withColumn(\"is_outlier\", abs(col(\"z_score\")) > 3) # threshold 3"
   ]
  },
  {
   "cell_type": "code",
   "execution_count": 16,
   "id": "35044cb9",
   "metadata": {},
   "outputs": [
    {
     "name": "stderr",
     "output_type": "stream",
     "text": [
      "                                                                                \r"
     ]
    },
    {
     "name": "stdout",
     "output_type": "stream",
     "text": [
      "Original DataFrame: 200000\n"
     ]
    },
    {
     "name": "stderr",
     "output_type": "stream",
     "text": [
      "[Stage 113:==================================================>    (12 + 1) / 13]\r"
     ]
    },
    {
     "name": "stdout",
     "output_type": "stream",
     "text": [
      "Cleaned DataFrame (without outliers): 199351\n"
     ]
    },
    {
     "name": "stderr",
     "output_type": "stream",
     "text": [
      "                                                                                \r"
     ]
    }
   ],
   "source": [
    "user_ratings_count_cleaned = user_ratings_count.filter(col(\"is_outlier\") == False)\n",
    "print(\"Original DataFrame:\", user_ratings_count.count())\n",
    "print(\"Cleaned DataFrame (without outliers):\", user_ratings_count_cleaned.count())"
   ]
  },
  {
   "cell_type": "markdown",
   "id": "74297039",
   "metadata": {},
   "source": [
    "Still extremely skewed with large range of ratings count."
   ]
  },
  {
   "cell_type": "code",
   "execution_count": 17,
   "id": "b204486b",
   "metadata": {},
   "outputs": [
    {
     "name": "stderr",
     "output_type": "stream",
     "text": [
      "                                                                                \r"
     ]
    },
    {
     "data": {
      "image/png": "[encoded data removed]",
      "text/plain": [
       "<Figure size 1000x600 with 1 Axes>"
      ]
     },
     "metadata": {},
     "output_type": "display_data"
    }
   ],
   "source": [
    "user_ratings_count_cleaned_data= user_ratings_count_cleaned.toPandas()\n",
    "\n",
    "plt.figure(figsize=(10, 6))\n",
    "plt.hist(user_ratings_count_cleaned_data['ratings_count'], bins=30, edgecolor='black')\n",
    "plt.title('New Distribution of Rating Counts per User')\n",
    "plt.xlabel('Number of Ratings')\n",
    "plt.ylabel('Frequency')\n",
    "plt.show()"
   ]
  },
  {
   "cell_type": "code",
   "execution_count": 18,
   "id": "6af9be58",
   "metadata": {},
   "outputs": [
    {
     "name": "stderr",
     "output_type": "stream",
     "text": [
      "[Stage 129:==================================================>    (12 + 1) / 13]\r"
     ]
    },
    {
     "name": "stdout",
     "output_type": "stream",
     "text": [
      "+-------+--------+-------+------+--------+---------+-----------+\n",
      "|user_id|genre_id|song_id|rating|album_id|artist_id| genre_name|\n",
      "+-------+--------+-------+------+--------+---------+-----------+\n",
      "| 400003|       0|    909|     5|   12325|     7868|    Unknown|\n",
      "| 400003|       0|   1078|     4|   15269|      443|    Unknown|\n",
      "| 400003|       0|   1244|     4|    4257|     6918|    Unknown|\n",
      "| 400003|       0|   3245|     3|   14647|     8510|    Unknown|\n",
      "| 400003|       0|   3378|     4|    1574|     1926|    Unknown|\n",
      "| 400003|       0|   5279|     5|   12268|     8543|    Unknown|\n",
      "| 400003|       0|   5448|     4|   12886|     7092|    Unknown|\n",
      "| 400003|       0|   7351|     4|    3442|     7254|    Unknown|\n",
      "| 400003|       0|   7475|     5|   18801|     5187|    Unknown|\n",
      "| 400003|     106|   9802|     3|    2136|     2640|        Pop|\n",
      "| 400003|       0|  11832|     5|   16836|     3279|    Unknown|\n",
      "| 400003|       0|  12383|     4|   10938|     9123|    Unknown|\n",
      "| 400003|       0|  13370|     5|    4257|     6918|    Unknown|\n",
      "| 400003|       0|  13436|     5|   20494|     1926|    Unknown|\n",
      "| 400003|       0|  13689|     5|    2515|     8828|    Unknown|\n",
      "| 400003|       0|  13932|     5|    2515|     8828|    Unknown|\n",
      "| 400003|       0|  14078|     3|   19162|     4293|    Unknown|\n",
      "| 400003|       0|  14363|     5|    7267|     6832|    Unknown|\n",
      "| 400003|      51|  14590|     5|   17823|     4343|Early Blues|\n",
      "| 400003|       0|  15012|     5|   12490|     9188|    Unknown|\n",
      "+-------+--------+-------+------+--------+---------+-----------+\n",
      "only showing top 20 rows\n",
      "\n"
     ]
    },
    {
     "name": "stderr",
     "output_type": "stream",
     "text": [
      "                                                                                \r"
     ]
    }
   ],
   "source": [
    "#user_ratings_count_cleaned_df = df.join(user_ratings_count_cleaned.select(\"user_id\"), on=\"user_id\", how=\"inner\")\n",
    "#user_ratings_count_cleaned_df.show()"
   ]
  },
  {
   "cell_type": "code",
   "execution_count": 19,
   "id": "959c4569",
   "metadata": {},
   "outputs": [
    {
     "name": "stderr",
     "output_type": "stream",
     "text": [
      "                                                                                \r"
     ]
    },
    {
     "data": {
      "text/plain": [
       "72806352"
      ]
     },
     "execution_count": 19,
     "metadata": {},
     "output_type": "execute_result"
    }
   ],
   "source": [
    "user_ratings_count_cleaned_df.count()"
   ]
  },
  {
   "cell_type": "markdown",
   "id": "d9591017",
   "metadata": {},
   "source": [
    "Use IQR, lower bound, upper bound to remove outliers"
   ]
  },
  {
   "cell_type": "code",
   "execution_count": 20,
   "id": "e61e275f",
   "metadata": {},
   "outputs": [
    {
     "name": "stderr",
     "output_type": "stream",
     "text": [
      "[Stage 152:==================================================>    (12 + 1) / 13]\r"
     ]
    },
    {
     "name": "stdout",
     "output_type": "stream",
     "text": [
      "Data count without Outliers: 173463\n"
     ]
    },
    {
     "name": "stderr",
     "output_type": "stream",
     "text": [
      "                                                                                \r"
     ]
    }
   ],
   "source": [
    "quantiles = user_ratings_count.approxQuantile(\"ratings_count\", [0.25, 0.75], 0.05)\n",
    "Q1 = quantiles[0]\n",
    "Q3 = quantiles[1]\n",
    "IQR = Q3 - Q1\n",
    "\n",
    "lower_bound = Q1 - (1.5 * IQR)\n",
    "upper_bound = Q3 + (1.5 * IQR)\n",
    "\n",
    "filtered_df = user_ratings_count.filter((col(\"ratings_count\") >= lower_bound) & (col(\"ratings_count\") <= upper_bound))\n",
    "\n",
    "print(\"Data count without Outliers:\", filtered_df.count())"
   ]
  },
  {
   "cell_type": "code",
   "execution_count": 21,
   "id": "caad1979",
   "metadata": {},
   "outputs": [
    {
     "name": "stderr",
     "output_type": "stream",
     "text": [
      "                                                                                \r"
     ]
    },
    {
     "data": {
      "image/png": "[encoded data removed]",
      "text/plain": [
       "<Figure size 1000x600 with 1 Axes>"
      ]
     },
     "metadata": {},
     "output_type": "display_data"
    }
   ],
   "source": [
    "filtered_df_data= filtered_df.toPandas()\n",
    "\n",
    "plt.figure(figsize=(10, 6))\n",
    "plt.hist(filtered_df_data['ratings_count'], bins=30, edgecolor='black')\n",
    "plt.title('New Distribution of Rating Counts per User')\n",
    "plt.xlabel('Number of Ratings')\n",
    "plt.ylabel('Frequency')\n",
    "plt.show()"
   ]
  },
  {
   "cell_type": "code",
   "execution_count": 22,
   "id": "8069e060",
   "metadata": {},
   "outputs": [
    {
     "name": "stderr",
     "output_type": "stream",
     "text": [
      "[Stage 170:==========================================>              (3 + 1) / 4]\r"
     ]
    },
    {
     "name": "stdout",
     "output_type": "stream",
     "text": [
      "new dataset count 31116051\n"
     ]
    },
    {
     "name": "stderr",
     "output_type": "stream",
     "text": [
      "                                                                                \r"
     ]
    }
   ],
   "source": [
    "filtered_df_new = df.join(filtered_df.select(\"user_id\"), on=\"user_id\", how=\"inner\")\n",
    "print(\"new dataset count\", filtered_df_new.count())"
   ]
  },
  {
   "cell_type": "code",
   "execution_count": 23,
   "id": "6dbd7710",
   "metadata": {},
   "outputs": [],
   "source": [
    "train_df, test_df = filtered_df_new.randomSplit([0.8, 0.2], seed=42)"
   ]
  },
  {
   "cell_type": "code",
   "execution_count": 24,
   "id": "4cf7fa58",
   "metadata": {},
   "outputs": [
    {
     "name": "stderr",
     "output_type": "stream",
     "text": [
      "[Stage 183:>                                                        (0 + 1) / 1]\r"
     ]
    },
    {
     "name": "stdout",
     "output_type": "stream",
     "text": [
      "+-------+--------+-------+------+--------+---------+----------+\n",
      "|user_id|genre_id|song_id|rating|album_id|artist_id|genre_name|\n",
      "+-------+--------+-------+------+--------+---------+----------+\n",
      "| 400001|       0|  18663|     4|    8240|     3065|   Unknown|\n",
      "| 400001|       0|  18936|     5|   10268|     5068|   Unknown|\n",
      "| 400001|       0|  35799|     5|    6455|     1926|   Unknown|\n",
      "| 400001|       0|  38174|     5|    6455|     1926|   Unknown|\n",
      "| 400001|       0|  39919|     5|   16811|     2105|   Unknown|\n",
      "| 400001|       0|  44760|     4|   17346|     2939|   Unknown|\n",
      "| 400001|       0|  56660|     4|   11718|     3667|   Unknown|\n",
      "| 400001|       0|  59796|     5|    3298|     2956|   Unknown|\n",
      "| 400001|       0|  66132|     5|    5618|     8444|   Unknown|\n",
      "| 400001|       0|  83028|     5|    7194|     7676|   Unknown|\n",
      "| 400001|       0|  90136|     4|    6176|     3371|   Unknown|\n",
      "| 400001|       0|  94003|     4|    4661|     8187|   Unknown|\n",
      "| 400001|       0|  94466|     4|   10712|     7621|   Unknown|\n",
      "| 400001|       0| 104147|     4|   13923|     2486|   Unknown|\n",
      "| 400001|       0| 105499|     4|   10633|     8673|   Unknown|\n",
      "| 400001|       0| 114859|     5|    7802|     5785|   Unknown|\n",
      "| 400001|       0| 116627|     5|   10335|     5958|   Unknown|\n",
      "| 400001|       0| 121369|     5|   14800|      770|   Unknown|\n",
      "| 400001|       0| 125351|     4|    8053|     8187|   Unknown|\n",
      "| 400001|       0| 129487|     3|   15972|     1694|   Unknown|\n",
      "+-------+--------+-------+------+--------+---------+----------+\n",
      "only showing top 20 rows\n",
      "\n"
     ]
    },
    {
     "name": "stderr",
     "output_type": "stream",
     "text": [
      "                                                                                \r"
     ]
    }
   ],
   "source": [
    "train_df.show()"
   ]
  },
  {
   "cell_type": "code",
   "execution_count": 25,
   "id": "ecbe3b20",
   "metadata": {},
   "outputs": [
    {
     "name": "stderr",
     "output_type": "stream",
     "text": [
      "[Stage 193:>                                                        (0 + 1) / 1]\r"
     ]
    },
    {
     "name": "stdout",
     "output_type": "stream",
     "text": [
      "+-------+--------+-------+------+--------+---------+----------+\n",
      "|user_id|genre_id|song_id|rating|album_id|artist_id|genre_name|\n",
      "+-------+--------+-------+------+--------+---------+----------+\n",
      "| 400001|       0|  30670|     4|    6695|     9367|   Unknown|\n",
      "| 400001|       0|  41073|     4|    3334|      868|   Unknown|\n",
      "| 400001|       0|  53890|     4|   16454|     8444|   Unknown|\n",
      "| 400001|       0|  84589|     5|    8179|     8444|   Unknown|\n",
      "| 400001|       0| 105698|     5|   15941|     5958|   Unknown|\n",
      "| 400001|       0| 125173|     5|   19094|       69|   Unknown|\n",
      "| 400001|     134|  18878|     5|   12051|     8021|      Rock|\n",
      "| 400002|       0|   3250|     5|   11469|     1288|   Unknown|\n",
      "| 400002|       0|  16794|     5|    2517|     7620|   Unknown|\n",
      "| 400002|       0|  17312|     5|   12410|     1992|   Unknown|\n",
      "| 400002|       0|  18799|     5|    3125|     7303|   Unknown|\n",
      "| 400002|       0|  19538|     5|   14785|      772|   Unknown|\n",
      "| 400002|       0|  22358|     2|    5833|     7034|   Unknown|\n",
      "| 400002|       0|  23438|     5|   11556|     4716|   Unknown|\n",
      "| 400002|       0|  32687|     5|    8384|      143|   Unknown|\n",
      "| 400002|       0|  37418|     5|   11706|     6060|   Unknown|\n",
      "| 400002|       0|  43351|     5|   12410|     6139|   Unknown|\n",
      "| 400002|       0|  59067|     5|    3871|     9207|   Unknown|\n",
      "| 400002|       0|  71142|     5|    1732|     9239|   Unknown|\n",
      "| 400002|       0|  75378|     5|    7896|     4632|   Unknown|\n",
      "+-------+--------+-------+------+--------+---------+----------+\n",
      "only showing top 20 rows\n",
      "\n"
     ]
    },
    {
     "name": "stderr",
     "output_type": "stream",
     "text": [
      "                                                                                \r"
     ]
    }
   ],
   "source": [
    "test_df.show()"
   ]
  },
  {
   "cell_type": "code",
   "execution_count": null,
   "id": "0702634b",
   "metadata": {},
   "outputs": [],
   "source": [
    "\n"
   ]
  }
 ],
 "metadata": {
  "kernelspec": {
   "display_name": "Python 3 (ipykernel)",
   "language": "python",
   "name": "python3"
  },
  "language_info": {
   "codemirror_mode": {
    "name": "ipython",
    "version": 3
   },
   "file_extension": ".py",
   "mimetype": "text/x-python",
   "name": "python",
   "nbconvert_exporter": "python",
   "pygments_lexer": "ipython3",
   "version": "3.10.12"
  }
 },
 "nbformat": 4,
 "nbformat_minor": 5
}
