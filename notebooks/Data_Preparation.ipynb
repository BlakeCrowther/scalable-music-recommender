{
 "cells": [
  {
   "cell_type": "markdown",
   "id": "b6a586e0",
   "metadata": {},
   "source": [
    "# Preliminary EDA"
   ]
  },
  {
   "cell_type": "code",
   "execution_count": 1,
   "id": "e4138552",
   "metadata": {},
   "outputs": [],
   "source": [
    "# Suppress native-hadoop warning\n",
    "!sed -i '$a\\# Add the line for suppressing the NativeCodeLoader warning \\nlog4j.logger.org.apache.hadoop.util.NativeCodeLoader=ERROR,console' /$HADOOP_HOME/etc/hadoop/log4j.properties"
   ]
  },
  {
   "cell_type": "code",
   "execution_count": 2,
   "id": "f25b95c9",
   "metadata": {},
   "outputs": [],
   "source": [
    "import sys\n",
    "sys.path.append('/home/work')\n",
    "BASE_DIR = '/home/work'"
   ]
  },
  {
   "cell_type": "code",
   "execution_count": 3,
   "id": "26b086ba",
   "metadata": {},
   "outputs": [],
   "source": [
    "import pyspark\n",
    "from pyspark.sql import SparkSession, functions as F\n",
    "from pyspark.sql.functions import split, col, count, desc\n",
    "import pandas as pd\n",
    "import seaborn as sns\n",
    "import matplotlib.pyplot as plt\n",
    "\n",
    "from data.utils.data_loader import load_file_from_hdfs\n",
    "\n",
    "from EDA.clean_data import cleaned_df"
   ]
  },
  {
   "cell_type": "code",
   "execution_count": 4,
   "id": "eae4bb06",
   "metadata": {},
   "outputs": [
    {
     "name": "stdout",
     "output_type": "stream",
     "text": [
      "('spark.driver.host', '37e0d8e80f31')\n",
      "('spark.master', 'local[4]')\n",
      "('spark.app.startTime', '1716921747545')\n",
      "('spark.executor.id', 'driver')\n",
      "('spark.driver.extraJavaOptions', '-Djava.net.preferIPv6Addresses=false -XX:+IgnoreUnrecognizedVMOptions --add-opens=java.base/java.lang=ALL-UNNAMED --add-opens=java.base/java.lang.invoke=ALL-UNNAMED --add-opens=java.base/java.lang.reflect=ALL-UNNAMED --add-opens=java.base/java.io=ALL-UNNAMED --add-opens=java.base/java.net=ALL-UNNAMED --add-opens=java.base/java.nio=ALL-UNNAMED --add-opens=java.base/java.util=ALL-UNNAMED --add-opens=java.base/java.util.concurrent=ALL-UNNAMED --add-opens=java.base/java.util.concurrent.atomic=ALL-UNNAMED --add-opens=java.base/sun.nio.ch=ALL-UNNAMED --add-opens=java.base/sun.nio.cs=ALL-UNNAMED --add-opens=java.base/sun.security.action=ALL-UNNAMED --add-opens=java.base/sun.util.calendar=ALL-UNNAMED --add-opens=java.security.jgss/sun.security.krb5=ALL-UNNAMED -Djdk.reflect.useDirectMethodHandle=false')\n",
      "('spark.driver.port', '33467')\n",
      "('spark.rdd.compress', 'True')\n",
      "('spark.app.id', 'local-1716921748254')\n",
      "('spark.serializer.objectStreamReset', '100')\n",
      "('spark.app.submitTime', '1716921747428')\n",
      "('spark.submit.pyFiles', '')\n",
      "('spark.submit.deployMode', 'client')\n",
      "('spark.app.name', 'MusicRecommender')\n",
      "('spark.driver.memory', '14g')\n",
      "('spark.ui.showConsoleProgress', 'true')\n",
      "('spark.executor.extraJavaOptions', '-Djava.net.preferIPv6Addresses=false -XX:+IgnoreUnrecognizedVMOptions --add-opens=java.base/java.lang=ALL-UNNAMED --add-opens=java.base/java.lang.invoke=ALL-UNNAMED --add-opens=java.base/java.lang.reflect=ALL-UNNAMED --add-opens=java.base/java.io=ALL-UNNAMED --add-opens=java.base/java.net=ALL-UNNAMED --add-opens=java.base/java.nio=ALL-UNNAMED --add-opens=java.base/java.util=ALL-UNNAMED --add-opens=java.base/java.util.concurrent=ALL-UNNAMED --add-opens=java.base/java.util.concurrent.atomic=ALL-UNNAMED --add-opens=java.base/sun.nio.ch=ALL-UNNAMED --add-opens=java.base/sun.nio.cs=ALL-UNNAMED --add-opens=java.base/sun.security.action=ALL-UNNAMED --add-opens=java.base/sun.util.calendar=ALL-UNNAMED --add-opens=java.security.jgss/sun.security.krb5=ALL-UNNAMED -Djdk.reflect.useDirectMethodHandle=false')\n"
     ]
    }
   ],
   "source": [
    "conf = pyspark.SparkConf()\n",
    "settings = conf.getAll()\n",
    "\n",
    "# Set Spark Settings\n",
    "conf = pyspark.SparkConf().setAll([\n",
    "('spark.master', 'local[4]'),\n",
    "('spark.app.name', 'MusicRecommender'),\n",
    "('spark.driver.memory','14g')])\n",
    "spark = SparkSession.builder.config(conf=conf).getOrCreate()\n",
    "\n",
    "# Print the Spark Session settings\n",
    "settings = spark.sparkContext.getConf().getAll()\n",
    "for s in settings:\n",
    "    print(s)"
   ]
  },
  {
   "cell_type": "code",
   "execution_count": 5,
   "id": "635f1357",
   "metadata": {},
   "outputs": [
    {
     "name": "stderr",
     "output_type": "stream",
     "text": [
      "                                                                                \r"
     ]
    }
   ],
   "source": [
    "song_ratings_train_file_path = \"/raw/train/train_2.txt\"\n",
    "song_ratings_train = load_file_from_hdfs(song_ratings_train_file_path)\n",
    "song_ratings_test_file_path = \"/raw/test/test_2.txt\"\n",
    "song_ratings_test = load_file_from_hdfs(song_ratings_test_file_path)"
   ]
  },
  {
   "cell_type": "code",
   "execution_count": 6,
   "id": "1b119a76",
   "metadata": {},
   "outputs": [],
   "source": [
    "song_ratings = song_ratings_train.union(song_ratings_test)"
   ]
  },
  {
   "cell_type": "code",
   "execution_count": 7,
   "id": "79bfe4d4",
   "metadata": {},
   "outputs": [],
   "source": [
    "song_attributes_file_path = \"song-attributes.txt\"\n",
    "#song_attributes = load_file_from_hdfs(song_attributes_file_path)\n",
    "song_attributes = spark.read.text(\"file:///home/work/Project/yahoo_dataset/song-attributes.txt\").cache()\n",
    "\n",
    "genre_hierarchy_file_path = \"genre-hierarchy.txt\"\n",
    "#genre_hierarchy = load_file_from_hdfs(genre_hierarchy_file_path)\n",
    "genre_hierarchy = spark.read.text(\"file:///home/work/Project/yahoo_dataset/genre-hierarchy.txt\").cache()"
   ]
  },
  {
   "cell_type": "code",
   "execution_count": 8,
   "id": "e2c62927",
   "metadata": {},
   "outputs": [],
   "source": [
    "# def cleaned_df(song_ratings, song_attributes, genre_hierarchy):\n",
    "#     song_ratings = song_ratings.withColumnRenamed(\"_c0\", \"user_id\") \\\n",
    "#         .withColumnRenamed(\"_c1\", \"song_id\") \\\n",
    "#         .withColumnRenamed(\"_c2\", \"rating\") \n",
    "#     song_attributes = song_attributes.withColumn(\"song_id\", split(song_attributes.value, \"\\t\")[0]) \\\n",
    "#        .withColumn(\"album_id\", split(song_attributes.value, \"\\t\")[1]) \\\n",
    "#        .withColumn(\"artist_id\", split(song_attributes.value, \"\\t\")[2]) \\\n",
    "#        .withColumn(\"genre_id\", split(song_attributes.value, \"\\t\")[3]) \\\n",
    "#        .drop(\"value\")\n",
    "#     song_attributes = song_attributes.withColumn(\"song_id\", col(\"song_id\").cast(\"integer\")) \\\n",
    "#        .withColumn(\"album_id\", col(\"album_id\").cast(\"integer\")) \\\n",
    "#        .withColumn(\"artist_id\", col(\"artist_id\").cast(\"integer\"))\n",
    "#     genre_hierarchy = genre_hierarchy.withColumn(\"genre_id\", split(genre_hierarchy.value, \"\\t\")[0]) \\\n",
    "#        .withColumn(\"parent_genre_id\", split(genre_hierarchy.value, \"\\t\")[1]) \\\n",
    "#        .withColumn(\"level\", split(genre_hierarchy.value, \"\\t\")[2]) \\\n",
    "#        .withColumn(\"genre_name\", split(genre_hierarchy.value, \"\\t\")[3]) \\\n",
    "#        .drop(\"value\")\n",
    "#     genre_hierarchy = genre_hierarchy.withColumn(\"genre_id\", col(\"genre_id\").cast(\"integer\")) \\\n",
    "#        .withColumn(\"parent_genre_id\", col(\"parent_genre_id\").cast(\"integer\")) \\\n",
    "#        .withColumn(\"level\", col(\"level\").cast(\"integer\"))\n",
    "\n",
    "#     df = song_ratings.join(song_attributes, \"song_id\", how=\"inner\")\n",
    "#     df = df.join(genre_hierarchy,\"genre_id\", how=\"inner\")\n",
    "\n",
    "#     df = df.drop('parent_genre_id').drop('level')\n",
    "#     df.describe().show()\n",
    "\n",
    "#     null_columns = {column: df.filter(col(column).isNull()).count() for column in df.columns}\n",
    "#     null_columns\n",
    "    \n",
    "#     return df\n"
   ]
  },
  {
   "cell_type": "code",
   "execution_count": 9,
   "id": "7f8aab43",
   "metadata": {},
   "outputs": [
    {
     "name": "stderr",
     "output_type": "stream",
     "text": [
      "                                                                                \r"
     ]
    },
    {
     "name": "stdout",
     "output_type": "stream",
     "text": [
      "+-------+------------------+-----------------+------------------+------------------+------------------+------------------+-----------------+\n",
      "|summary|          genre_id|          song_id|           user_id|            rating|          album_id|         artist_id|       genre_name|\n",
      "+-------+------------------+-----------------+------------------+------------------+------------------+------------------+-----------------+\n",
      "|  count|          78909821|         78909821|          78909821|          78909821|          78909821|          78909821|         78909821|\n",
      "|   mean|16.666298850177345|68274.02707812504|499746.46840439545|3.1528440674070213|10361.592222392697|4776.0641216636395|             NULL|\n",
      "| stddev| 42.91624825455018|39459.18779033151| 57936.75037674207|1.6030326088607252| 5906.090895444379| 2680.786813237493|             NULL|\n",
      "|    min|                 0|                0|            400000|                 1|                 0|                 0|Adult Alternative|\n",
      "|    max|                88|           136735|            599999|                 5|             20542|              9441|            World|\n",
      "+-------+------------------+-----------------+------------------+------------------+------------------+------------------+-----------------+\n",
      "\n"
     ]
    },
    {
     "name": "stderr",
     "output_type": "stream",
     "text": [
      "                                                                                \r"
     ]
    }
   ],
   "source": [
    "df = cleaned_df(song_ratings, song_attributes,genre_hierarchy)"
   ]
  },
  {
   "cell_type": "code",
   "execution_count": 10,
   "id": "032a5643",
   "metadata": {},
   "outputs": [
    {
     "name": "stderr",
     "output_type": "stream",
     "text": [
      "                                                                                \r"
     ]
    },
    {
     "data": {
      "text/plain": [
       "78909821"
      ]
     },
     "execution_count": 10,
     "metadata": {},
     "output_type": "execute_result"
    }
   ],
   "source": [
    "df.count()"
   ]
  },
  {
   "cell_type": "code",
   "execution_count": 11,
   "id": "71e7eb9a",
   "metadata": {},
   "outputs": [
    {
     "name": "stderr",
     "output_type": "stream",
     "text": [
      "[Stage 48:===================================================>    (12 + 1) / 13]\r"
     ]
    },
    {
     "name": "stdout",
     "output_type": "stream",
     "text": [
      "+-------+-------------+\n",
      "|user_id|ratings_count|\n",
      "+-------+-------------+\n",
      "| 400003|          266|\n",
      "| 400129|           60|\n",
      "| 400152|          108|\n",
      "| 400301|          375|\n",
      "| 400440|           36|\n",
      "| 400612|           67|\n",
      "| 400735|          312|\n",
      "| 400797|          161|\n",
      "| 400833|           69|\n",
      "| 400982|          687|\n",
      "| 401161|           38|\n",
      "| 401778|           43|\n",
      "| 401880|          403|\n",
      "| 401901|          678|\n",
      "| 402253|          161|\n",
      "| 402643|         2183|\n",
      "| 402896|          140|\n",
      "| 403340|         7576|\n",
      "| 403389|         1021|\n",
      "| 403422|           33|\n",
      "+-------+-------------+\n",
      "only showing top 20 rows\n",
      "\n"
     ]
    },
    {
     "name": "stderr",
     "output_type": "stream",
     "text": [
      "                                                                                \r"
     ]
    }
   ],
   "source": [
    "# get users rating count \n",
    "user_ratings_count = df.groupBy(\"user_id\").count()\n",
    "user_ratings_count = user_ratings_count.withColumnRenamed(\"count\", \"ratings_count\")\n",
    "user_ratings_count.show()"
   ]
  },
  {
   "cell_type": "code",
   "execution_count": 12,
   "id": "c2437929",
   "metadata": {},
   "outputs": [
    {
     "name": "stderr",
     "output_type": "stream",
     "text": [
      "[Stage 53:===================================================>    (12 + 1) / 13]\r"
     ]
    },
    {
     "name": "stdout",
     "output_type": "stream",
     "text": [
      "min_value 30 max_value 131533\n"
     ]
    },
    {
     "name": "stderr",
     "output_type": "stream",
     "text": [
      "                                                                                \r"
     ]
    }
   ],
   "source": [
    "from pyspark.sql.functions import min,max\n",
    "min_max_values = user_ratings_count.select(min(\"ratings_count\").alias(\"min_value\"), max(\"ratings_count\").alias(\"max_value\")).first()\n",
    "\n",
    "min_value = min_max_values[\"min_value\"]\n",
    "max_value = min_max_values[\"max_value\"]\n",
    "\n",
    "print(\"min_value\", min_value, \"max_value\", max_value)"
   ]
  },
  {
   "cell_type": "code",
   "execution_count": 13,
   "id": "08ed2f6e",
   "metadata": {},
   "outputs": [
    {
     "name": "stderr",
     "output_type": "stream",
     "text": [
      "                                                                                \r"
     ]
    },
    {
     "data": {
      "image/png": "[encoded data removed]",
      "text/plain": [
       "<Figure size 1000x600 with 1 Axes>"
      ]
     },
     "metadata": {},
     "output_type": "display_data"
    },
    {
     "name": "stderr",
     "output_type": "stream",
     "text": [
      "[Stage 66:===================================================>    (12 + 1) / 13]\r"
     ]
    },
    {
     "name": "stdout",
     "output_type": "stream",
     "text": [
      "Total number of users: 200000\n"
     ]
    },
    {
     "name": "stderr",
     "output_type": "stream",
     "text": [
      "                                                                                \r"
     ]
    }
   ],
   "source": [
    "import matplotlib.pyplot as plt\n",
    "import seaborn as sns\n",
    "\n",
    "data= user_ratings_count.toPandas()\n",
    "\n",
    "#data = user_ratings_count.select(\"ratings_count\").rdd.flatMap(lambda x: x).collect()\n",
    "\n",
    "\n",
    "plt.figure(figsize=(10, 6))\n",
    "#sns.histplot(data, bins=50, kde=True)\n",
    "plt.hist(data['ratings_count'], bins=30, edgecolor='black')\n",
    "plt.title('Distribution of Rating Counts per User')\n",
    "plt.xlabel('Number of Ratings')\n",
    "plt.ylabel('Frequency')\n",
    "plt.show()\n",
    "\n",
    "total_users = user_ratings_count.count()\n",
    "print(\"Total number of users:\", total_users)"
   ]
  },
  {
   "cell_type": "code",
   "execution_count": 14,
   "id": "e363ae7d",
   "metadata": {},
   "outputs": [
    {
     "name": "stderr",
     "output_type": "stream",
     "text": [
      "[Stage 82:===================================================>    (12 + 1) / 13]\r"
     ]
    },
    {
     "name": "stdout",
     "output_type": "stream",
     "text": [
      "+-------+-------------+------------------+\n",
      "|user_id|ratings_count| log_ratings_count|\n",
      "+-------+-------------+------------------+\n",
      "| 400003|          266| 5.583496308781699|\n",
      "| 400129|           60|   4.0943445622221|\n",
      "| 400152|          108|  4.68213122712422|\n",
      "| 400301|          375| 5.926926025970411|\n",
      "| 400440|           36|  3.58351893845611|\n",
      "| 400612|           67| 4.204692619390966|\n",
      "| 400735|          312|5.7430031878094825|\n",
      "| 400797|          161| 5.081404364984463|\n",
      "| 400833|           69|  4.23410650459726|\n",
      "| 400982|          687| 6.532334292222349|\n",
      "| 401161|           38|3.6375861597263857|\n",
      "| 401778|           43|3.7612001156935624|\n",
      "| 401880|          403| 5.998936561946683|\n",
      "| 401901|          678| 6.519147287940395|\n",
      "| 402253|          161| 5.081404364984463|\n",
      "| 402643|         2183| 7.688455356549944|\n",
      "| 402896|          140| 4.941642422609304|\n",
      "| 403340|         7576| 8.932740634865914|\n",
      "| 403389|         1021| 6.928537818164665|\n",
      "| 403422|           33|3.4965075614664802|\n",
      "+-------+-------------+------------------+\n",
      "only showing top 20 rows\n",
      "\n"
     ]
    },
    {
     "name": "stderr",
     "output_type": "stream",
     "text": [
      "                                                                                \r"
     ]
    }
   ],
   "source": [
    "# normalization or log\n",
    "# log better addresses skewness so choose log\n",
    "from pyspark.sql.functions import log\n",
    "user_ratings_count[user_ratings_count['ratings_count'] == 0].count() # no zero\n",
    "user_ratings_count = user_ratings_count.withColumn('log_ratings_count', log(user_ratings_count['ratings_count']))  \n",
    "user_ratings_count.show()"
   ]
  },
  {
   "cell_type": "code",
   "execution_count": 15,
   "id": "35b518dc",
   "metadata": {},
   "outputs": [
    {
     "name": "stderr",
     "output_type": "stream",
     "text": [
      "                                                                                \r"
     ]
    },
    {
     "data": {
      "image/png": "[encoded data removed]",
      "text/plain": [
       "<Figure size 640x480 with 1 Axes>"
      ]
     },
     "metadata": {},
     "output_type": "display_data"
    }
   ],
   "source": [
    "import matplotlib.pyplot as plt\n",
    "\n",
    "user_ratings_count_p = user_ratings_count.toPandas()\n",
    "\n",
    "plt.hist(user_ratings_count_p['log_ratings_count'], bins=30, edgecolor='black')\n",
    "plt.title('Logarithmic Transformation of User Ratings Count')\n",
    "plt.xlabel('User Ratings Count')\n",
    "plt.ylabel('Log Transformed Value')\n",
    "plt.show()"
   ]
  },
  {
   "cell_type": "code",
   "execution_count": 16,
   "id": "3cad222b",
   "metadata": {},
   "outputs": [
    {
     "name": "stderr",
     "output_type": "stream",
     "text": [
      "                                                                                \r"
     ]
    }
   ],
   "source": [
    "from pyspark.sql.functions import log, col, abs, mean, stddev\n",
    "\n",
    "mean_log = user_ratings_count.select(mean(col(\"log_ratings_count\"))).collect()[0][0]\n",
    "stddev_log = user_ratings_count.select(stddev(col(\"log_ratings_count\"))).collect()[0][0]\n",
    "\n",
    "user_ratings_count = user_ratings_count.withColumn(\"z_score\", (col(\"log_ratings_count\") - mean_log) / stddev_log)\n",
    "user_ratings_count = user_ratings_count.withColumn(\"is_outlier\", abs(col(\"z_score\")) > 3) # threshold 3\n"
   ]
  },
  {
   "cell_type": "code",
   "execution_count": 17,
   "id": "35ef8641",
   "metadata": {},
   "outputs": [
    {
     "name": "stderr",
     "output_type": "stream",
     "text": [
      "                                                                                \r"
     ]
    },
    {
     "name": "stdout",
     "output_type": "stream",
     "text": [
      "Original DataFrame: 200000\n"
     ]
    },
    {
     "name": "stderr",
     "output_type": "stream",
     "text": [
      "[Stage 116:==================================================>    (12 + 1) / 13]\r"
     ]
    },
    {
     "name": "stdout",
     "output_type": "stream",
     "text": [
      "Cleaned DataFrame (without outliers): 199351\n"
     ]
    },
    {
     "name": "stderr",
     "output_type": "stream",
     "text": [
      "                                                                                \r"
     ]
    }
   ],
   "source": [
    "user_ratings_count_cleaned = user_ratings_count.filter(col(\"is_outlier\") == False)\n",
    "print(\"Original DataFrame:\", user_ratings_count.count())\n",
    "print(\"Cleaned DataFrame (without outliers):\", user_ratings_count_cleaned.count())"
   ]
  },
  {
   "cell_type": "code",
   "execution_count": 18,
   "id": "dcc7a810",
   "metadata": {},
   "outputs": [
    {
     "name": "stderr",
     "output_type": "stream",
     "text": [
      "[Stage 127:==================================================>    (12 + 1) / 13]\r"
     ]
    },
    {
     "name": "stdout",
     "output_type": "stream",
     "text": [
      "+-------+--------+-------+------+--------+---------+-----------+\n",
      "|user_id|genre_id|song_id|rating|album_id|artist_id| genre_name|\n",
      "+-------+--------+-------+------+--------+---------+-----------+\n",
      "| 400003|       0|    909|     5|   12325|     7868|    Unknown|\n",
      "| 400003|       0|   1078|     4|   15269|      443|    Unknown|\n",
      "| 400003|       0|   1244|     4|    4257|     6918|    Unknown|\n",
      "| 400003|       0|   3245|     3|   14647|     8510|    Unknown|\n",
      "| 400003|       0|   3378|     4|    1574|     1926|    Unknown|\n",
      "| 400003|       0|   5279|     5|   12268|     8543|    Unknown|\n",
      "| 400003|       0|   5448|     4|   12886|     7092|    Unknown|\n",
      "| 400003|       0|   7351|     4|    3442|     7254|    Unknown|\n",
      "| 400003|       0|   7475|     5|   18801|     5187|    Unknown|\n",
      "| 400003|     106|   9802|     3|    2136|     2640|        Pop|\n",
      "| 400003|       0|  11832|     5|   16836|     3279|    Unknown|\n",
      "| 400003|       0|  12383|     4|   10938|     9123|    Unknown|\n",
      "| 400003|       0|  13370|     5|    4257|     6918|    Unknown|\n",
      "| 400003|       0|  13436|     5|   20494|     1926|    Unknown|\n",
      "| 400003|       0|  13689|     5|    2515|     8828|    Unknown|\n",
      "| 400003|       0|  13932|     5|    2515|     8828|    Unknown|\n",
      "| 400003|       0|  14078|     3|   19162|     4293|    Unknown|\n",
      "| 400003|       0|  14363|     5|    7267|     6832|    Unknown|\n",
      "| 400003|      51|  14590|     5|   17823|     4343|Early Blues|\n",
      "| 400003|       0|  15012|     5|   12490|     9188|    Unknown|\n",
      "+-------+--------+-------+------+--------+---------+-----------+\n",
      "only showing top 20 rows\n",
      "\n"
     ]
    },
    {
     "name": "stderr",
     "output_type": "stream",
     "text": [
      "                                                                                \r"
     ]
    }
   ],
   "source": [
    "user_ratings_count_cleaned_df = df.join(user_ratings_count_cleaned.select(\"user_id\"), on=\"user_id\", how=\"inner\")\n",
    "user_ratings_count_cleaned_df.show()"
   ]
  },
  {
   "cell_type": "code",
   "execution_count": 19,
   "id": "3dc1aa7b",
   "metadata": {},
   "outputs": [
    {
     "name": "stderr",
     "output_type": "stream",
     "text": [
      "                                                                                \r"
     ]
    },
    {
     "data": {
      "text/plain": [
       "72806352"
      ]
     },
     "execution_count": 19,
     "metadata": {},
     "output_type": "execute_result"
    }
   ],
   "source": [
    "user_ratings_count_cleaned_df.count()"
   ]
  },
  {
   "cell_type": "code",
   "execution_count": 20,
   "id": "8949aacf",
   "metadata": {},
   "outputs": [],
   "source": [
    "## IQR way instead of log"
   ]
  },
  {
   "cell_type": "code",
   "execution_count": 21,
   "id": "21591783",
   "metadata": {},
   "outputs": [
    {
     "name": "stderr",
     "output_type": "stream",
     "text": [
      "[Stage 152:==================================================>    (12 + 1) / 13]\r"
     ]
    },
    {
     "name": "stdout",
     "output_type": "stream",
     "text": [
      "Data without Outliers: 173463\n"
     ]
    },
    {
     "name": "stderr",
     "output_type": "stream",
     "text": [
      "                                                                                \r"
     ]
    }
   ],
   "source": [
    "quantiles = user_ratings_count.approxQuantile(\"ratings_count\", [0.25, 0.75], 0.05)\n",
    "Q1 = quantiles[0]\n",
    "Q3 = quantiles[1]\n",
    "IQR = Q3 - Q1\n",
    "\n",
    "lower_bound = Q1 - (1.5 * IQR)\n",
    "upper_bound = Q3 + (1.5 * IQR)\n",
    "\n",
    "filtered_df = user_ratings_count.filter((col(\"ratings_count\") >= lower_bound) & (col(\"ratings_count\") <= upper_bound))\n",
    "\n",
    "print(\"Data without Outliers:\", filtered_df.count())"
   ]
  },
  {
   "cell_type": "code",
   "execution_count": 22,
   "id": "a4865f69",
   "metadata": {},
   "outputs": [
    {
     "name": "stderr",
     "output_type": "stream",
     "text": [
      "                                                                                \r"
     ]
    },
    {
     "data": {
      "image/png": "[encoded data removed]",
      "text/plain": [
       "<Figure size 1000x600 with 1 Axes>"
      ]
     },
     "metadata": {},
     "output_type": "display_data"
    }
   ],
   "source": [
    "filtered_df_data= filtered_df.toPandas()\n",
    "\n",
    "plt.figure(figsize=(10, 6))\n",
    "#sns.histplot(data, bins=50, kde=True)\n",
    "plt.hist(filtered_df_data['ratings_count'], bins=30, edgecolor='black')\n",
    "plt.title('New Distribution of Rating Counts per User')\n",
    "plt.xlabel('Number of Ratings')\n",
    "plt.ylabel('Frequency')\n",
    "plt.show()"
   ]
  },
  {
   "cell_type": "code",
   "execution_count": 23,
   "id": "7c9a68dc",
   "metadata": {},
   "outputs": [
    {
     "name": "stderr",
     "output_type": "stream",
     "text": [
      "[Stage 172:==========================================>              (3 + 1) / 4]\r"
     ]
    },
    {
     "name": "stdout",
     "output_type": "stream",
     "text": [
      "new dataset count 31116051\n"
     ]
    },
    {
     "name": "stderr",
     "output_type": "stream",
     "text": [
      "                                                                                \r"
     ]
    }
   ],
   "source": [
    "filtered_df_new = df.join(filtered_df.select(\"user_id\"), on=\"user_id\", how=\"inner\")\n",
    "print(\"new dataset count\", filtered_df_new.count())"
   ]
  },
  {
   "cell_type": "code",
   "execution_count": null,
   "id": "aafd50e6",
   "metadata": {},
   "outputs": [],
   "source": []
  },
  {
   "cell_type": "code",
   "execution_count": 24,
   "id": "89b5f017",
   "metadata": {},
   "outputs": [],
   "source": [
    "# remove users instead?"
   ]
  },
  {
   "cell_type": "code",
   "execution_count": null,
   "id": "a3ccc144",
   "metadata": {},
   "outputs": [],
   "source": []
  },
  {
   "cell_type": "code",
   "execution_count": 25,
   "id": "22975e66",
   "metadata": {},
   "outputs": [],
   "source": [
    "# 0 - 800 reviews in first two bin\n",
    "#new_filtered = user_ratings_count.filter(user_ratings_count['ratings_count'] <= 800)\n",
    "#new_filtered.count()"
   ]
  },
  {
   "cell_type": "code",
   "execution_count": 26,
   "id": "966d64f4",
   "metadata": {},
   "outputs": [],
   "source": [
    "#final_filtered_df = df.join(new_filtered.select(\"user_id\"), on=\"user_id\", how=\"inner\")"
   ]
  },
  {
   "cell_type": "code",
   "execution_count": 27,
   "id": "ae52027c",
   "metadata": {},
   "outputs": [],
   "source": [
    "#final_filtered_df.show()"
   ]
  },
  {
   "cell_type": "code",
   "execution_count": 28,
   "id": "04e4f9ad",
   "metadata": {},
   "outputs": [],
   "source": [
    "train_df, test_df = filtered_df_new.randomSplit([0.8, 0.2], seed=42)"
   ]
  },
  {
   "cell_type": "code",
   "execution_count": 29,
   "id": "a62c6541",
   "metadata": {},
   "outputs": [
    {
     "name": "stderr",
     "output_type": "stream",
     "text": [
      "[Stage 185:>                                                        (0 + 1) / 1]\r"
     ]
    },
    {
     "name": "stdout",
     "output_type": "stream",
     "text": [
      "+-------+--------+-------+------+--------+---------+----------+\n",
      "|user_id|genre_id|song_id|rating|album_id|artist_id|genre_name|\n",
      "+-------+--------+-------+------+--------+---------+----------+\n",
      "| 400001|       0|  18663|     4|    8240|     3065|   Unknown|\n",
      "| 400001|       0|  18936|     5|   10268|     5068|   Unknown|\n",
      "| 400001|       0|  35799|     5|    6455|     1926|   Unknown|\n",
      "| 400001|       0|  38174|     5|    6455|     1926|   Unknown|\n",
      "| 400001|       0|  39919|     5|   16811|     2105|   Unknown|\n",
      "| 400001|       0|  44760|     4|   17346|     2939|   Unknown|\n",
      "| 400001|       0|  56660|     4|   11718|     3667|   Unknown|\n",
      "| 400001|       0|  59796|     5|    3298|     2956|   Unknown|\n",
      "| 400001|       0|  66132|     5|    5618|     8444|   Unknown|\n",
      "| 400001|       0|  83028|     5|    7194|     7676|   Unknown|\n",
      "| 400001|       0|  90136|     4|    6176|     3371|   Unknown|\n",
      "| 400001|       0|  94003|     4|    4661|     8187|   Unknown|\n",
      "| 400001|       0|  94466|     4|   10712|     7621|   Unknown|\n",
      "| 400001|       0| 104147|     4|   13923|     2486|   Unknown|\n",
      "| 400001|       0| 105499|     4|   10633|     8673|   Unknown|\n",
      "| 400001|       0| 114859|     5|    7802|     5785|   Unknown|\n",
      "| 400001|       0| 116627|     5|   10335|     5958|   Unknown|\n",
      "| 400001|       0| 121369|     5|   14800|      770|   Unknown|\n",
      "| 400001|       0| 125351|     4|    8053|     8187|   Unknown|\n",
      "| 400001|       0| 129487|     3|   15972|     1694|   Unknown|\n",
      "+-------+--------+-------+------+--------+---------+----------+\n",
      "only showing top 20 rows\n",
      "\n"
     ]
    },
    {
     "name": "stderr",
     "output_type": "stream",
     "text": [
      "                                                                                \r"
     ]
    }
   ],
   "source": [
    "train_df.show()"
   ]
  },
  {
   "cell_type": "code",
   "execution_count": null,
   "id": "f74719d8",
   "metadata": {},
   "outputs": [
    {
     "name": "stderr",
     "output_type": "stream",
     "text": [
      "[Stage 190:====>           (4 + 4) / 13][Stage 191:>               (0 + 0) / 13]\r"
     ]
    }
   ],
   "source": [
    "test_df.show()"
   ]
  },
  {
   "cell_type": "code",
   "execution_count": null,
   "id": "696475c7",
   "metadata": {},
   "outputs": [],
   "source": []
  }
 ],
 "metadata": {
  "kernelspec": {
   "display_name": "Python 3 (ipykernel)",
   "language": "python",
   "name": "python3"
  },
  "language_info": {
   "codemirror_mode": {
    "name": "ipython",
    "version": 3
   },
   "file_extension": ".py",
   "mimetype": "text/x-python",
   "name": "python",
   "nbconvert_exporter": "python",
   "pygments_lexer": "ipython3",
   "version": "3.10.12"
  }
 },
 "nbformat": 4,
 "nbformat_minor": 5
}
