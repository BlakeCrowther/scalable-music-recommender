{
 "cells": [
  {
   "cell_type": "markdown",
   "id": "aee567a3",
   "metadata": {},
   "source": [
    "# Preliminary EDA"
   ]
  },
  {
   "cell_type": "code",
   "execution_count": 1,
   "id": "0ee7a9d3",
   "metadata": {},
   "outputs": [],
   "source": [
    "# Suppress native-hadoop warning\n",
    "!sed -i '$a\\# Add the line for suppressing the NativeCodeLoader warning \\nlog4j.logger.org.apache.hadoop.util.NativeCodeLoader=ERROR,console' /$HADOOP_HOME/etc/hadoop/log4j.properties"
   ]
  },
  {
   "cell_type": "code",
   "execution_count": 2,
   "id": "f08f2ba7",
   "metadata": {},
   "outputs": [],
   "source": [
    "import sys\n",
    "sys.path.append('/home/work')\n",
    "BASE_DIR = '/home/work'"
   ]
  },
  {
   "cell_type": "code",
   "execution_count": 3,
   "id": "e05b895c",
   "metadata": {},
   "outputs": [],
   "source": [
    "import pyspark\n",
    "from pyspark.sql import SparkSession, functions as F\n",
    "from pyspark.sql.functions import split, col, count, desc\n",
    "import pandas as pd\n",
    "import seaborn as sns\n",
    "import matplotlib.pyplot as plt\n",
    "\n",
    "from data.utils.data_loader import load_file_from_hdfs\n",
    "\n",
    "from EDA.clean_data import cleaned_df"
   ]
  },
  {
   "cell_type": "code",
   "execution_count": 4,
   "id": "766b488d",
   "metadata": {},
   "outputs": [
    {
     "name": "stdout",
     "output_type": "stream",
     "text": [
      "('spark.app.startTime', '1716915470289')\n",
      "('spark.master', 'local[4]')\n",
      "('spark.executor.id', 'driver')\n",
      "('spark.driver.port', '36981')\n",
      "('spark.driver.extraJavaOptions', '-Djava.net.preferIPv6Addresses=false -XX:+IgnoreUnrecognizedVMOptions --add-opens=java.base/java.lang=ALL-UNNAMED --add-opens=java.base/java.lang.invoke=ALL-UNNAMED --add-opens=java.base/java.lang.reflect=ALL-UNNAMED --add-opens=java.base/java.io=ALL-UNNAMED --add-opens=java.base/java.net=ALL-UNNAMED --add-opens=java.base/java.nio=ALL-UNNAMED --add-opens=java.base/java.util=ALL-UNNAMED --add-opens=java.base/java.util.concurrent=ALL-UNNAMED --add-opens=java.base/java.util.concurrent.atomic=ALL-UNNAMED --add-opens=java.base/sun.nio.ch=ALL-UNNAMED --add-opens=java.base/sun.nio.cs=ALL-UNNAMED --add-opens=java.base/sun.security.action=ALL-UNNAMED --add-opens=java.base/sun.util.calendar=ALL-UNNAMED --add-opens=java.security.jgss/sun.security.krb5=ALL-UNNAMED -Djdk.reflect.useDirectMethodHandle=false')\n",
      "('spark.driver.host', '601554a2d0f4')\n",
      "('spark.rdd.compress', 'True')\n",
      "('spark.app.submitTime', '1716915470166')\n",
      "('spark.serializer.objectStreamReset', '100')\n",
      "('spark.app.id', 'local-1716915470885')\n",
      "('spark.submit.pyFiles', '')\n",
      "('spark.submit.deployMode', 'client')\n",
      "('spark.app.name', 'MusicRecommender')\n",
      "('spark.driver.memory', '14g')\n",
      "('spark.ui.showConsoleProgress', 'true')\n",
      "('spark.executor.extraJavaOptions', '-Djava.net.preferIPv6Addresses=false -XX:+IgnoreUnrecognizedVMOptions --add-opens=java.base/java.lang=ALL-UNNAMED --add-opens=java.base/java.lang.invoke=ALL-UNNAMED --add-opens=java.base/java.lang.reflect=ALL-UNNAMED --add-opens=java.base/java.io=ALL-UNNAMED --add-opens=java.base/java.net=ALL-UNNAMED --add-opens=java.base/java.nio=ALL-UNNAMED --add-opens=java.base/java.util=ALL-UNNAMED --add-opens=java.base/java.util.concurrent=ALL-UNNAMED --add-opens=java.base/java.util.concurrent.atomic=ALL-UNNAMED --add-opens=java.base/sun.nio.ch=ALL-UNNAMED --add-opens=java.base/sun.nio.cs=ALL-UNNAMED --add-opens=java.base/sun.security.action=ALL-UNNAMED --add-opens=java.base/sun.util.calendar=ALL-UNNAMED --add-opens=java.security.jgss/sun.security.krb5=ALL-UNNAMED -Djdk.reflect.useDirectMethodHandle=false')\n"
     ]
    }
   ],
   "source": [
    "conf = pyspark.SparkConf()\n",
    "settings = conf.getAll()\n",
    "\n",
    "# Set Spark Settings\n",
    "conf = pyspark.SparkConf().setAll([\n",
    "('spark.master', 'local[4]'),\n",
    "('spark.app.name', 'MusicRecommender'),\n",
    "('spark.driver.memory','14g')])\n",
    "spark = SparkSession.builder.config(conf=conf).getOrCreate()\n",
    "\n",
    "# Print the Spark Session settings\n",
    "settings = spark.sparkContext.getConf().getAll()\n",
    "for s in settings:\n",
    "    print(s)"
   ]
  },
  {
   "cell_type": "code",
   "execution_count": 5,
   "id": "9230956b",
   "metadata": {},
   "outputs": [
    {
     "name": "stderr",
     "output_type": "stream",
     "text": [
      "                                                                                \r"
     ]
    }
   ],
   "source": [
    "song_ratings_file_path = \"/raw/train/train_2.txt\"\n",
    "song_ratings = load_file_from_hdfs(song_ratings_file_path)"
   ]
  },
  {
   "cell_type": "code",
   "execution_count": 6,
   "id": "70122674",
   "metadata": {},
   "outputs": [],
   "source": [
    "song_attributes_file_path = \"song-attributes.txt\"\n",
    "#song_attributes = load_file_from_hdfs(song_attributes_file_path)\n",
    "song_attributes = spark.read.text(\"file:///home/work/Project/yahoo_dataset/song-attributes.txt\").cache()\n",
    "\n",
    "genre_hierarchy_file_path = \"genre-hierarchy.txt\"\n",
    "#genre_hierarchy = load_file_from_hdfs(genre_hierarchy_file_path)\n",
    "genre_hierarchy = spark.read.text(\"file:///home/work/Project/yahoo_dataset/genre-hierarchy.txt\").cache()"
   ]
  },
  {
   "cell_type": "code",
   "execution_count": 7,
   "id": "723f6bb8",
   "metadata": {},
   "outputs": [],
   "source": [
    "# def cleaned_df(song_ratings, song_attributes, genre_hierarchy):\n",
    "#     song_ratings = song_ratings.withColumnRenamed(\"_c0\", \"user_id\") \\\n",
    "#         .withColumnRenamed(\"_c1\", \"song_id\") \\\n",
    "#         .withColumnRenamed(\"_c2\", \"rating\") \n",
    "#     song_attributes = song_attributes.withColumn(\"song_id\", split(song_attributes.value, \"\\t\")[0]) \\\n",
    "#        .withColumn(\"album_id\", split(song_attributes.value, \"\\t\")[1]) \\\n",
    "#        .withColumn(\"artist_id\", split(song_attributes.value, \"\\t\")[2]) \\\n",
    "#        .withColumn(\"genre_id\", split(song_attributes.value, \"\\t\")[3]) \\\n",
    "#        .drop(\"value\")\n",
    "#     song_attributes = song_attributes.withColumn(\"song_id\", col(\"song_id\").cast(\"integer\")) \\\n",
    "#        .withColumn(\"album_id\", col(\"album_id\").cast(\"integer\")) \\\n",
    "#        .withColumn(\"artist_id\", col(\"artist_id\").cast(\"integer\"))\n",
    "#     genre_hierarchy = genre_hierarchy.withColumn(\"genre_id\", split(genre_hierarchy.value, \"\\t\")[0]) \\\n",
    "#        .withColumn(\"parent_genre_id\", split(genre_hierarchy.value, \"\\t\")[1]) \\\n",
    "#        .withColumn(\"level\", split(genre_hierarchy.value, \"\\t\")[2]) \\\n",
    "#        .withColumn(\"genre_name\", split(genre_hierarchy.value, \"\\t\")[3]) \\\n",
    "#        .drop(\"value\")\n",
    "#     genre_hierarchy = genre_hierarchy.withColumn(\"genre_id\", col(\"genre_id\").cast(\"integer\")) \\\n",
    "#        .withColumn(\"parent_genre_id\", col(\"parent_genre_id\").cast(\"integer\")) \\\n",
    "#        .withColumn(\"level\", col(\"level\").cast(\"integer\"))\n",
    "\n",
    "#     df = song_ratings.join(song_attributes, \"song_id\", how=\"inner\")\n",
    "#     df = df.join(genre_hierarchy,\"genre_id\", how=\"inner\")\n",
    "\n",
    "#     df = df.drop('parent_genre_id').drop('level')\n",
    "#     df.describe().show()\n",
    "\n",
    "#     null_columns = {column: df.filter(col(column).isNull()).count() for column in df.columns}\n",
    "#     null_columns\n",
    "    \n",
    "#     return df\n"
   ]
  },
  {
   "cell_type": "code",
   "execution_count": 8,
   "id": "9f112abe",
   "metadata": {},
   "outputs": [
    {
     "name": "stderr",
     "output_type": "stream",
     "text": [
      "                                                                                \r"
     ]
    },
    {
     "name": "stdout",
     "output_type": "stream",
     "text": [
      "+-------+-----------------+------------------+-----------------+------------------+-----------------+-----------------+-----------------+\n",
      "|summary|         genre_id|           song_id|          user_id|            rating|         album_id|        artist_id|       genre_name|\n",
      "+-------+-----------------+------------------+-----------------+------------------+-----------------+-----------------+-----------------+\n",
      "|  count|         76909821|          76909821|         76909821|          76909821|         76909821|         76909821|         76909821|\n",
      "|   mean|16.71748865466739| 68282.31141463715|499739.8884490057|3.1449157839022925|10361.01707300814|4777.406265254473|             NULL|\n",
      "| stddev|42.97725448796273|39461.157576042526|57941.97198095935|1.6034984369805325|5905.841225719627|2680.962658796122|             NULL|\n",
      "|    min|                0|                 0|           400000|                 1|                0|                0|Adult Alternative|\n",
      "|    max|               88|            136735|           599999|                 5|            20542|             9441|            World|\n",
      "+-------+-----------------+------------------+-----------------+------------------+-----------------+-----------------+-----------------+\n",
      "\n"
     ]
    },
    {
     "name": "stderr",
     "output_type": "stream",
     "text": [
      "                                                                                \r"
     ]
    }
   ],
   "source": [
    "df = cleaned_df(song_ratings, song_attributes,genre_hierarchy)"
   ]
  },
  {
   "cell_type": "code",
   "execution_count": 9,
   "id": "8ad03961",
   "metadata": {},
   "outputs": [
    {
     "name": "stderr",
     "output_type": "stream",
     "text": [
      "                                                                                \r"
     ]
    },
    {
     "data": {
      "text/plain": [
       "76909821"
      ]
     },
     "execution_count": 9,
     "metadata": {},
     "output_type": "execute_result"
    }
   ],
   "source": [
    "df.count()"
   ]
  },
  {
   "cell_type": "code",
   "execution_count": 10,
   "id": "f785a48a",
   "metadata": {},
   "outputs": [
    {
     "name": "stderr",
     "output_type": "stream",
     "text": [
      "[Stage 46:===================================================>      (8 + 1) / 9]\r"
     ]
    },
    {
     "name": "stdout",
     "output_type": "stream",
     "text": [
      "+-------+-------------+\n",
      "|user_id|ratings_count|\n",
      "+-------+-------------+\n",
      "| 400003|          256|\n",
      "| 400129|           50|\n",
      "| 400152|           98|\n",
      "| 400301|          365|\n",
      "| 400440|           26|\n",
      "| 400612|           57|\n",
      "| 400735|          302|\n",
      "| 400797|          151|\n",
      "| 400833|           59|\n",
      "| 400982|          677|\n",
      "| 401161|           28|\n",
      "| 401778|           33|\n",
      "| 401880|          393|\n",
      "| 401901|          668|\n",
      "| 402253|          151|\n",
      "| 402643|         2173|\n",
      "| 402896|          130|\n",
      "| 403340|         7566|\n",
      "| 403389|         1011|\n",
      "| 403422|           23|\n",
      "+-------+-------------+\n",
      "only showing top 20 rows\n",
      "\n"
     ]
    },
    {
     "name": "stderr",
     "output_type": "stream",
     "text": [
      "                                                                                \r"
     ]
    }
   ],
   "source": [
    "# get users rating count \n",
    "user_ratings_count = df.groupBy(\"user_id\").count()\n",
    "user_ratings_count = user_ratings_count.withColumnRenamed(\"count\", \"ratings_count\")\n",
    "user_ratings_count.show()"
   ]
  },
  {
   "cell_type": "code",
   "execution_count": 11,
   "id": "b493b408",
   "metadata": {},
   "outputs": [
    {
     "name": "stderr",
     "output_type": "stream",
     "text": [
      "[Stage 51:===================================================>      (8 + 1) / 9]\r"
     ]
    },
    {
     "name": "stdout",
     "output_type": "stream",
     "text": [
      "min_value 20 max_value 131523\n"
     ]
    },
    {
     "name": "stderr",
     "output_type": "stream",
     "text": [
      "                                                                                \r"
     ]
    }
   ],
   "source": [
    "from pyspark.sql.functions import min,max\n",
    "min_max_values = user_ratings_count.select(min(\"ratings_count\").alias(\"min_value\"), max(\"ratings_count\").alias(\"max_value\")).first()\n",
    "\n",
    "min_value = min_max_values[\"min_value\"]\n",
    "max_value = min_max_values[\"max_value\"]\n",
    "\n",
    "print(\"min_value\", min_value, \"max_value\", max_value)"
   ]
  },
  {
   "cell_type": "code",
   "execution_count": 12,
   "id": "8eac89b0",
   "metadata": {},
   "outputs": [
    {
     "name": "stderr",
     "output_type": "stream",
     "text": [
      "                                                                                \r"
     ]
    },
    {
     "data": {
      "image/png": "[encoded data removed]",
      "text/plain": [
       "<Figure size 1000x600 with 1 Axes>"
      ]
     },
     "metadata": {},
     "output_type": "display_data"
    },
    {
     "name": "stderr",
     "output_type": "stream",
     "text": [
      "[Stage 64:===================================================>      (8 + 1) / 9]\r"
     ]
    },
    {
     "name": "stdout",
     "output_type": "stream",
     "text": [
      "Total number of users: 200000\n"
     ]
    },
    {
     "name": "stderr",
     "output_type": "stream",
     "text": [
      "                                                                                \r"
     ]
    }
   ],
   "source": [
    "import matplotlib.pyplot as plt\n",
    "import seaborn as sns\n",
    "\n",
    "data= user_ratings_count.toPandas()\n",
    "\n",
    "#data = user_ratings_count.select(\"ratings_count\").rdd.flatMap(lambda x: x).collect()\n",
    "\n",
    "\n",
    "plt.figure(figsize=(10, 6))\n",
    "#sns.histplot(data, bins=50, kde=True)\n",
    "plt.hist(data['ratings_count'], bins=30, edgecolor='black')\n",
    "plt.title('Distribution of Rating Counts per User')\n",
    "plt.xlabel('Number of Ratings')\n",
    "plt.ylabel('Frequency')\n",
    "plt.show()\n",
    "\n",
    "total_users = user_ratings_count.count()\n",
    "print(\"Total number of users:\", total_users)"
   ]
  },
  {
   "cell_type": "code",
   "execution_count": 13,
   "id": "ada2d83b",
   "metadata": {},
   "outputs": [
    {
     "name": "stderr",
     "output_type": "stream",
     "text": [
      "[Stage 80:===================================================>      (8 + 1) / 9]\r"
     ]
    },
    {
     "name": "stdout",
     "output_type": "stream",
     "text": [
      "+-------+-------------+------------------+\n",
      "|user_id|ratings_count| log_ratings_count|\n",
      "+-------+-------------+------------------+\n",
      "| 400003|          256| 5.545177444479562|\n",
      "| 400129|           50| 3.912023005428146|\n",
      "| 400152|           98| 4.584967478670572|\n",
      "| 400301|          365|5.8998973535824915|\n",
      "| 400440|           26| 3.258096538021482|\n",
      "| 400612|           57|  4.04305126783455|\n",
      "| 400735|          302|  5.71042701737487|\n",
      "| 400797|          151| 5.017279836814924|\n",
      "| 400833|           59|  4.07753744390572|\n",
      "| 400982|          677| 6.517671272912275|\n",
      "| 401161|           28| 3.332204510175204|\n",
      "| 401778|           33|3.4965075614664802|\n",
      "| 401880|          393| 5.973809611869261|\n",
      "| 401901|          668| 6.504288173536645|\n",
      "| 402253|          151| 5.017279836814924|\n",
      "| 402643|         2173|7.6838639802564295|\n",
      "| 402896|          130| 4.867534450455582|\n",
      "| 403340|         7566| 8.931419805192975|\n",
      "| 403389|         1011| 6.918695219020472|\n",
      "| 403422|           23|3.1354942159291497|\n",
      "+-------+-------------+------------------+\n",
      "only showing top 20 rows\n",
      "\n"
     ]
    },
    {
     "name": "stderr",
     "output_type": "stream",
     "text": [
      "                                                                                \r"
     ]
    }
   ],
   "source": [
    "# normalization or log\n",
    "# log better addresses skewness so choose log\n",
    "from pyspark.sql.functions import log\n",
    "user_ratings_count[user_ratings_count['ratings_count'] == 0].count() # no zero\n",
    "user_ratings_count = user_ratings_count.withColumn('log_ratings_count', log(user_ratings_count['ratings_count']))  \n",
    "user_ratings_count.show()"
   ]
  },
  {
   "cell_type": "code",
   "execution_count": 14,
   "id": "701bc3d5",
   "metadata": {},
   "outputs": [
    {
     "name": "stderr",
     "output_type": "stream",
     "text": [
      "                                                                                \r"
     ]
    },
    {
     "data": {
      "image/png": "[encoded data removed]",
      "text/plain": [
       "<Figure size 640x480 with 1 Axes>"
      ]
     },
     "metadata": {},
     "output_type": "display_data"
    }
   ],
   "source": [
    "import matplotlib.pyplot as plt\n",
    "\n",
    "user_ratings_count_p = user_ratings_count.toPandas()\n",
    "\n",
    "plt.hist(user_ratings_count_p['log_ratings_count'], bins=30, edgecolor='black')\n",
    "plt.title('Logarithmic Transformation of User Ratings Count')\n",
    "plt.xlabel('User Ratings Count')\n",
    "plt.ylabel('Log Transformed Value')\n",
    "plt.show()"
   ]
  },
  {
   "cell_type": "code",
   "execution_count": 15,
   "id": "b8028f2c",
   "metadata": {},
   "outputs": [
    {
     "name": "stderr",
     "output_type": "stream",
     "text": [
      "                                                                                \r"
     ]
    }
   ],
   "source": [
    "from pyspark.sql.functions import log, col, abs, mean, stddev\n",
    "\n",
    "mean_log = user_ratings_count.select(mean(col(\"log_ratings_count\"))).collect()[0][0]\n",
    "stddev_log = user_ratings_count.select(stddev(col(\"log_ratings_count\"))).collect()[0][0]\n",
    "\n",
    "user_ratings_count = user_ratings_count.withColumn(\"z_score\", (col(\"log_ratings_count\") - mean_log) / stddev_log)\n",
    "user_ratings_count = user_ratings_count.withColumn(\"is_outlier\", abs(col(\"z_score\")) > 3) # threshold 3\n"
   ]
  },
  {
   "cell_type": "code",
   "execution_count": 16,
   "id": "674adb50",
   "metadata": {},
   "outputs": [
    {
     "name": "stderr",
     "output_type": "stream",
     "text": [
      "                                                                                \r"
     ]
    },
    {
     "name": "stdout",
     "output_type": "stream",
     "text": [
      "Original DataFrame: 200000\n"
     ]
    },
    {
     "name": "stderr",
     "output_type": "stream",
     "text": [
      "[Stage 114:==================================================>      (8 + 1) / 9]\r"
     ]
    },
    {
     "name": "stdout",
     "output_type": "stream",
     "text": [
      "Cleaned DataFrame (without outliers): 199593\n"
     ]
    },
    {
     "name": "stderr",
     "output_type": "stream",
     "text": [
      "                                                                                \r"
     ]
    }
   ],
   "source": [
    "user_ratings_count_cleaned = user_ratings_count.filter(col(\"is_outlier\") == False)\n",
    "print(\"Original DataFrame:\", user_ratings_count.count())\n",
    "print(\"Cleaned DataFrame (without outliers):\", user_ratings_count_cleaned.count())"
   ]
  },
  {
   "cell_type": "code",
   "execution_count": 17,
   "id": "cdbb8d84",
   "metadata": {},
   "outputs": [
    {
     "name": "stderr",
     "output_type": "stream",
     "text": [
      "[Stage 125:==================================================>      (8 + 1) / 9]\r"
     ]
    },
    {
     "name": "stdout",
     "output_type": "stream",
     "text": [
      "+-------+--------+-------+------+--------+---------+-----------+\n",
      "|user_id|genre_id|song_id|rating|album_id|artist_id| genre_name|\n",
      "+-------+--------+-------+------+--------+---------+-----------+\n",
      "| 400003|       0|    909|     5|   12325|     7868|    Unknown|\n",
      "| 400003|       0|   1078|     4|   15269|      443|    Unknown|\n",
      "| 400003|       0|   1244|     4|    4257|     6918|    Unknown|\n",
      "| 400003|       0|   3245|     3|   14647|     8510|    Unknown|\n",
      "| 400003|       0|   3378|     4|    1574|     1926|    Unknown|\n",
      "| 400003|       0|   5279|     5|   12268|     8543|    Unknown|\n",
      "| 400003|       0|   5448|     4|   12886|     7092|    Unknown|\n",
      "| 400003|       0|   7351|     4|    3442|     7254|    Unknown|\n",
      "| 400003|       0|   7475|     5|   18801|     5187|    Unknown|\n",
      "| 400003|     106|   9802|     3|    2136|     2640|        Pop|\n",
      "| 400003|       0|  11832|     5|   16836|     3279|    Unknown|\n",
      "| 400003|       0|  12383|     4|   10938|     9123|    Unknown|\n",
      "| 400003|       0|  13370|     5|    4257|     6918|    Unknown|\n",
      "| 400003|       0|  13436|     5|   20494|     1926|    Unknown|\n",
      "| 400003|       0|  13689|     5|    2515|     8828|    Unknown|\n",
      "| 400003|       0|  13932|     5|    2515|     8828|    Unknown|\n",
      "| 400003|       0|  14078|     3|   19162|     4293|    Unknown|\n",
      "| 400003|       0|  14363|     5|    7267|     6832|    Unknown|\n",
      "| 400003|      51|  14590|     5|   17823|     4343|Early Blues|\n",
      "| 400003|       0|  15012|     5|   12490|     9188|    Unknown|\n",
      "+-------+--------+-------+------+--------+---------+-----------+\n",
      "only showing top 20 rows\n",
      "\n"
     ]
    },
    {
     "name": "stderr",
     "output_type": "stream",
     "text": [
      "                                                                                \r"
     ]
    }
   ],
   "source": [
    "user_ratings_count_cleaned_df = df.join(user_ratings_count_cleaned.select(\"user_id\"), on=\"user_id\", how=\"inner\")\n",
    "user_ratings_count_cleaned_df.show()"
   ]
  },
  {
   "cell_type": "code",
   "execution_count": 18,
   "id": "3a4d8e34",
   "metadata": {},
   "outputs": [
    {
     "name": "stderr",
     "output_type": "stream",
     "text": [
      "                                                                                \r"
     ]
    },
    {
     "data": {
      "text/plain": [
       "72421169"
      ]
     },
     "execution_count": 18,
     "metadata": {},
     "output_type": "execute_result"
    }
   ],
   "source": [
    "user_ratings_count_cleaned_df.count()"
   ]
  },
  {
   "cell_type": "code",
   "execution_count": 19,
   "id": "1c596fb2",
   "metadata": {},
   "outputs": [],
   "source": [
    "## IQR way instead of log"
   ]
  },
  {
   "cell_type": "code",
   "execution_count": 20,
   "id": "f7e67727",
   "metadata": {},
   "outputs": [
    {
     "name": "stderr",
     "output_type": "stream",
     "text": [
      "[Stage 150:==================================================>      (8 + 1) / 9]\r"
     ]
    },
    {
     "name": "stdout",
     "output_type": "stream",
     "text": [
      "Data without Outliers: 173463\n"
     ]
    },
    {
     "name": "stderr",
     "output_type": "stream",
     "text": [
      "                                                                                \r"
     ]
    }
   ],
   "source": [
    "quantiles = user_ratings_count.approxQuantile(\"ratings_count\", [0.25, 0.75], 0.05)\n",
    "Q1 = quantiles[0]\n",
    "Q3 = quantiles[1]\n",
    "IQR = Q3 - Q1\n",
    "\n",
    "lower_bound = Q1 - (1.5 * IQR)\n",
    "upper_bound = Q3 + (1.5 * IQR)\n",
    "\n",
    "filtered_df = user_ratings_count.filter((col(\"ratings_count\") >= lower_bound) & (col(\"ratings_count\") <= upper_bound))\n",
    "\n",
    "print(\"Data without Outliers:\", filtered_df.count())"
   ]
  },
  {
   "cell_type": "code",
   "execution_count": 21,
   "id": "5ff53b59",
   "metadata": {},
   "outputs": [
    {
     "name": "stderr",
     "output_type": "stream",
     "text": [
      "                                                                                \r"
     ]
    },
    {
     "data": {
      "image/png": "[encoded data removed]",
      "text/plain": [
       "<Figure size 1000x600 with 1 Axes>"
      ]
     },
     "metadata": {},
     "output_type": "display_data"
    }
   ],
   "source": [
    "filtered_df_data= filtered_df.toPandas()\n",
    "\n",
    "plt.figure(figsize=(10, 6))\n",
    "#sns.histplot(data, bins=50, kde=True)\n",
    "plt.hist(filtered_df_data['ratings_count'], bins=30, edgecolor='black')\n",
    "plt.title('New Distribution of Rating Counts per User')\n",
    "plt.xlabel('Number of Ratings')\n",
    "plt.ylabel('Frequency')\n",
    "plt.show()"
   ]
  },
  {
   "cell_type": "code",
   "execution_count": 22,
   "id": "ef0cf5b1",
   "metadata": {},
   "outputs": [
    {
     "name": "stderr",
     "output_type": "stream",
     "text": [
      "[Stage 170:==========================================>              (3 + 1) / 4]\r"
     ]
    },
    {
     "name": "stdout",
     "output_type": "stream",
     "text": [
      "new dataset count 29381421\n"
     ]
    },
    {
     "name": "stderr",
     "output_type": "stream",
     "text": [
      "                                                                                \r"
     ]
    }
   ],
   "source": [
    "filtered_df_new = df.join(filtered_df.select(\"user_id\"), on=\"user_id\", how=\"inner\")\n",
    "print(\"new dataset count\", filtered_df_new.count())"
   ]
  },
  {
   "cell_type": "code",
   "execution_count": null,
   "id": "3e96d8cc",
   "metadata": {},
   "outputs": [],
   "source": []
  },
  {
   "cell_type": "code",
   "execution_count": 23,
   "id": "af329115",
   "metadata": {},
   "outputs": [],
   "source": [
    "# remove users instead?"
   ]
  },
  {
   "cell_type": "code",
   "execution_count": null,
   "id": "92539bb5",
   "metadata": {},
   "outputs": [],
   "source": []
  },
  {
   "cell_type": "code",
   "execution_count": 24,
   "id": "f04d8ee5",
   "metadata": {},
   "outputs": [],
   "source": [
    "# 0 - 800 reviews in first two bin\n",
    "#new_filtered = user_ratings_count.filter(user_ratings_count['ratings_count'] <= 800)\n",
    "#new_filtered.count()"
   ]
  },
  {
   "cell_type": "code",
   "execution_count": 25,
   "id": "289d8b7d",
   "metadata": {},
   "outputs": [],
   "source": [
    "#final_filtered_df = df.join(new_filtered.select(\"user_id\"), on=\"user_id\", how=\"inner\")"
   ]
  },
  {
   "cell_type": "code",
   "execution_count": 26,
   "id": "1abbfce2",
   "metadata": {},
   "outputs": [],
   "source": [
    "#final_filtered_df.show()"
   ]
  },
  {
   "cell_type": "code",
   "execution_count": null,
   "id": "4b2e8f6f",
   "metadata": {},
   "outputs": [],
   "source": []
  }
 ],
 "metadata": {
  "kernelspec": {
   "display_name": "Python 3 (ipykernel)",
   "language": "python",
   "name": "python3"
  },
  "language_info": {
   "codemirror_mode": {
    "name": "ipython",
    "version": 3
   },
   "file_extension": ".py",
   "mimetype": "text/x-python",
   "name": "python",
   "nbconvert_exporter": "python",
   "pygments_lexer": "ipython3",
   "version": "3.10.12"
  }
 },
 "nbformat": 4,
 "nbformat_minor": 5
}
