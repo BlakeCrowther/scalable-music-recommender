{
 "cells": [
  {
   "cell_type": "markdown",
   "id": "3f9e2e6f",
   "metadata": {},
   "source": [
    "# Preliminary EDA"
   ]
  },
  {
   "cell_type": "code",
   "execution_count": 6,
   "id": "a3f48982",
   "metadata": {},
   "outputs": [
    {
     "name": "stdout",
     "output_type": "stream",
     "text": [
      "The autoreload extension is already loaded. To reload it, use:\n",
      "  %reload_ext autoreload\n"
     ]
    }
   ],
   "source": [
    "# Suppress native-hadoop warning\n",
    "!sed -i '$a\\# Add the line for suppressing the NativeCodeLoader warning \\nlog4j.logger.org.apache.hadoop.util.NativeCodeLoader=ERROR,console' /$HADOOP_HOME/etc/hadoop/log4j.properties\n",
    "# Auto reload modules\n",
    "%load_ext autoreload\n",
    "%autoreload 2"
   ]
  },
  {
   "cell_type": "code",
   "execution_count": 7,
   "id": "fa7186d4",
   "metadata": {},
   "outputs": [],
   "source": [
    "import sys\n",
    "sys.path.append('/home/work')\n",
    "BASE_DIR = '/home/work'\n",
    "DATA_DIR = BASE_DIR + '/data'\n",
    "\n",
    "DATASET = '/processed/user_song_balanced'\n",
    "TRAIN_DIR = DATA_DIR + DATASET + '/train'\n",
    "TEST_DIR = DATA_DIR + DATASET + '/test'"
   ]
  },
  {
   "cell_type": "code",
   "execution_count": 8,
   "id": "c3d1de25",
   "metadata": {},
   "outputs": [],
   "source": [
    "import pyspark\n",
    "from pyspark.sql import SparkSession\n",
    "from pyspark.sql.functions import split, col, count, desc, min, max, log, abs, mean, stddev, row_number, rand\n",
    "from pyspark.sql.window import Window\n",
    "import pandas as pd\n",
    "import seaborn as sns\n",
    "import matplotlib.pyplot as plt\n",
    "\n",
    "from data.utils.data_loader import load_file_from_hdfs\n",
    "\n",
    "from preparation.utils.clean_data import cleaned_df"
   ]
  },
  {
   "cell_type": "code",
   "execution_count": 9,
   "id": "7521973c",
   "metadata": {},
   "outputs": [
    {
     "name": "stdout",
     "output_type": "stream",
     "text": [
      "('spark.app.startTime', '1717567058371')\n",
      "('spark.app.id', 'local-1717567059072')\n",
      "('spark.master', 'local[4]')\n",
      "('spark.sql.warehouse.dir', 'file:/home/spark-warehouse')\n",
      "('spark.executor.id', 'driver')\n",
      "('spark.app.submitTime', '1717567058284')\n",
      "('spark.driver.extraJavaOptions', '-Djava.net.preferIPv6Addresses=false -XX:+IgnoreUnrecognizedVMOptions --add-opens=java.base/java.lang=ALL-UNNAMED --add-opens=java.base/java.lang.invoke=ALL-UNNAMED --add-opens=java.base/java.lang.reflect=ALL-UNNAMED --add-opens=java.base/java.io=ALL-UNNAMED --add-opens=java.base/java.net=ALL-UNNAMED --add-opens=java.base/java.nio=ALL-UNNAMED --add-opens=java.base/java.util=ALL-UNNAMED --add-opens=java.base/java.util.concurrent=ALL-UNNAMED --add-opens=java.base/java.util.concurrent.atomic=ALL-UNNAMED --add-opens=java.base/sun.nio.ch=ALL-UNNAMED --add-opens=java.base/sun.nio.cs=ALL-UNNAMED --add-opens=java.base/sun.security.action=ALL-UNNAMED --add-opens=java.base/sun.util.calendar=ALL-UNNAMED --add-opens=java.security.jgss/sun.security.krb5=ALL-UNNAMED -Djdk.reflect.useDirectMethodHandle=false')\n",
      "('spark.driver.port', '34681')\n",
      "('spark.driver.host', 'f0b579cc86d8')\n",
      "('spark.rdd.compress', 'True')\n",
      "('spark.serializer.objectStreamReset', '100')\n",
      "('spark.submit.pyFiles', '')\n",
      "('spark.submit.deployMode', 'client')\n",
      "('spark.app.name', 'MusicRecommender')\n",
      "('spark.driver.memory', '14g')\n",
      "('spark.ui.showConsoleProgress', 'true')\n",
      "('spark.executor.extraJavaOptions', '-Djava.net.preferIPv6Addresses=false -XX:+IgnoreUnrecognizedVMOptions --add-opens=java.base/java.lang=ALL-UNNAMED --add-opens=java.base/java.lang.invoke=ALL-UNNAMED --add-opens=java.base/java.lang.reflect=ALL-UNNAMED --add-opens=java.base/java.io=ALL-UNNAMED --add-opens=java.base/java.net=ALL-UNNAMED --add-opens=java.base/java.nio=ALL-UNNAMED --add-opens=java.base/java.util=ALL-UNNAMED --add-opens=java.base/java.util.concurrent=ALL-UNNAMED --add-opens=java.base/java.util.concurrent.atomic=ALL-UNNAMED --add-opens=java.base/sun.nio.ch=ALL-UNNAMED --add-opens=java.base/sun.nio.cs=ALL-UNNAMED --add-opens=java.base/sun.security.action=ALL-UNNAMED --add-opens=java.base/sun.util.calendar=ALL-UNNAMED --add-opens=java.security.jgss/sun.security.krb5=ALL-UNNAMED -Djdk.reflect.useDirectMethodHandle=false')\n"
     ]
    }
   ],
   "source": [
    "conf = pyspark.SparkConf()\n",
    "settings = conf.getAll()\n",
    "\n",
    "# Set Spark Settings\n",
    "conf = pyspark.SparkConf().setAll([\n",
    "('spark.master', 'local[4]'),\n",
    "('spark.app.name', 'MusicRecommender'),\n",
    "('spark.driver.memory','14g')])\n",
    "spark = SparkSession.builder.config(conf=conf).getOrCreate()\n",
    "\n",
    "# Print the Spark Session settings\n",
    "settings = spark.sparkContext.getConf().getAll()\n",
    "for s in settings:\n",
    "    print(s)"
   ]
  },
  {
   "cell_type": "markdown",
   "id": "99ca54d5",
   "metadata": {},
   "source": [
    "Load choosen partition of song ratings, song attributes, and genre hierarchy."
   ]
  },
  {
   "cell_type": "code",
   "execution_count": 10,
   "id": "6d9846b6",
   "metadata": {},
   "outputs": [
    {
     "name": "stderr",
     "output_type": "stream",
     "text": [
      "                                                                                \r"
     ]
    }
   ],
   "source": [
    "song_ratings_train_file_path = \"/raw/train/train_2.txt\"\n",
    "song_ratings_train = load_file_from_hdfs(song_ratings_train_file_path)\n",
    "\n",
    "song_ratings_test_file_path = \"/raw/test/test_2.txt\"\n",
    "song_ratings_test = load_file_from_hdfs(song_ratings_test_file_path)\n",
    "\n",
    "song_ratings = song_ratings_train.union(song_ratings_test) # combine the train and test partition\n",
    "\n",
    "song_attributes_file_path = \"song-attributes.txt\"\n",
    "song_attributes = load_file_from_hdfs(song_attributes_file_path)\n",
    "\n",
    "genre_hierarchy_file_path = \"genre-hierarchy.txt\"\n",
    "genre_hierarchy = load_file_from_hdfs(genre_hierarchy_file_path)"
   ]
  },
  {
   "cell_type": "markdown",
   "id": "f997a1c0",
   "metadata": {},
   "source": [
    "Call cleaned_df function to get cleaned df from EDA"
   ]
  },
  {
   "cell_type": "code",
   "execution_count": 11,
   "id": "4155227c",
   "metadata": {},
   "outputs": [
    {
     "name": "stdout",
     "output_type": "stream",
     "text": [
      "root\n",
      " |-- user_id: integer (nullable = true)\n",
      " |-- song_id: integer (nullable = true)\n",
      " |-- rating: integer (nullable = true)\n",
      " |-- album_id: integer (nullable = true)\n",
      " |-- artist_id: integer (nullable = true)\n",
      " |-- genre_id: integer (nullable = true)\n",
      " |-- genre_name: string (nullable = true)\n",
      "\n"
     ]
    },
    {
     "name": "stderr",
     "output_type": "stream",
     "text": [
      "                                                                                \r"
     ]
    },
    {
     "name": "stdout",
     "output_type": "stream",
     "text": [
      "+-------+------------------+-----------------+------------------+------------------+------------------+------------------+-----------------+\n",
      "|summary|           user_id|          song_id|            rating|          album_id|         artist_id|          genre_id|       genre_name|\n",
      "+-------+------------------+-----------------+------------------+------------------+------------------+------------------+-----------------+\n",
      "|  count|          78909821|         78909821|          78909821|          78909821|          78909821|          78909821|         78909821|\n",
      "|   mean|499746.46840439545|68274.02707812504|3.1528440674070213|10361.592222392697|4776.0641216636395|16.666298850177345|             NULL|\n",
      "| stddev| 57936.75037674207|39459.18779033151|1.6030326088607252| 5906.090895444379| 2680.786813237493| 42.91624825455018|             NULL|\n",
      "|    min|            400000|                0|                 1|                 0|                 0|                 0|Adult Alternative|\n",
      "|    max|            599999|           136735|                 5|             20542|              9441|               215|            World|\n",
      "+-------+------------------+-----------------+------------------+------------------+------------------+------------------+-----------------+\n",
      "\n"
     ]
    },
    {
     "name": "stderr",
     "output_type": "stream",
     "text": [
      "                                                                                \r"
     ]
    },
    {
     "name": "stdout",
     "output_type": "stream",
     "text": [
      "Null Columns in cleaned df: {'user_id': 0, 'song_id': 0, 'rating': 0, 'album_id': 0, 'artist_id': 0, 'genre_id': 0, 'genre_name': 0}\n"
     ]
    }
   ],
   "source": [
    "df = cleaned_df(song_ratings, song_attributes, genre_hierarchy)"
   ]
  },
  {
   "cell_type": "code",
   "execution_count": 12,
   "id": "63819f80",
   "metadata": {},
   "outputs": [
    {
     "name": "stderr",
     "output_type": "stream",
     "text": [
      "                                                                                \r"
     ]
    },
    {
     "data": {
      "text/plain": [
       "78909821"
      ]
     },
     "execution_count": 12,
     "metadata": {},
     "output_type": "execute_result"
    }
   ],
   "source": [
    "df.count()"
   ]
  },
  {
   "cell_type": "markdown",
   "id": "8e1cfba3",
   "metadata": {},
   "source": [
    "Get users' rating count to ensure balanced distribution of ratings per user."
   ]
  },
  {
   "cell_type": "code",
   "execution_count": 13,
   "id": "0549c395",
   "metadata": {},
   "outputs": [
    {
     "name": "stderr",
     "output_type": "stream",
     "text": [
      "[Stage 50:===================================================>    (12 + 1) / 13]\r"
     ]
    },
    {
     "name": "stdout",
     "output_type": "stream",
     "text": [
      "+-------+-------------+\n",
      "|user_id|ratings_count|\n",
      "+-------+-------------+\n",
      "| 400003|          266|\n",
      "| 400129|           60|\n",
      "| 400152|          108|\n",
      "| 400301|          375|\n",
      "| 400440|           36|\n",
      "| 400612|           67|\n",
      "| 400735|          312|\n",
      "| 400797|          161|\n",
      "| 400833|           69|\n",
      "| 400982|          687|\n",
      "| 401161|           38|\n",
      "| 401778|           43|\n",
      "| 401880|          403|\n",
      "| 401901|          678|\n",
      "| 402253|          161|\n",
      "| 402643|         2183|\n",
      "| 402896|          140|\n",
      "| 403340|         7576|\n",
      "| 403389|         1021|\n",
      "| 403422|           33|\n",
      "+-------+-------------+\n",
      "only showing top 20 rows\n",
      "\n"
     ]
    },
    {
     "name": "stderr",
     "output_type": "stream",
     "text": [
      "                                                                                \r"
     ]
    }
   ],
   "source": [
    "user_ratings_count = df.groupBy(\"user_id\").count()\n",
    "user_ratings_count = user_ratings_count.withColumnRenamed(\"count\", \"ratings_count\")\n",
    "user_ratings_count.show()"
   ]
  },
  {
   "cell_type": "markdown",
   "id": "41cc41ce",
   "metadata": {},
   "source": [
    "Min and max values of users are quite different. There must be some outliers."
   ]
  },
  {
   "cell_type": "code",
   "execution_count": 14,
   "id": "5b4b54bb",
   "metadata": {},
   "outputs": [
    {
     "name": "stderr",
     "output_type": "stream",
     "text": [
      "[Stage 55:===================================================>    (12 + 1) / 13]\r"
     ]
    },
    {
     "name": "stdout",
     "output_type": "stream",
     "text": [
      "Minimum value: 30\n",
      "Maximum value: 131533\n"
     ]
    },
    {
     "name": "stderr",
     "output_type": "stream",
     "text": [
      "                                                                                \r"
     ]
    }
   ],
   "source": [
    "min_max_values = user_ratings_count.select(min(\"ratings_count\").alias(\"min_value\"), max(\"ratings_count\").alias(\"max_value\")).first()\n",
    "\n",
    "min_value = min_max_values[\"min_value\"]\n",
    "max_value = min_max_values[\"max_value\"]\n",
    "\n",
    "print(\"Minimum value:\", min_value)\n",
    "print(\"Maximum value:\", max_value)"
   ]
  },
  {
   "cell_type": "markdown",
   "id": "2073173e",
   "metadata": {},
   "source": [
    "As expected, distribution is extremely skewed, as shown in the histogram below. The are an extremely small amount of users who rated more than 10000 ratings. The distribution needs to be adjusted to account for outliers."
   ]
  },
  {
   "cell_type": "code",
   "execution_count": 15,
   "id": "b4b9af58",
   "metadata": {},
   "outputs": [
    {
     "name": "stderr",
     "output_type": "stream",
     "text": [
      "                                                                                \r"
     ]
    },
    {
     "data": {
      "image/png": "[encoded data removed]",
      "text/plain": [
       "<Figure size 1000x600 with 1 Axes>"
      ]
     },
     "metadata": {},
     "output_type": "display_data"
    },
    {
     "name": "stderr",
     "output_type": "stream",
     "text": [
      "[Stage 68:===================================================>    (12 + 1) / 13]\r"
     ]
    },
    {
     "name": "stdout",
     "output_type": "stream",
     "text": [
      "Total number of users: 200000\n"
     ]
    },
    {
     "name": "stderr",
     "output_type": "stream",
     "text": [
      "                                                                                \r"
     ]
    }
   ],
   "source": [
    "data= user_ratings_count.toPandas()\n",
    "\n",
    "plt.figure(figsize=(10, 6))\n",
    "plt.hist(data['ratings_count'], bins=30, edgecolor='black')\n",
    "plt.title('Distribution of Rating Counts per User')\n",
    "plt.xlabel('Number of Ratings')\n",
    "plt.ylabel('Frequency')\n",
    "plt.show()\n",
    "\n",
    "total_users = user_ratings_count.count()\n",
    "print(\"Total number of users:\", total_users)"
   ]
  },
  {
   "cell_type": "markdown",
   "id": "5817d9aa",
   "metadata": {},
   "source": [
    "Use log and z-score in attempts to find outliers."
   ]
  },
  {
   "cell_type": "code",
   "execution_count": 16,
   "id": "3f7205c1",
   "metadata": {},
   "outputs": [
    {
     "name": "stderr",
     "output_type": "stream",
     "text": [
      "                                                                                \r"
     ]
    }
   ],
   "source": [
    "user_ratings_count[user_ratings_count['ratings_count'] == 0].count() # no zero\n",
    "user_ratings_count = user_ratings_count.withColumn('log_ratings_count', log(user_ratings_count['ratings_count']))  "
   ]
  },
  {
   "cell_type": "code",
   "execution_count": 17,
   "id": "90fed0f0",
   "metadata": {},
   "outputs": [
    {
     "name": "stderr",
     "output_type": "stream",
     "text": [
      "                                                                                \r"
     ]
    }
   ],
   "source": [
    "mean_log = user_ratings_count.select(mean(col(\"log_ratings_count\"))).collect()[0][0]\n",
    "stddev_log = user_ratings_count.select(stddev(col(\"log_ratings_count\"))).collect()[0][0]\n",
    "\n",
    "user_ratings_count = user_ratings_count.withColumn(\"z_score\", (col(\"log_ratings_count\") - mean_log) / stddev_log)\n",
    "user_ratings_count = user_ratings_count.withColumn(\"is_outlier\", abs(col(\"z_score\")) > 3) # threshold 3"
   ]
  },
  {
   "cell_type": "code",
   "execution_count": 18,
   "id": "f70b928b",
   "metadata": {},
   "outputs": [
    {
     "name": "stderr",
     "output_type": "stream",
     "text": [
      "[Stage 100:==================================================>    (12 + 1) / 13]\r"
     ]
    },
    {
     "name": "stdout",
     "output_type": "stream",
     "text": [
      "User ratings dataFrame without outliers (log/z-score): 199351\n"
     ]
    },
    {
     "name": "stderr",
     "output_type": "stream",
     "text": [
      "                                                                                \r"
     ]
    }
   ],
   "source": [
    "user_ratings_count_cleaned = user_ratings_count.filter(col(\"is_outlier\") == False)\n",
    "print(\"User ratings dataFrame without outliers (log/z-score):\", user_ratings_count_cleaned.count())"
   ]
  },
  {
   "cell_type": "markdown",
   "id": "a5608861",
   "metadata": {},
   "source": [
    "Still extremely skewed with large range of ratings count. Removing outliers will also disable recommendations for those users."
   ]
  },
  {
   "cell_type": "code",
   "execution_count": 19,
   "id": "ee009c23",
   "metadata": {},
   "outputs": [
    {
     "name": "stderr",
     "output_type": "stream",
     "text": [
      "                                                                                \r"
     ]
    },
    {
     "data": {
      "image/png": "[encoded data removed]",
      "text/plain": [
       "<Figure size 1000x600 with 1 Axes>"
      ]
     },
     "metadata": {},
     "output_type": "display_data"
    }
   ],
   "source": [
    "user_ratings_count_cleaned_data = user_ratings_count_cleaned.toPandas()\n",
    "\n",
    "plt.figure(figsize=(10, 6))\n",
    "plt.hist(user_ratings_count_cleaned_data['ratings_count'], bins=30, edgecolor='black')\n",
    "plt.title('New Distribution of Rating Counts per User')\n",
    "plt.xlabel('Number of Ratings')\n",
    "plt.ylabel('Frequency')\n",
    "plt.show()"
   ]
  },
  {
   "cell_type": "code",
   "execution_count": 20,
   "id": "fb77b508",
   "metadata": {},
   "outputs": [
    {
     "name": "stderr",
     "output_type": "stream",
     "text": [
      "                                                                                \r"
     ]
    },
    {
     "data": {
      "text/plain": [
       "72806352"
      ]
     },
     "execution_count": 20,
     "metadata": {},
     "output_type": "execute_result"
    }
   ],
   "source": [
    "user_ratings_count_cleaned_df = df.join(user_ratings_count_cleaned.select(\"user_id\"), on=\"user_id\", how=\"inner\")\n",
    "user_ratings_count_cleaned_df.count() # number of ratings left"
   ]
  },
  {
   "cell_type": "markdown",
   "id": "bb3e5257",
   "metadata": {},
   "source": [
    "Use IQR, lower bound, upper bound to downsampled outliers instead"
   ]
  },
  {
   "cell_type": "code",
   "execution_count": 23,
   "id": "1a6c2bd2",
   "metadata": {},
   "outputs": [
    {
     "name": "stderr",
     "output_type": "stream",
     "text": [
      "                                                                                \r"
     ]
    },
    {
     "name": "stdout",
     "output_type": "stream",
     "text": [
      "Upper bound: 724.0\n"
     ]
    },
    {
     "name": "stderr",
     "output_type": "stream",
     "text": [
      "[Stage 164:==========================================>              (3 + 1) / 4]\r"
     ]
    },
    {
     "name": "stdout",
     "output_type": "stream",
     "text": [
      "Data count after downsampling outliers: 50296259\n"
     ]
    },
    {
     "name": "stderr",
     "output_type": "stream",
     "text": [
      "                                                                                \r"
     ]
    }
   ],
   "source": [
    "quantiles = user_ratings_count.approxQuantile(\"ratings_count\", [0.25, 0.75], 0.05)\n",
    "Q1 = quantiles[0]\n",
    "Q3 = quantiles[1]\n",
    "IQR = Q3 - Q1\n",
    "\n",
    "# lower_bound = Q1 - (1.5 * IQR)\n",
    "upper_bound = Q3 + (1.5 * IQR)\n",
    "print(\"Upper bound:\", upper_bound)\n",
    "\n",
    "filtered_below_upper_bound = user_ratings_count.filter(col(\"ratings_count\") < upper_bound)\n",
    "ratings_below_upper_bound = df.join(filtered_below_upper_bound, on=\"user_id\", how=\"inner\")\n",
    "users_above_upper_bound = user_ratings_count.filter(col(\"ratings_count\") > upper_bound)\n",
    "ratings_above_upper_bound = df.join(users_above_upper_bound, on=\"user_id\", how=\"inner\")\n",
    "\n",
    "# Shuffle user ratings above the upper bound\n",
    "ratings_with_random = ratings_above_upper_bound.withColumn(\"rand\", rand())\n",
    "window_spec = Window.partitionBy(\"user_id\").orderBy(\"rand\")\n",
    "\n",
    "# Sample ratings above the upper bound to match the number of ratings at the upper bound\n",
    "ratings_with_row_number = ratings_with_random.withColumn(\"row_number\", row_number().over(window_spec))\n",
    "resampled_ratings = ratings_with_row_number.filter(col(\"row_number\") <= upper_bound).drop(\"rand\", \"row_number\")\n",
    "\n",
    "filtered_df = ratings_below_upper_bound.union(resampled_ratings)\n",
    "\n",
    "print(\"Data count after downsampling outliers:\", filtered_df.count())"
   ]
  },
  {
   "cell_type": "markdown",
   "id": "63b2941a",
   "metadata": {},
   "source": [
    "Although it is still skewed, the distribution of rating counts per users is a lot less skewed. Therefore, we decided to use IQR, upper bound, and lower bound, to identify outliers."
   ]
  },
  {
   "cell_type": "code",
   "execution_count": 24,
   "id": "df64bf9b",
   "metadata": {},
   "outputs": [
    {
     "name": "stderr",
     "output_type": "stream",
     "text": [
      "                                                                                \r"
     ]
    },
    {
     "data": {
      "image/png": "[encoded data removed]",
      "text/plain": [
       "<Figure size 1000x600 with 1 Axes>"
      ]
     },
     "metadata": {},
     "output_type": "display_data"
    }
   ],
   "source": [
    "filtered_df_counts = filtered_df.groupBy(\"user_id\").count()\n",
    "filtered_df_counts = filtered_df_counts.withColumnRenamed(\"count\", \"ratings_count\")\n",
    "filtered_df_data = filtered_df_counts.toPandas()\n",
    "\n",
    "plt.figure(figsize=(10, 6))\n",
    "plt.hist(filtered_df_data['ratings_count'], bins=30, edgecolor='black')\n",
    "plt.title('New Distribution of Rating Counts per User')\n",
    "plt.xlabel('Number of Ratings')\n",
    "plt.ylabel('Frequency')\n",
    "plt.show()"
   ]
  },
  {
   "cell_type": "markdown",
   "id": "624e761c",
   "metadata": {},
   "source": [
    "Balance song distribution in same manner as user distribution."
   ]
  },
  {
   "cell_type": "code",
   "execution_count": 25,
   "id": "12f64c54",
   "metadata": {},
   "outputs": [
    {
     "name": "stderr",
     "output_type": "stream",
     "text": [
      "[Stage 182:==================================================>    (12 + 1) / 13]\r"
     ]
    },
    {
     "name": "stdout",
     "output_type": "stream",
     "text": [
      "+-------+-------------+\n",
      "|song_id|ratings_count|\n",
      "+-------+-------------+\n",
      "|  34759|        11156|\n",
      "|  43527|          126|\n",
      "|  67376|         4366|\n",
      "|  67753|          390|\n",
      "|  80332|         2808|\n",
      "| 113000|         4553|\n",
      "| 117437|         1349|\n",
      "| 133524|          157|\n",
      "| 126373|          925|\n",
      "|   1238|         4981|\n",
      "|  47084|          881|\n",
      "|   4935|         2878|\n",
      "|  25591|          135|\n",
      "|  29601|         2290|\n",
      "|  38422|          136|\n",
      "|  45341|          869|\n",
      "|  47711|         1125|\n",
      "|  82730|         1470|\n",
      "|  93341|         2060|\n",
      "| 128589|          211|\n",
      "+-------+-------------+\n",
      "only showing top 20 rows\n",
      "\n"
     ]
    },
    {
     "name": "stderr",
     "output_type": "stream",
     "text": [
      "                                                                                \r"
     ]
    }
   ],
   "source": [
    "song_ratings_count = df.groupBy(\"song_id\").count()\n",
    "song_ratings_count = song_ratings_count.withColumnRenamed(\"count\", \"ratings_count\")\n",
    "song_ratings_count.show()"
   ]
  },
  {
   "cell_type": "code",
   "execution_count": 26,
   "id": "5e07bd92",
   "metadata": {},
   "outputs": [
    {
     "name": "stderr",
     "output_type": "stream",
     "text": [
      "[Stage 187:==================================================>    (12 + 1) / 13]\r"
     ]
    },
    {
     "name": "stdout",
     "output_type": "stream",
     "text": [
      "Minimum value: 74\n",
      "Maximum value: 36810\n"
     ]
    },
    {
     "name": "stderr",
     "output_type": "stream",
     "text": [
      "                                                                                \r"
     ]
    }
   ],
   "source": [
    "min_max_values = song_ratings_count.select(min(\"ratings_count\").alias(\"min_value\"), max(\"ratings_count\").alias(\"max_value\")).first()\n",
    "\n",
    "min_value = min_max_values[\"min_value\"]\n",
    "max_value = min_max_values[\"max_value\"]\n",
    "\n",
    "print(\"Minimum value:\", min_value)\n",
    "print(\"Maximum value:\", max_value)"
   ]
  },
  {
   "cell_type": "markdown",
   "id": "b43a02a1",
   "metadata": {},
   "source": [
    "Similar to ratings per users, the range between the minimum and maximum is extremely big. Distribution is extremely skewed, as shown in the histogram below. The are an extremely small amount of songs with more than 5000 ratings. The distribution needs to be adjusted to account for outliers."
   ]
  },
  {
   "cell_type": "code",
   "execution_count": 27,
   "id": "5575b0e3",
   "metadata": {},
   "outputs": [
    {
     "name": "stderr",
     "output_type": "stream",
     "text": [
      "                                                                                \r"
     ]
    },
    {
     "data": {
      "image/png": "[encoded data removed]",
      "text/plain": [
       "<Figure size 1000x600 with 1 Axes>"
      ]
     },
     "metadata": {},
     "output_type": "display_data"
    },
    {
     "name": "stderr",
     "output_type": "stream",
     "text": [
      "[Stage 200:==================================================>    (12 + 1) / 13]\r"
     ]
    },
    {
     "name": "stdout",
     "output_type": "stream",
     "text": [
      "Total number of songs rated: 136736\n"
     ]
    },
    {
     "name": "stderr",
     "output_type": "stream",
     "text": [
      "                                                                                \r"
     ]
    }
   ],
   "source": [
    "data = song_ratings_count.toPandas()\n",
    "\n",
    "plt.figure(figsize=(10, 6))\n",
    "plt.hist(data['ratings_count'], bins=30, edgecolor='black')\n",
    "plt.title('Distribution of Rating Counts per Song')\n",
    "plt.xlabel('Number of Ratings')\n",
    "plt.ylabel('Frequency')\n",
    "plt.show()\n",
    "\n",
    "total_songs = song_ratings_count.count()\n",
    "print(\"Total number of songs rated:\", total_songs)"
   ]
  },
  {
   "cell_type": "code",
   "execution_count": 28,
   "id": "bd2f7c4b",
   "metadata": {},
   "outputs": [
    {
     "name": "stderr",
     "output_type": "stream",
     "text": [
      "                                                                                \r"
     ]
    },
    {
     "name": "stdout",
     "output_type": "stream",
     "text": [
      "Upper bound: 794.5\n"
     ]
    },
    {
     "name": "stderr",
     "output_type": "stream",
     "text": [
      "[Stage 217:=============================================>         (10 + 2) / 12]\r"
     ]
    },
    {
     "name": "stdout",
     "output_type": "stream",
     "text": [
      "Data count after downsampling song outliers: 46443280\n"
     ]
    },
    {
     "name": "stderr",
     "output_type": "stream",
     "text": [
      "                                                                                \r"
     ]
    }
   ],
   "source": [
    "quantiles = song_ratings_count.approxQuantile(\"ratings_count\", [0.25, 0.75], 0.05)\n",
    "Q1 = quantiles[0]\n",
    "Q3 = quantiles[1]\n",
    "IQR = Q3 - Q1\n",
    "\n",
    "# lower_bound = Q1 - (1.5 * IQR)\n",
    "upper_bound = Q3 + (1.5 * IQR)\n",
    "print(\"Upper bound:\", upper_bound)\n",
    "\n",
    "# filtered_song_df = song_ratings_count.filter((col(\"ratings_count\") >= lower_bound) & (col(\"ratings_count\") <= upper_bound))\n",
    "filtered_below_upper_bound = song_ratings_count.filter(col(\"ratings_count\") < upper_bound)\n",
    "ratings_below_upper_bound = df.join(filtered_below_upper_bound, on=\"song_id\", how=\"inner\")\n",
    "songs_above_upper_bound = song_ratings_count.filter(col(\"ratings_count\") > upper_bound)\n",
    "ratings_above_upper_bound = df.join(songs_above_upper_bound, on=\"song_id\", how=\"inner\")\n",
    "\n",
    "# Shuffle song ratings above the upper bound\n",
    "ratings_with_random = ratings_above_upper_bound.withColumn(\"rand\", rand())\n",
    "window_spec = Window.partitionBy(\"song_id\").orderBy(\"rand\")\n",
    "\n",
    "# Sample ratings above the upper bound to match the number of ratings at the upper bound\n",
    "ratings_with_row_number = ratings_with_random.withColumn(\"row_number\", row_number().over(window_spec))\n",
    "resampled_ratings = ratings_with_row_number.filter(col(\"row_number\") <= upper_bound).drop(\"rand\", \"row_number\")\n",
    "\n",
    "filtered_song_df = ratings_below_upper_bound.union(resampled_ratings)\n",
    "print(\"Data count after downsampling song outliers:\", filtered_song_df.count())"
   ]
  },
  {
   "cell_type": "code",
   "execution_count": 29,
   "id": "507c4cf7",
   "metadata": {},
   "outputs": [
    {
     "name": "stderr",
     "output_type": "stream",
     "text": [
      "                                                                                \r"
     ]
    },
    {
     "data": {
      "image/png": "[encoded data removed]",
      "text/plain": [
       "<Figure size 1000x600 with 1 Axes>"
      ]
     },
     "metadata": {},
     "output_type": "display_data"
    }
   ],
   "source": [
    "filtered_song_counts = filtered_song_df.groupBy(\"song_id\").count()\n",
    "filtered_song_counts = filtered_song_counts.withColumnRenamed(\"count\", \"ratings_count\")\n",
    "filtered_song_df_data = filtered_song_counts.toPandas()\n",
    "\n",
    "plt.figure(figsize=(10, 6))\n",
    "plt.hist(filtered_song_df_data['ratings_count'], bins=30, edgecolor='black')\n",
    "plt.title('New Distribution of Rating Counts per Song')\n",
    "plt.xlabel('Number of Ratings')\n",
    "plt.ylabel('Frequency')\n",
    "plt.show()"
   ]
  },
  {
   "cell_type": "markdown",
   "id": "a4ec1310",
   "metadata": {},
   "source": [
    "Similar to ratings per users, ratings count per songs are a lot less skewed with using IQR, upper bound, and lower bound to account for outliers."
   ]
  },
  {
   "cell_type": "code",
   "execution_count": 30,
   "id": "b5c710ba",
   "metadata": {},
   "outputs": [
    {
     "name": "stderr",
     "output_type": "stream",
     "text": [
      "[Stage 255:===================================================>   (14 + 1) / 15]\r"
     ]
    },
    {
     "name": "stdout",
     "output_type": "stream",
     "text": [
      "Dataset after joining downsampled user/song outliers: 26956383\n"
     ]
    },
    {
     "name": "stderr",
     "output_type": "stream",
     "text": [
      "                                                                                \r"
     ]
    }
   ],
   "source": [
    "filtered_user_song_df = filtered_df.join(filtered_song_df, on=[\"user_id\", \"song_id\"], how=\"inner\")\n",
    "print(\"Dataset after joining downsampled user/song outliers:\", filtered_user_song_df.count())"
   ]
  },
  {
   "cell_type": "code",
   "execution_count": 31,
   "id": "6d4a2b2c",
   "metadata": {},
   "outputs": [
    {
     "name": "stderr",
     "output_type": "stream",
     "text": [
      "                                                                                \r"
     ]
    },
    {
     "name": "stdout",
     "output_type": "stream",
     "text": [
      "+-------+-------+------+\n",
      "|user_id|song_id|rating|\n",
      "+-------+-------+------+\n",
      "| 400001|   3723|     5|\n",
      "| 400001| 105698|     5|\n",
      "| 400001|  30670|     4|\n",
      "| 400001|  82451|     5|\n",
      "| 400003|  57127|     4|\n",
      "| 400003|  78164|     5|\n",
      "| 400003|  85415|     4|\n",
      "| 400003| 116252|     5|\n",
      "| 400003|  61078|     5|\n",
      "| 400003| 113420|     4|\n",
      "| 400003|  39507|     5|\n",
      "| 400003|  49994|     4|\n",
      "| 400003|  74990|     5|\n",
      "| 400003| 110619|     4|\n",
      "| 400003| 108105|     5|\n",
      "| 400003|  88586|     4|\n",
      "| 400003|  61463|     4|\n",
      "| 400003|  73886|     4|\n",
      "| 400003|  67102|     4|\n",
      "| 400003| 133484|     4|\n",
      "+-------+-------+------+\n",
      "only showing top 20 rows\n",
      "\n"
     ]
    },
    {
     "name": "stderr",
     "output_type": "stream",
     "text": [
      "                                                                                \r"
     ]
    },
    {
     "name": "stdout",
     "output_type": "stream",
     "text": [
      "+-------+-------+------+\n",
      "|user_id|song_id|rating|\n",
      "+-------+-------+------+\n",
      "| 400001|  94466|     4|\n",
      "| 400001| 114356|     4|\n",
      "| 400001| 110318|     4|\n",
      "| 400001|  30670|     4|\n",
      "| 400001| 117092|     5|\n",
      "| 400001|  90136|     4|\n",
      "| 400001|  83509|     4|\n",
      "| 400001|   3723|     5|\n",
      "| 400001|  66132|     5|\n",
      "| 400001| 105698|     5|\n",
      "| 400003|  11832|     5|\n",
      "| 400003|  32908|     5|\n",
      "| 400003|  81897|     5|\n",
      "| 400003|  70537|     5|\n",
      "| 400003| 131358|     3|\n",
      "| 400003|  81473|     4|\n",
      "| 400003|  39768|     5|\n",
      "| 400003| 129582|     5|\n",
      "| 400003|  81526|     4|\n",
      "| 400003|  47025|     4|\n",
      "+-------+-------+------+\n",
      "only showing top 20 rows\n",
      "\n"
     ]
    },
    {
     "name": "stderr",
     "output_type": "stream",
     "text": [
      "                                                                                \r"
     ]
    },
    {
     "name": "stdout",
     "output_type": "stream",
     "text": [
      "Train data count: 24981650\n"
     ]
    },
    {
     "name": "stderr",
     "output_type": "stream",
     "text": [
      "                                                                                \r"
     ]
    },
    {
     "name": "stdout",
     "output_type": "stream",
     "text": [
      "Test data count: 1974733\n"
     ]
    }
   ],
   "source": [
    "# Create train test split such that there is still at least 10 random ratings per user in the test set\n",
    "filtered_user_song_df = filtered_user_song_df.select(\"user_id\", \"song_id\", filtered_df[\"rating\"])\n",
    "\n",
    "# Shuffle the data\n",
    "shuffled_df = filtered_user_song_df.orderBy(rand())\n",
    "\n",
    "# Assign row numbers within each user_id partition\n",
    "window = Window.partitionBy(\"user_id\").orderBy(rand())\n",
    "df = shuffled_df.withColumn(\"row_number\", row_number().over(window))\n",
    "\n",
    "train_df = df.filter(col(\"row_number\") > 10)\n",
    "test_df = df.filter(col(\"row_number\") <= 10)\n",
    "\n",
    "train_df = train_df.drop(\"row_number\")\n",
    "test_df = test_df.drop(\"row_number\")\n",
    "train_df.show(20)\n",
    "test_df.show(20)\n",
    "print(\"Train data count:\", train_df.count())\n",
    "print(\"Test data count:\", test_df.count())"
   ]
  },
  {
   "cell_type": "markdown",
   "id": "b81509b6",
   "metadata": {},
   "source": [
    "Save the dataset locally to use to train model after loading it to HDFS."
   ]
  },
  {
   "cell_type": "code",
   "execution_count": 32,
   "id": "65fd7e39",
   "metadata": {},
   "outputs": [
    {
     "name": "stderr",
     "output_type": "stream",
     "text": [
      "[Stage 521:> (4 + 4) / 13][Stage 522:> (0 + 0) / 13][Stage 523:> (0 + 0) / 13]  \r"
     ]
    }
   ],
   "source": [
    "# Make dirs if not exist\n",
    "!mkdir -p $TRAIN_DIR\n",
    "!mkdir -p $TEST_DIR\n",
    "\n",
    "# Save Train to local\n",
    "train_df = train_df.coalesce(1)\n",
    "test_df = test_df.coalesce(1)\n",
    "train_df.write.csv(f\"file://{TRAIN_DIR}/temp\", header=False, mode=\"overwrite\", sep=\"\\t\")\n",
    "test_df.write.csv(f\"file://{TEST_DIR}/temp\", header=False, mode=\"overwrite\", sep=\"\\t\")"
   ]
  },
  {
   "cell_type": "code",
   "execution_count": null,
   "id": "d82e3b53",
   "metadata": {},
   "outputs": [],
   "source": [
    "# Move to single file\n",
    "! rm -rf $TRAIN_DIR/train_0.txt\n",
    "! mv $TRAIN_DIR/temp/part-00000* $TRAIN_DIR/train_0.txt\n",
    "! rm -rf $TEST_DIR/test_0.txt\n",
    "! mv $TEST_DIR/temp/part-00000* $TEST_DIR/test_0.txt\n",
    "\n",
    "# Clean up\n",
    "! rm -rf $TRAIN_DIR/temp\n",
    "! rm -rf $TEST_DIR/temp"
   ]
  },
  {
   "cell_type": "code",
   "execution_count": null,
   "id": "05f8ec1d",
   "metadata": {},
   "outputs": [],
   "source": []
  }
 ],
 "metadata": {
  "kernelspec": {
   "display_name": "Python 3 (ipykernel)",
   "language": "python",
   "name": "python3"
  },
  "language_info": {
   "codemirror_mode": {
    "name": "ipython",
    "version": 3
   },
   "file_extension": ".py",
   "mimetype": "text/x-python",
   "name": "python",
   "nbconvert_exporter": "python",
   "pygments_lexer": "ipython3",
   "version": "3.10.12"
  }
 },
 "nbformat": 4,
 "nbformat_minor": 5
}
