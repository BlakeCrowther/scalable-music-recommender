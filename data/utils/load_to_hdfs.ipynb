{
 "cells": [
  {
   "cell_type": "code",
   "execution_count": 1,
   "metadata": {},
   "outputs": [],
   "source": [
    "import subprocess\n",
    "import os"
   ]
  },
  {
   "cell_type": "code",
   "execution_count": 2,
   "metadata": {},
   "outputs": [],
   "source": [
    "# Suppress native-hadoop warning\n",
    "!sed -i '$a\\# Add the line for suppressing the NativeCodeLoader warning \\nlog4j.logger.org.apache.hadoop.util.NativeCodeLoader=ERROR,console' /$HADOOP_HOME/etc/hadoop/log4j.properties"
   ]
  },
  {
   "cell_type": "code",
   "execution_count": 3,
   "metadata": {},
   "outputs": [],
   "source": [
    "def load_to_hdfs(user, path):\n",
    "    if user == '':\n",
    "        print('User not specified. For shared directory, use \"hadoop\" as user.')\n",
    "        return\n",
    "\n",
    "    # Get the current working directory\n",
    "    base_dir = os.getcwd()\n",
    "    data_dir = os.path.join(base_dir, 'work', 'data')\n",
    "\n",
    "    dataset_dirs = [os.path.join(data_dir, 'train'), os.path.join(data_dir, 'test')]\n",
    "    if path == 'train':\n",
    "        dataset_dirs = [os.path.join(data_dir, 'train')]\n",
    "    if path == 'test':\n",
    "        dataset_dirs = [os.path.join(data_dir, 'test')]\n",
    "\n",
    "    # Load dir to hdfs\n",
    "    for path in dataset_dirs:\n",
    "        subprocess.run(['hdfs', 'dfs', '-mkdir', '-p', f'/user/{user}/data'])\n",
    "        subprocess.run(['hdfs', 'dfs', '-put', path, f'/user/{user}/data'])"
   ]
  },
  {
   "cell_type": "code",
   "execution_count": 4,
   "metadata": {},
   "outputs": [],
   "source": [
    "# users = ['hadoop', 'blake', 'thanya', 'jennifer']\n",
    "users = ['hadoop']\n",
    "for user in users:\n",
    "    load_to_hdfs(user, 'train')\n",
    "    load_to_hdfs(user, 'test')"
   ]
  },
  {
   "cell_type": "code",
   "execution_count": 5,
   "metadata": {},
   "outputs": [
    {
     "name": "stdout",
     "output_type": "stream",
     "text": [
      "\n",
      "Listing directories for user: hadoop\n",
      "Found 10 items\n",
      "-rw-r--r--   1 root supergroup 1116948159 2024-05-03 05:10 /user/hadoop/data/train/train_0.txt\n",
      "-rw-r--r--   1 root supergroup 1165261648 2024-05-03 05:10 /user/hadoop/data/train/train_1.txt\n",
      "-rw-r--r--   1 root supergroup 1167807043 2024-05-03 05:10 /user/hadoop/data/train/train_2.txt\n",
      "-rw-r--r--   1 root supergroup 1168046738 2024-05-03 05:10 /user/hadoop/data/train/train_3.txt\n",
      "-rw-r--r--   1 root supergroup 1167900398 2024-05-03 05:10 /user/hadoop/data/train/train_4.txt\n",
      "-rw-r--r--   1 root supergroup 1243252130 2024-05-03 05:10 /user/hadoop/data/train/train_5.txt\n",
      "-rw-r--r--   1 root supergroup 1241075737 2024-05-03 05:10 /user/hadoop/data/train/train_6.txt\n",
      "-rw-r--r--   1 root supergroup 1241481728 2024-05-03 05:10 /user/hadoop/data/train/train_7.txt\n",
      "-rw-r--r--   1 root supergroup 1241984479 2024-05-03 05:10 /user/hadoop/data/train/train_8.txt\n",
      "-rw-r--r--   1 root supergroup  143179231 2024-05-03 05:10 /user/hadoop/data/train/train_9.txt\n"
     ]
    }
   ],
   "source": [
    "# list directories in hdfs for all users\n",
    "for user in users:\n",
    "    print(f'\\nListing directories for user: {user}')\n",
    "    subprocess.run(['hdfs', 'dfs', '-ls', f'/user/{user}/data/train'])"
   ]
  },
  {
   "cell_type": "code",
   "execution_count": null,
   "metadata": {},
   "outputs": [],
   "source": []
  }
 ],
 "metadata": {
  "kernelspec": {
   "display_name": "Python 3 (ipykernel)",
   "language": "python",
   "name": "python3"
  },
  "language_info": {
   "codemirror_mode": {
    "name": "ipython",
    "version": 3
   },
   "file_extension": ".py",
   "mimetype": "text/x-python",
   "name": "python",
   "nbconvert_exporter": "python",
   "pygments_lexer": "ipython3",
   "version": "3.10.12"
  }
 },
 "nbformat": 4,
 "nbformat_minor": 2
}
