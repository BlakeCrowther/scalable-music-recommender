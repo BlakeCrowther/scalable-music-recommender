{
 "cells": [
  {
   "cell_type": "code",
   "execution_count": 30,
   "metadata": {},
   "outputs": [],
   "source": [
    "import subprocess\n",
    "import os"
   ]
  },
  {
   "cell_type": "code",
   "execution_count": 35,
   "metadata": {},
   "outputs": [],
   "source": [
    "def load_to_hdfs(user, path):\n",
    "    if user == '':\n",
    "        print('User not specified. For shared directory, use \"hadoop\" as user.')\n",
    "        return\n",
    "\n",
    "    # Get the current working directory\n",
    "    base_dir = os.getcwd()\n",
    "    data_dir = os.path.join(base_dir, 'work', 'data')\n",
    "\n",
    "    dataset_dirs = [os.path.join(data_dir, 'train'), os.path.join(data_dir, 'test')]\n",
    "    if path == 'train':\n",
    "        dataset_dirs = [os.path.join(data_dir, 'train')]\n",
    "    if path == 'test':\n",
    "        dataset_dirs = [os.path.join(data_dir, 'test')]\n",
    "\n",
    "    # Load dir to hdfs\n",
    "    for path in dataset_dirs:\n",
    "        subprocess.run(['hdfs', 'dfs', '-put', path, f'/user/{user}/data'])"
   ]
  },
  {
   "cell_type": "code",
   "execution_count": 40,
   "metadata": {},
   "outputs": [],
   "source": [
    "users = ['hadoop', 'blake', 'thanya', 'jennifer']\n",
    "# users = ['']\n",
    "# for user in users:\n",
    "#     load_to_hdfs(user, '')"
   ]
  },
  {
   "cell_type": "code",
   "execution_count": 43,
   "metadata": {},
   "outputs": [
    {
     "name": "stdout",
     "output_type": "stream",
     "text": [
      "\n",
      "Listing directories for user: hadoop\n"
     ]
    },
    {
     "name": "stderr",
     "output_type": "stream",
     "text": [
      "2024-04-28 21:11:32,545 WARN util.NativeCodeLoader: Unable to load native-hadoop library for your platform... using builtin-java classes where applicable\n"
     ]
    },
    {
     "name": "stdout",
     "output_type": "stream",
     "text": [
      "Found 10 items\n",
      "-rw-r--r--   1 root supergroup 1116948159 2024-04-28 04:04 /user/hadoop/data/train/train_0.txt\n",
      "-rw-r--r--   1 root supergroup 1165261648 2024-04-28 04:04 /user/hadoop/data/train/train_1.txt\n",
      "-rw-r--r--   1 root supergroup 1167807043 2024-04-28 04:04 /user/hadoop/data/train/train_2.txt\n",
      "-rw-r--r--   1 root supergroup 1168046738 2024-04-28 04:04 /user/hadoop/data/train/train_3.txt\n",
      "-rw-r--r--   1 root supergroup 1167900398 2024-04-28 04:04 /user/hadoop/data/train/train_4.txt\n",
      "-rw-r--r--   1 root supergroup 1243252130 2024-04-28 04:04 /user/hadoop/data/train/train_5.txt\n",
      "-rw-r--r--   1 root supergroup 1241075737 2024-04-28 04:04 /user/hadoop/data/train/train_6.txt\n",
      "-rw-r--r--   1 root supergroup 1241481728 2024-04-28 04:03 /user/hadoop/data/train/train_7.txt\n",
      "-rw-r--r--   1 root supergroup 1241984479 2024-04-28 04:03 /user/hadoop/data/train/train_8.txt\n",
      "-rw-r--r--   1 root supergroup  143179231 2024-04-28 04:03 /user/hadoop/data/train/train_9.txt\n",
      "\n",
      "Listing directories for user: blake\n"
     ]
    },
    {
     "name": "stderr",
     "output_type": "stream",
     "text": [
      "2024-04-28 21:11:33,531 WARN util.NativeCodeLoader: Unable to load native-hadoop library for your platform... using builtin-java classes where applicable\n"
     ]
    },
    {
     "name": "stdout",
     "output_type": "stream",
     "text": [
      "Found 10 items\n",
      "-rw-r--r--   1 root supergroup 1116948159 2024-04-28 04:04 /user/blake/data/train/train_0.txt\n",
      "-rw-r--r--   1 root supergroup 1165261648 2024-04-28 04:04 /user/blake/data/train/train_1.txt\n",
      "-rw-r--r--   1 root supergroup 1167807043 2024-04-28 04:04 /user/blake/data/train/train_2.txt\n",
      "-rw-r--r--   1 root supergroup 1168046738 2024-04-28 04:04 /user/blake/data/train/train_3.txt\n",
      "-rw-r--r--   1 root supergroup 1167900398 2024-04-28 04:04 /user/blake/data/train/train_4.txt\n",
      "-rw-r--r--   1 root supergroup 1243252130 2024-04-28 04:04 /user/blake/data/train/train_5.txt\n",
      "-rw-r--r--   1 root supergroup 1241075737 2024-04-28 04:04 /user/blake/data/train/train_6.txt\n",
      "-rw-r--r--   1 root supergroup 1241481728 2024-04-28 04:04 /user/blake/data/train/train_7.txt\n",
      "-rw-r--r--   1 root supergroup 1241984479 2024-04-28 04:04 /user/blake/data/train/train_8.txt\n",
      "-rw-r--r--   1 root supergroup  143179231 2024-04-28 04:04 /user/blake/data/train/train_9.txt\n",
      "\n",
      "Listing directories for user: thanya\n"
     ]
    },
    {
     "name": "stderr",
     "output_type": "stream",
     "text": [
      "2024-04-28 21:11:34,272 WARN util.NativeCodeLoader: Unable to load native-hadoop library for your platform... using builtin-java classes where applicable\n"
     ]
    },
    {
     "name": "stdout",
     "output_type": "stream",
     "text": [
      "Found 10 items\n",
      "-rw-r--r--   1 root supergroup 1116948159 2024-04-28 04:05 /user/thanya/data/train/train_0.txt\n",
      "-rw-r--r--   1 root supergroup 1165261648 2024-04-28 04:05 /user/thanya/data/train/train_1.txt\n",
      "-rw-r--r--   1 root supergroup 1167807043 2024-04-28 04:05 /user/thanya/data/train/train_2.txt\n",
      "-rw-r--r--   1 root supergroup 1168046738 2024-04-28 04:05 /user/thanya/data/train/train_3.txt\n",
      "-rw-r--r--   1 root supergroup 1167900398 2024-04-28 04:05 /user/thanya/data/train/train_4.txt\n",
      "-rw-r--r--   1 root supergroup 1243252130 2024-04-28 04:05 /user/thanya/data/train/train_5.txt\n",
      "-rw-r--r--   1 root supergroup 1241075737 2024-04-28 04:05 /user/thanya/data/train/train_6.txt\n",
      "-rw-r--r--   1 root supergroup 1241481728 2024-04-28 04:04 /user/thanya/data/train/train_7.txt\n",
      "-rw-r--r--   1 root supergroup 1241984479 2024-04-28 04:04 /user/thanya/data/train/train_8.txt\n",
      "-rw-r--r--   1 root supergroup  143179231 2024-04-28 04:04 /user/thanya/data/train/train_9.txt\n",
      "\n",
      "Listing directories for user: jennifer\n"
     ]
    },
    {
     "name": "stderr",
     "output_type": "stream",
     "text": [
      "2024-04-28 21:11:35,042 WARN util.NativeCodeLoader: Unable to load native-hadoop library for your platform... using builtin-java classes where applicable\n"
     ]
    },
    {
     "name": "stdout",
     "output_type": "stream",
     "text": [
      "Found 10 items\n",
      "-rw-r--r--   1 root supergroup 1116948159 2024-04-28 04:05 /user/jennifer/data/train/train_0.txt\n",
      "-rw-r--r--   1 root supergroup 1165261648 2024-04-28 04:05 /user/jennifer/data/train/train_1.txt\n",
      "-rw-r--r--   1 root supergroup 1167807043 2024-04-28 04:05 /user/jennifer/data/train/train_2.txt\n",
      "-rw-r--r--   1 root supergroup 1168046738 2024-04-28 04:05 /user/jennifer/data/train/train_3.txt\n",
      "-rw-r--r--   1 root supergroup 1167900398 2024-04-28 04:05 /user/jennifer/data/train/train_4.txt\n",
      "-rw-r--r--   1 root supergroup 1243252130 2024-04-28 04:05 /user/jennifer/data/train/train_5.txt\n",
      "-rw-r--r--   1 root supergroup 1241075737 2024-04-28 04:05 /user/jennifer/data/train/train_6.txt\n",
      "-rw-r--r--   1 root supergroup 1241481728 2024-04-28 04:05 /user/jennifer/data/train/train_7.txt\n",
      "-rw-r--r--   1 root supergroup 1241984479 2024-04-28 04:05 /user/jennifer/data/train/train_8.txt\n",
      "-rw-r--r--   1 root supergroup  143179231 2024-04-28 04:05 /user/jennifer/data/train/train_9.txt\n"
     ]
    }
   ],
   "source": [
    "# list directories in hdfs for all users\n",
    "for user in users:\n",
    "    print(f'\\nListing directories for user: {user}')\n",
    "    subprocess.run(['hdfs', 'dfs', '-ls', f'/user/{user}/data/train'])"
   ]
  },
  {
   "cell_type": "code",
   "execution_count": null,
   "metadata": {},
   "outputs": [],
   "source": []
  }
 ],
 "metadata": {
  "kernelspec": {
   "display_name": "Python 3 (ipykernel)",
   "language": "python",
   "name": "python3"
  },
  "language_info": {
   "codemirror_mode": {
    "name": "ipython",
    "version": 3
   },
   "file_extension": ".py",
   "mimetype": "text/x-python",
   "name": "python",
   "nbconvert_exporter": "python",
   "pygments_lexer": "ipython3",
   "version": "3.11.0rc1"
  }
 },
 "nbformat": 4,
 "nbformat_minor": 2
}
